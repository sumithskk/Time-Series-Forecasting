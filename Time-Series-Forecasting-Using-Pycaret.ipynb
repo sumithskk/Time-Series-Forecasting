{
  "nbformat": 4,
  "nbformat_minor": 0,
  "metadata": {
    "colab": {
      "name": "TINO IQ Internship.ipynb",
      "provenance": [],
      "collapsed_sections": [
        "lTuFCpn3t7cj",
        "1YYj4Vieyn0o",
        "3V9WA-l2115v",
        "dsYd8G-cUVaQ"
      ]
    },
    "kernelspec": {
      "name": "python3",
      "display_name": "Python 3"
    },
    "language_info": {
      "name": "python"
    },
    "widgets": {
      "application/vnd.jupyter.widget-state+json": {
        "3b3c04c2c3be498e851d17489b805cd6": {
          "model_module": "@jupyter-widgets/controls",
          "model_name": "IntProgressModel",
          "model_module_version": "1.5.0",
          "state": {
            "_view_name": "ProgressView",
            "style": "IPY_MODEL_e01aefde40c0425c9ee94830c12d830f",
            "_dom_classes": [],
            "description": "Processing: ",
            "_model_name": "IntProgressModel",
            "bar_style": "",
            "max": 89,
            "_view_module": "@jupyter-widgets/controls",
            "_model_module_version": "1.5.0",
            "value": 89,
            "_view_count": null,
            "_view_module_version": "1.5.0",
            "orientation": "horizontal",
            "min": 0,
            "description_tooltip": null,
            "_model_module": "@jupyter-widgets/controls",
            "layout": "IPY_MODEL_0c282ba107c94ebb9cfc39d21f37a44c"
          }
        },
        "e01aefde40c0425c9ee94830c12d830f": {
          "model_module": "@jupyter-widgets/controls",
          "model_name": "ProgressStyleModel",
          "model_module_version": "1.5.0",
          "state": {
            "_view_name": "StyleView",
            "_model_name": "ProgressStyleModel",
            "description_width": "",
            "_view_module": "@jupyter-widgets/base",
            "_model_module_version": "1.5.0",
            "_view_count": null,
            "_view_module_version": "1.2.0",
            "bar_color": null,
            "_model_module": "@jupyter-widgets/controls"
          }
        },
        "0c282ba107c94ebb9cfc39d21f37a44c": {
          "model_module": "@jupyter-widgets/base",
          "model_name": "LayoutModel",
          "model_module_version": "1.2.0",
          "state": {
            "_view_name": "LayoutView",
            "grid_template_rows": null,
            "right": null,
            "justify_content": null,
            "_view_module": "@jupyter-widgets/base",
            "overflow": null,
            "_model_module_version": "1.2.0",
            "_view_count": null,
            "flex_flow": null,
            "width": null,
            "min_width": null,
            "border": null,
            "align_items": null,
            "bottom": null,
            "_model_module": "@jupyter-widgets/base",
            "top": null,
            "grid_column": null,
            "overflow_y": null,
            "overflow_x": null,
            "grid_auto_flow": null,
            "grid_area": null,
            "grid_template_columns": null,
            "flex": null,
            "_model_name": "LayoutModel",
            "justify_items": null,
            "grid_row": null,
            "max_height": null,
            "align_content": null,
            "visibility": null,
            "align_self": null,
            "height": null,
            "min_height": null,
            "padding": null,
            "grid_auto_rows": null,
            "grid_gap": null,
            "max_width": null,
            "order": null,
            "_view_module_version": "1.2.0",
            "grid_template_areas": null,
            "object_position": null,
            "object_fit": null,
            "grid_auto_columns": null,
            "margin": null,
            "display": null,
            "left": null
          }
        },
        "31049a1f2d3643498c42816a9867e7fc": {
          "model_module": "@jupyter-widgets/controls",
          "model_name": "IntProgressModel",
          "model_module_version": "1.5.0",
          "state": {
            "_view_name": "ProgressView",
            "style": "IPY_MODEL_ae68fd66ecbf422099ec5b38914d5f20",
            "_dom_classes": [],
            "description": "Processing: ",
            "_model_name": "IntProgressModel",
            "bar_style": "",
            "max": 89,
            "_view_module": "@jupyter-widgets/controls",
            "_model_module_version": "1.5.0",
            "value": 89,
            "_view_count": null,
            "_view_module_version": "1.5.0",
            "orientation": "horizontal",
            "min": 0,
            "description_tooltip": null,
            "_model_module": "@jupyter-widgets/controls",
            "layout": "IPY_MODEL_d3cbf6d820f64d428a3de91571feeefe"
          }
        },
        "ae68fd66ecbf422099ec5b38914d5f20": {
          "model_module": "@jupyter-widgets/controls",
          "model_name": "ProgressStyleModel",
          "model_module_version": "1.5.0",
          "state": {
            "_view_name": "StyleView",
            "_model_name": "ProgressStyleModel",
            "description_width": "",
            "_view_module": "@jupyter-widgets/base",
            "_model_module_version": "1.5.0",
            "_view_count": null,
            "_view_module_version": "1.2.0",
            "bar_color": null,
            "_model_module": "@jupyter-widgets/controls"
          }
        },
        "d3cbf6d820f64d428a3de91571feeefe": {
          "model_module": "@jupyter-widgets/base",
          "model_name": "LayoutModel",
          "model_module_version": "1.2.0",
          "state": {
            "_view_name": "LayoutView",
            "grid_template_rows": null,
            "right": null,
            "justify_content": null,
            "_view_module": "@jupyter-widgets/base",
            "overflow": null,
            "_model_module_version": "1.2.0",
            "_view_count": null,
            "flex_flow": null,
            "width": null,
            "min_width": null,
            "border": null,
            "align_items": null,
            "bottom": null,
            "_model_module": "@jupyter-widgets/base",
            "top": null,
            "grid_column": null,
            "overflow_y": null,
            "overflow_x": null,
            "grid_auto_flow": null,
            "grid_area": null,
            "grid_template_columns": null,
            "flex": null,
            "_model_name": "LayoutModel",
            "justify_items": null,
            "grid_row": null,
            "max_height": null,
            "align_content": null,
            "visibility": null,
            "align_self": null,
            "height": null,
            "min_height": null,
            "padding": null,
            "grid_auto_rows": null,
            "grid_gap": null,
            "max_width": null,
            "order": null,
            "_view_module_version": "1.2.0",
            "grid_template_areas": null,
            "object_position": null,
            "object_fit": null,
            "grid_auto_columns": null,
            "margin": null,
            "display": null,
            "left": null
          }
        },
        "aadb4428db4c47dfaed40f774d61e0f0": {
          "model_module": "@jupyter-widgets/controls",
          "model_name": "IntProgressModel",
          "model_module_version": "1.5.0",
          "state": {
            "_view_name": "ProgressView",
            "style": "IPY_MODEL_debf481beee04696b1f4c0de45f4772b",
            "_dom_classes": [],
            "description": "Processing: ",
            "_model_name": "IntProgressModel",
            "bar_style": "",
            "max": 7,
            "_view_module": "@jupyter-widgets/controls",
            "_model_module_version": "1.5.0",
            "value": 7,
            "_view_count": null,
            "_view_module_version": "1.5.0",
            "orientation": "horizontal",
            "min": 0,
            "description_tooltip": null,
            "_model_module": "@jupyter-widgets/controls",
            "layout": "IPY_MODEL_075dcacb2ab14ca6913dba3bf2d689f6"
          }
        },
        "debf481beee04696b1f4c0de45f4772b": {
          "model_module": "@jupyter-widgets/controls",
          "model_name": "ProgressStyleModel",
          "model_module_version": "1.5.0",
          "state": {
            "_view_name": "StyleView",
            "_model_name": "ProgressStyleModel",
            "description_width": "",
            "_view_module": "@jupyter-widgets/base",
            "_model_module_version": "1.5.0",
            "_view_count": null,
            "_view_module_version": "1.2.0",
            "bar_color": null,
            "_model_module": "@jupyter-widgets/controls"
          }
        },
        "075dcacb2ab14ca6913dba3bf2d689f6": {
          "model_module": "@jupyter-widgets/base",
          "model_name": "LayoutModel",
          "model_module_version": "1.2.0",
          "state": {
            "_view_name": "LayoutView",
            "grid_template_rows": null,
            "right": null,
            "justify_content": null,
            "_view_module": "@jupyter-widgets/base",
            "overflow": null,
            "_model_module_version": "1.2.0",
            "_view_count": null,
            "flex_flow": null,
            "width": null,
            "min_width": null,
            "border": null,
            "align_items": null,
            "bottom": null,
            "_model_module": "@jupyter-widgets/base",
            "top": null,
            "grid_column": null,
            "overflow_y": null,
            "overflow_x": null,
            "grid_auto_flow": null,
            "grid_area": null,
            "grid_template_columns": null,
            "flex": null,
            "_model_name": "LayoutModel",
            "justify_items": null,
            "grid_row": null,
            "max_height": null,
            "align_content": null,
            "visibility": null,
            "align_self": null,
            "height": null,
            "min_height": null,
            "padding": null,
            "grid_auto_rows": null,
            "grid_gap": null,
            "max_width": null,
            "order": null,
            "_view_module_version": "1.2.0",
            "grid_template_areas": null,
            "object_position": null,
            "object_fit": null,
            "grid_auto_columns": null,
            "margin": null,
            "display": null,
            "left": null
          }
        }
      }
    }
  },
  "cells": [
    {
      "cell_type": "code",
      "metadata": {
        "colab": {
          "base_uri": "https://localhost:8080/"
        },
        "id": "dblvRYKdQgnO",
        "outputId": "9500aa85-e666-42cc-8272-c3e6e3448750"
      },
      "source": [
        "!pip install statsmodels --upgrade"
      ],
      "execution_count": 1,
      "outputs": [
        {
          "output_type": "stream",
          "text": [
            "Requirement already satisfied: statsmodels in /usr/local/lib/python3.7/dist-packages (0.10.2)\n",
            "Collecting statsmodels\n",
            "  Downloading statsmodels-0.12.2-cp37-cp37m-manylinux1_x86_64.whl (9.5 MB)\n",
            "\u001b[K     |████████████████████████████████| 9.5 MB 23.2 MB/s \n",
            "\u001b[?25hRequirement already satisfied: patsy>=0.5 in /usr/local/lib/python3.7/dist-packages (from statsmodels) (0.5.1)\n",
            "Requirement already satisfied: pandas>=0.21 in /usr/local/lib/python3.7/dist-packages (from statsmodels) (1.1.5)\n",
            "Requirement already satisfied: numpy>=1.15 in /usr/local/lib/python3.7/dist-packages (from statsmodels) (1.19.5)\n",
            "Requirement already satisfied: scipy>=1.1 in /usr/local/lib/python3.7/dist-packages (from statsmodels) (1.4.1)\n",
            "Requirement already satisfied: python-dateutil>=2.7.3 in /usr/local/lib/python3.7/dist-packages (from pandas>=0.21->statsmodels) (2.8.1)\n",
            "Requirement already satisfied: pytz>=2017.2 in /usr/local/lib/python3.7/dist-packages (from pandas>=0.21->statsmodels) (2018.9)\n",
            "Requirement already satisfied: six in /usr/local/lib/python3.7/dist-packages (from patsy>=0.5->statsmodels) (1.15.0)\n",
            "Installing collected packages: statsmodels\n",
            "  Attempting uninstall: statsmodels\n",
            "    Found existing installation: statsmodels 0.10.2\n",
            "    Uninstalling statsmodels-0.10.2:\n",
            "      Successfully uninstalled statsmodels-0.10.2\n",
            "Successfully installed statsmodels-0.12.2\n"
          ],
          "name": "stdout"
        }
      ]
    },
    {
      "cell_type": "code",
      "metadata": {
        "colab": {
          "base_uri": "https://localhost:8080/"
        },
        "id": "x9YF-A3Oh6Gd",
        "outputId": "c53a0373-9a24-49c9-97f4-0c648f1da33d"
      },
      "source": [
        "!pip install pycaret"
      ],
      "execution_count": 2,
      "outputs": [
        {
          "output_type": "stream",
          "text": [
            "Collecting pycaret\n",
            "  Downloading pycaret-2.3.3-py3-none-any.whl (264 kB)\n",
            "\u001b[K     |████████████████████████████████| 264 kB 29.9 MB/s \n",
            "\u001b[?25hCollecting yellowbrick>=1.0.1\n",
            "  Downloading yellowbrick-1.3.post1-py3-none-any.whl (271 kB)\n",
            "\u001b[K     |████████████████████████████████| 271 kB 68.3 MB/s \n",
            "\u001b[?25hRequirement already satisfied: numpy==1.19.5 in /usr/local/lib/python3.7/dist-packages (from pycaret) (1.19.5)\n",
            "Requirement already satisfied: cufflinks>=0.17.0 in /usr/local/lib/python3.7/dist-packages (from pycaret) (0.17.3)\n",
            "Requirement already satisfied: scipy<=1.5.4 in /usr/local/lib/python3.7/dist-packages (from pycaret) (1.4.1)\n",
            "Requirement already satisfied: spacy<2.4.0 in /usr/local/lib/python3.7/dist-packages (from pycaret) (2.2.4)\n",
            "Requirement already satisfied: plotly>=4.4.1 in /usr/local/lib/python3.7/dist-packages (from pycaret) (4.4.1)\n",
            "Requirement already satisfied: pandas in /usr/local/lib/python3.7/dist-packages (from pycaret) (1.1.5)\n",
            "Requirement already satisfied: wordcloud in /usr/local/lib/python3.7/dist-packages (from pycaret) (1.5.0)\n",
            "Collecting scikit-learn==0.23.2\n",
            "  Downloading scikit_learn-0.23.2-cp37-cp37m-manylinux1_x86_64.whl (6.8 MB)\n",
            "\u001b[K     |████████████████████████████████| 6.8 MB 64.9 MB/s \n",
            "\u001b[?25hRequirement already satisfied: textblob in /usr/local/lib/python3.7/dist-packages (from pycaret) (0.15.3)\n",
            "Requirement already satisfied: IPython in /usr/local/lib/python3.7/dist-packages (from pycaret) (5.5.0)\n",
            "Collecting imbalanced-learn==0.7.0\n",
            "  Downloading imbalanced_learn-0.7.0-py3-none-any.whl (167 kB)\n",
            "\u001b[K     |████████████████████████████████| 167 kB 61.0 MB/s \n",
            "\u001b[?25hCollecting mlxtend>=0.17.0\n",
            "  Downloading mlxtend-0.18.0-py2.py3-none-any.whl (1.3 MB)\n",
            "\u001b[K     |████████████████████████████████| 1.3 MB 18.6 MB/s \n",
            "\u001b[?25hCollecting pyod\n",
            "  Downloading pyod-0.9.0.tar.gz (105 kB)\n",
            "\u001b[K     |████████████████████████████████| 105 kB 63.5 MB/s \n",
            "\u001b[?25hCollecting mlflow\n",
            "  Downloading mlflow-1.19.0-py3-none-any.whl (14.4 MB)\n",
            "\u001b[K     |████████████████████████████████| 14.4 MB 51 kB/s \n",
            "\u001b[?25hCollecting kmodes>=0.10.1\n",
            "  Downloading kmodes-0.11.0-py2.py3-none-any.whl (18 kB)\n",
            "Requirement already satisfied: nltk in /usr/local/lib/python3.7/dist-packages (from pycaret) (3.2.5)\n",
            "Collecting umap-learn\n",
            "  Downloading umap-learn-0.5.1.tar.gz (80 kB)\n",
            "\u001b[K     |████████████████████████████████| 80 kB 10.0 MB/s \n",
            "\u001b[?25hCollecting pyLDAvis\n",
            "  Downloading pyLDAvis-3.3.1.tar.gz (1.7 MB)\n",
            "\u001b[K     |████████████████████████████████| 1.7 MB 30.3 MB/s \n",
            "\u001b[?25h  Installing build dependencies ... \u001b[?25l\u001b[?25hdone\n",
            "  Getting requirements to build wheel ... \u001b[?25l\u001b[?25hdone\n",
            "  Installing backend dependencies ... \u001b[?25l\u001b[?25hdone\n",
            "    Preparing wheel metadata ... \u001b[?25l\u001b[?25hdone\n",
            "Requirement already satisfied: seaborn in /usr/local/lib/python3.7/dist-packages (from pycaret) (0.11.1)\n",
            "Collecting pandas-profiling>=2.8.0\n",
            "  Downloading pandas_profiling-3.0.0-py2.py3-none-any.whl (248 kB)\n",
            "\u001b[K     |████████████████████████████████| 248 kB 57.1 MB/s \n",
            "\u001b[?25hRequirement already satisfied: gensim<4.0.0 in /usr/local/lib/python3.7/dist-packages (from pycaret) (3.6.0)\n",
            "Collecting lightgbm>=2.3.1\n",
            "  Downloading lightgbm-3.2.1-py3-none-manylinux1_x86_64.whl (2.0 MB)\n",
            "\u001b[K     |████████████████████████████████| 2.0 MB 34.7 MB/s \n",
            "\u001b[?25hRequirement already satisfied: matplotlib in /usr/local/lib/python3.7/dist-packages (from pycaret) (3.2.2)\n",
            "Requirement already satisfied: ipywidgets in /usr/local/lib/python3.7/dist-packages (from pycaret) (7.6.3)\n",
            "Requirement already satisfied: joblib in /usr/local/lib/python3.7/dist-packages (from pycaret) (1.0.1)\n",
            "Collecting scikit-plot\n",
            "  Downloading scikit_plot-0.3.7-py3-none-any.whl (33 kB)\n",
            "Collecting Boruta\n",
            "  Downloading Boruta-0.3-py3-none-any.whl (56 kB)\n",
            "\u001b[K     |████████████████████████████████| 56 kB 4.1 MB/s \n",
            "\u001b[?25hCollecting threadpoolctl>=2.0.0\n",
            "  Downloading threadpoolctl-2.2.0-py3-none-any.whl (12 kB)\n",
            "Requirement already satisfied: six>=1.9.0 in /usr/local/lib/python3.7/dist-packages (from cufflinks>=0.17.0->pycaret) (1.15.0)\n",
            "Requirement already satisfied: colorlover>=0.2.1 in /usr/local/lib/python3.7/dist-packages (from cufflinks>=0.17.0->pycaret) (0.3.0)\n",
            "Requirement already satisfied: setuptools>=34.4.1 in /usr/local/lib/python3.7/dist-packages (from cufflinks>=0.17.0->pycaret) (57.2.0)\n",
            "Requirement already satisfied: smart-open>=1.2.1 in /usr/local/lib/python3.7/dist-packages (from gensim<4.0.0->pycaret) (5.1.0)\n",
            "Requirement already satisfied: pexpect in /usr/local/lib/python3.7/dist-packages (from IPython->pycaret) (4.8.0)\n",
            "Requirement already satisfied: simplegeneric>0.8 in /usr/local/lib/python3.7/dist-packages (from IPython->pycaret) (0.8.1)\n",
            "Requirement already satisfied: decorator in /usr/local/lib/python3.7/dist-packages (from IPython->pycaret) (4.4.2)\n",
            "Requirement already satisfied: prompt-toolkit<2.0.0,>=1.0.4 in /usr/local/lib/python3.7/dist-packages (from IPython->pycaret) (1.0.18)\n",
            "Requirement already satisfied: pickleshare in /usr/local/lib/python3.7/dist-packages (from IPython->pycaret) (0.7.5)\n",
            "Requirement already satisfied: pygments in /usr/local/lib/python3.7/dist-packages (from IPython->pycaret) (2.6.1)\n",
            "Requirement already satisfied: traitlets>=4.2 in /usr/local/lib/python3.7/dist-packages (from IPython->pycaret) (5.0.5)\n",
            "Requirement already satisfied: widgetsnbextension~=3.5.0 in /usr/local/lib/python3.7/dist-packages (from ipywidgets->pycaret) (3.5.1)\n",
            "Requirement already satisfied: jupyterlab-widgets>=1.0.0 in /usr/local/lib/python3.7/dist-packages (from ipywidgets->pycaret) (1.0.0)\n",
            "Requirement already satisfied: nbformat>=4.2.0 in /usr/local/lib/python3.7/dist-packages (from ipywidgets->pycaret) (5.1.3)\n",
            "Requirement already satisfied: ipykernel>=4.5.1 in /usr/local/lib/python3.7/dist-packages (from ipywidgets->pycaret) (4.10.1)\n",
            "Requirement already satisfied: jupyter-client in /usr/local/lib/python3.7/dist-packages (from ipykernel>=4.5.1->ipywidgets->pycaret) (5.3.5)\n",
            "Requirement already satisfied: tornado>=4.0 in /usr/local/lib/python3.7/dist-packages (from ipykernel>=4.5.1->ipywidgets->pycaret) (5.1.1)\n",
            "Requirement already satisfied: wheel in /usr/local/lib/python3.7/dist-packages (from lightgbm>=2.3.1->pycaret) (0.36.2)\n",
            "Requirement already satisfied: pyparsing!=2.0.4,!=2.1.2,!=2.1.6,>=2.0.1 in /usr/local/lib/python3.7/dist-packages (from matplotlib->pycaret) (2.4.7)\n",
            "Requirement already satisfied: cycler>=0.10 in /usr/local/lib/python3.7/dist-packages (from matplotlib->pycaret) (0.10.0)\n",
            "Requirement already satisfied: python-dateutil>=2.1 in /usr/local/lib/python3.7/dist-packages (from matplotlib->pycaret) (2.8.1)\n",
            "Requirement already satisfied: kiwisolver>=1.0.1 in /usr/local/lib/python3.7/dist-packages (from matplotlib->pycaret) (1.3.1)\n",
            "Requirement already satisfied: jsonschema!=2.5.0,>=2.4 in /usr/local/lib/python3.7/dist-packages (from nbformat>=4.2.0->ipywidgets->pycaret) (2.6.0)\n",
            "Requirement already satisfied: jupyter-core in /usr/local/lib/python3.7/dist-packages (from nbformat>=4.2.0->ipywidgets->pycaret) (4.7.1)\n",
            "Requirement already satisfied: ipython-genutils in /usr/local/lib/python3.7/dist-packages (from nbformat>=4.2.0->ipywidgets->pycaret) (0.2.0)\n",
            "Requirement already satisfied: pytz>=2017.2 in /usr/local/lib/python3.7/dist-packages (from pandas->pycaret) (2018.9)\n",
            "Collecting htmlmin>=0.1.12\n",
            "  Downloading htmlmin-0.1.12.tar.gz (19 kB)\n",
            "Collecting tangled-up-in-unicode==0.1.0\n",
            "  Downloading tangled_up_in_unicode-0.1.0-py3-none-any.whl (3.1 MB)\n",
            "\u001b[K     |████████████████████████████████| 3.1 MB 31.8 MB/s \n",
            "\u001b[?25hCollecting PyYAML>=5.0.0\n",
            "  Downloading PyYAML-5.4.1-cp37-cp37m-manylinux1_x86_64.whl (636 kB)\n",
            "\u001b[K     |████████████████████████████████| 636 kB 42.9 MB/s \n",
            "\u001b[?25hCollecting phik>=0.11.1\n",
            "  Downloading phik-0.12.0-cp37-cp37m-manylinux2010_x86_64.whl (675 kB)\n",
            "\u001b[K     |████████████████████████████████| 675 kB 36.8 MB/s \n",
            "\u001b[?25hCollecting requests>=2.24.0\n",
            "  Downloading requests-2.26.0-py2.py3-none-any.whl (62 kB)\n",
            "\u001b[K     |████████████████████████████████| 62 kB 888 kB/s \n",
            "\u001b[?25hCollecting visions[type_image_path]==0.7.1\n",
            "  Downloading visions-0.7.1-py3-none-any.whl (102 kB)\n",
            "\u001b[K     |████████████████████████████████| 102 kB 62.6 MB/s \n",
            "\u001b[?25hRequirement already satisfied: missingno>=0.4.2 in /usr/local/lib/python3.7/dist-packages (from pandas-profiling>=2.8.0->pycaret) (0.5.0)\n",
            "Collecting tqdm>=4.48.2\n",
            "  Downloading tqdm-4.62.0-py2.py3-none-any.whl (76 kB)\n",
            "\u001b[K     |████████████████████████████████| 76 kB 5.1 MB/s \n",
            "\u001b[?25hCollecting pydantic>=1.8.1\n",
            "  Downloading pydantic-1.8.2-cp37-cp37m-manylinux2014_x86_64.whl (10.1 MB)\n",
            "\u001b[K     |████████████████████████████████| 10.1 MB 34.1 MB/s \n",
            "\u001b[?25hRequirement already satisfied: jinja2>=2.11.1 in /usr/local/lib/python3.7/dist-packages (from pandas-profiling>=2.8.0->pycaret) (2.11.3)\n",
            "Requirement already satisfied: attrs>=19.3.0 in /usr/local/lib/python3.7/dist-packages (from visions[type_image_path]==0.7.1->pandas-profiling>=2.8.0->pycaret) (21.2.0)\n",
            "Requirement already satisfied: networkx>=2.4 in /usr/local/lib/python3.7/dist-packages (from visions[type_image_path]==0.7.1->pandas-profiling>=2.8.0->pycaret) (2.5.1)\n",
            "Collecting multimethod==1.4\n",
            "  Downloading multimethod-1.4-py2.py3-none-any.whl (7.3 kB)\n",
            "Requirement already satisfied: bottleneck in /usr/local/lib/python3.7/dist-packages (from visions[type_image_path]==0.7.1->pandas-profiling>=2.8.0->pycaret) (1.3.2)\n",
            "Collecting imagehash\n",
            "  Downloading ImageHash-4.2.1.tar.gz (812 kB)\n",
            "\u001b[K     |████████████████████████████████| 812 kB 30.4 MB/s \n",
            "\u001b[?25hRequirement already satisfied: Pillow in /usr/local/lib/python3.7/dist-packages (from visions[type_image_path]==0.7.1->pandas-profiling>=2.8.0->pycaret) (7.1.2)\n",
            "Requirement already satisfied: MarkupSafe>=0.23 in /usr/local/lib/python3.7/dist-packages (from jinja2>=2.11.1->pandas-profiling>=2.8.0->pycaret) (2.0.1)\n",
            "Collecting scipy<=1.5.4\n",
            "  Downloading scipy-1.5.4-cp37-cp37m-manylinux1_x86_64.whl (25.9 MB)\n",
            "\u001b[K     |████████████████████████████████| 25.9 MB 940 bytes/s \n",
            "\u001b[?25hRequirement already satisfied: retrying>=1.3.3 in /usr/local/lib/python3.7/dist-packages (from plotly>=4.4.1->pycaret) (1.3.3)\n",
            "Requirement already satisfied: wcwidth in /usr/local/lib/python3.7/dist-packages (from prompt-toolkit<2.0.0,>=1.0.4->IPython->pycaret) (0.2.5)\n",
            "Requirement already satisfied: typing-extensions>=3.7.4.3 in /usr/local/lib/python3.7/dist-packages (from pydantic>=1.8.1->pandas-profiling>=2.8.0->pycaret) (3.7.4.3)\n",
            "Requirement already satisfied: urllib3<1.27,>=1.21.1 in /usr/local/lib/python3.7/dist-packages (from requests>=2.24.0->pandas-profiling>=2.8.0->pycaret) (1.24.3)\n",
            "Requirement already satisfied: certifi>=2017.4.17 in /usr/local/lib/python3.7/dist-packages (from requests>=2.24.0->pandas-profiling>=2.8.0->pycaret) (2021.5.30)\n",
            "Requirement already satisfied: idna<4,>=2.5 in /usr/local/lib/python3.7/dist-packages (from requests>=2.24.0->pandas-profiling>=2.8.0->pycaret) (2.10)\n",
            "Requirement already satisfied: charset-normalizer~=2.0.0 in /usr/local/lib/python3.7/dist-packages (from requests>=2.24.0->pandas-profiling>=2.8.0->pycaret) (2.0.2)\n",
            "Requirement already satisfied: preshed<3.1.0,>=3.0.2 in /usr/local/lib/python3.7/dist-packages (from spacy<2.4.0->pycaret) (3.0.5)\n",
            "Requirement already satisfied: cymem<2.1.0,>=2.0.2 in /usr/local/lib/python3.7/dist-packages (from spacy<2.4.0->pycaret) (2.0.5)\n",
            "Requirement already satisfied: wasabi<1.1.0,>=0.4.0 in /usr/local/lib/python3.7/dist-packages (from spacy<2.4.0->pycaret) (0.8.2)\n",
            "Requirement already satisfied: thinc==7.4.0 in /usr/local/lib/python3.7/dist-packages (from spacy<2.4.0->pycaret) (7.4.0)\n",
            "Requirement already satisfied: plac<1.2.0,>=0.9.6 in /usr/local/lib/python3.7/dist-packages (from spacy<2.4.0->pycaret) (1.1.3)\n",
            "Requirement already satisfied: catalogue<1.1.0,>=0.0.7 in /usr/local/lib/python3.7/dist-packages (from spacy<2.4.0->pycaret) (1.0.0)\n",
            "Requirement already satisfied: blis<0.5.0,>=0.4.0 in /usr/local/lib/python3.7/dist-packages (from spacy<2.4.0->pycaret) (0.4.1)\n",
            "Requirement already satisfied: murmurhash<1.1.0,>=0.28.0 in /usr/local/lib/python3.7/dist-packages (from spacy<2.4.0->pycaret) (1.0.5)\n",
            "Requirement already satisfied: srsly<1.1.0,>=1.0.2 in /usr/local/lib/python3.7/dist-packages (from spacy<2.4.0->pycaret) (1.0.5)\n",
            "Requirement already satisfied: importlib-metadata>=0.20 in /usr/local/lib/python3.7/dist-packages (from catalogue<1.1.0,>=0.0.7->spacy<2.4.0->pycaret) (4.6.1)\n",
            "Requirement already satisfied: zipp>=0.5 in /usr/local/lib/python3.7/dist-packages (from importlib-metadata>=0.20->catalogue<1.1.0,>=0.0.7->spacy<2.4.0->pycaret) (3.5.0)\n",
            "Requirement already satisfied: notebook>=4.4.1 in /usr/local/lib/python3.7/dist-packages (from widgetsnbextension~=3.5.0->ipywidgets->pycaret) (5.3.1)\n",
            "Requirement already satisfied: nbconvert in /usr/local/lib/python3.7/dist-packages (from notebook>=4.4.1->widgetsnbextension~=3.5.0->ipywidgets->pycaret) (5.6.1)\n",
            "Requirement already satisfied: Send2Trash in /usr/local/lib/python3.7/dist-packages (from notebook>=4.4.1->widgetsnbextension~=3.5.0->ipywidgets->pycaret) (1.7.1)\n",
            "Requirement already satisfied: terminado>=0.8.1 in /usr/local/lib/python3.7/dist-packages (from notebook>=4.4.1->widgetsnbextension~=3.5.0->ipywidgets->pycaret) (0.10.1)\n",
            "Requirement already satisfied: pyzmq>=13 in /usr/local/lib/python3.7/dist-packages (from jupyter-client->ipykernel>=4.5.1->ipywidgets->pycaret) (22.1.0)\n",
            "Requirement already satisfied: ptyprocess in /usr/local/lib/python3.7/dist-packages (from terminado>=0.8.1->notebook>=4.4.1->widgetsnbextension~=3.5.0->ipywidgets->pycaret) (0.7.0)\n",
            "Requirement already satisfied: PyWavelets in /usr/local/lib/python3.7/dist-packages (from imagehash->visions[type_image_path]==0.7.1->pandas-profiling>=2.8.0->pycaret) (1.1.1)\n",
            "Requirement already satisfied: packaging in /usr/local/lib/python3.7/dist-packages (from mlflow->pycaret) (21.0)\n",
            "Collecting querystring-parser\n",
            "  Downloading querystring_parser-1.2.4-py2.py3-none-any.whl (7.9 kB)\n",
            "Collecting prometheus-flask-exporter\n",
            "  Downloading prometheus_flask_exporter-0.18.2.tar.gz (22 kB)\n",
            "Requirement already satisfied: Flask in /usr/local/lib/python3.7/dist-packages (from mlflow->pycaret) (1.1.4)\n",
            "Collecting alembic<=1.4.1\n",
            "  Downloading alembic-1.4.1.tar.gz (1.1 MB)\n",
            "\u001b[K     |████████████████████████████████| 1.1 MB 42.9 MB/s \n",
            "\u001b[?25hCollecting gunicorn\n",
            "  Downloading gunicorn-20.1.0-py3-none-any.whl (79 kB)\n",
            "\u001b[K     |████████████████████████████████| 79 kB 8.7 MB/s \n",
            "\u001b[?25hCollecting docker>=4.0.0\n",
            "  Downloading docker-5.0.0-py2.py3-none-any.whl (146 kB)\n",
            "\u001b[K     |████████████████████████████████| 146 kB 52.2 MB/s \n",
            "\u001b[?25hRequirement already satisfied: click>=7.0 in /usr/local/lib/python3.7/dist-packages (from mlflow->pycaret) (7.1.2)\n",
            "Requirement already satisfied: entrypoints in /usr/local/lib/python3.7/dist-packages (from mlflow->pycaret) (0.3)\n",
            "Collecting databricks-cli>=0.8.7\n",
            "  Downloading databricks-cli-0.15.0.tar.gz (56 kB)\n",
            "\u001b[K     |████████████████████████████████| 56 kB 4.2 MB/s \n",
            "\u001b[?25hRequirement already satisfied: sqlalchemy in /usr/local/lib/python3.7/dist-packages (from mlflow->pycaret) (1.4.20)\n",
            "Collecting gitpython>=2.1.0\n",
            "  Downloading GitPython-3.1.18-py3-none-any.whl (170 kB)\n",
            "\u001b[K     |████████████████████████████████| 170 kB 53.5 MB/s \n",
            "\u001b[?25hRequirement already satisfied: sqlparse>=0.3.1 in /usr/local/lib/python3.7/dist-packages (from mlflow->pycaret) (0.4.1)\n",
            "Requirement already satisfied: protobuf>=3.7.0 in /usr/local/lib/python3.7/dist-packages (from mlflow->pycaret) (3.17.3)\n",
            "Requirement already satisfied: cloudpickle in /usr/local/lib/python3.7/dist-packages (from mlflow->pycaret) (1.3.0)\n",
            "Collecting Mako\n",
            "  Downloading Mako-1.1.4-py2.py3-none-any.whl (75 kB)\n",
            "\u001b[K     |████████████████████████████████| 75 kB 4.9 MB/s \n",
            "\u001b[?25hCollecting python-editor>=0.3\n",
            "  Downloading python_editor-1.0.4-py3-none-any.whl (4.9 kB)\n",
            "Requirement already satisfied: tabulate>=0.7.7 in /usr/local/lib/python3.7/dist-packages (from databricks-cli>=0.8.7->mlflow->pycaret) (0.8.9)\n",
            "Collecting websocket-client>=0.32.0\n",
            "  Downloading websocket_client-1.2.0-py2.py3-none-any.whl (52 kB)\n",
            "\u001b[K     |████████████████████████████████| 52 kB 1.0 MB/s \n",
            "\u001b[?25hCollecting gitdb<5,>=4.0.1\n",
            "  Downloading gitdb-4.0.7-py3-none-any.whl (63 kB)\n",
            "\u001b[K     |████████████████████████████████| 63 kB 1.8 MB/s \n",
            "\u001b[?25hCollecting smmap<5,>=3.0.1\n",
            "  Downloading smmap-4.0.0-py2.py3-none-any.whl (24 kB)\n",
            "Requirement already satisfied: greenlet!=0.4.17 in /usr/local/lib/python3.7/dist-packages (from sqlalchemy->mlflow->pycaret) (1.1.0)\n",
            "Requirement already satisfied: itsdangerous<2.0,>=0.24 in /usr/local/lib/python3.7/dist-packages (from Flask->mlflow->pycaret) (1.1.0)\n",
            "Requirement already satisfied: Werkzeug<2.0,>=0.15 in /usr/local/lib/python3.7/dist-packages (from Flask->mlflow->pycaret) (1.0.1)\n",
            "Requirement already satisfied: pandocfilters>=1.4.1 in /usr/local/lib/python3.7/dist-packages (from nbconvert->notebook>=4.4.1->widgetsnbextension~=3.5.0->ipywidgets->pycaret) (1.4.3)\n",
            "Requirement already satisfied: defusedxml in /usr/local/lib/python3.7/dist-packages (from nbconvert->notebook>=4.4.1->widgetsnbextension~=3.5.0->ipywidgets->pycaret) (0.7.1)\n",
            "Requirement already satisfied: bleach in /usr/local/lib/python3.7/dist-packages (from nbconvert->notebook>=4.4.1->widgetsnbextension~=3.5.0->ipywidgets->pycaret) (3.3.0)\n",
            "Requirement already satisfied: mistune<2,>=0.8.1 in /usr/local/lib/python3.7/dist-packages (from nbconvert->notebook>=4.4.1->widgetsnbextension~=3.5.0->ipywidgets->pycaret) (0.8.4)\n",
            "Requirement already satisfied: testpath in /usr/local/lib/python3.7/dist-packages (from nbconvert->notebook>=4.4.1->widgetsnbextension~=3.5.0->ipywidgets->pycaret) (0.5.0)\n",
            "Requirement already satisfied: webencodings in /usr/local/lib/python3.7/dist-packages (from bleach->nbconvert->notebook>=4.4.1->widgetsnbextension~=3.5.0->ipywidgets->pycaret) (0.5.1)\n",
            "Requirement already satisfied: prometheus_client in /usr/local/lib/python3.7/dist-packages (from prometheus-flask-exporter->mlflow->pycaret) (0.11.0)\n",
            "Collecting pyLDAvis\n",
            "  Downloading pyLDAvis-3.3.0.tar.gz (1.7 MB)\n",
            "\u001b[K     |████████████████████████████████| 1.7 MB 35.3 MB/s \n",
            "\u001b[?25h  Installing build dependencies ... \u001b[?25l\u001b[?25hdone\n",
            "  Getting requirements to build wheel ... \u001b[?25l\u001b[?25hdone\n",
            "  Installing backend dependencies ... \u001b[?25l\u001b[?25hdone\n",
            "    Preparing wheel metadata ... \u001b[?25l\u001b[?25hdone\n",
            "  Downloading pyLDAvis-3.2.2.tar.gz (1.7 MB)\n",
            "\u001b[K     |████████████████████████████████| 1.7 MB 25.8 MB/s \n",
            "\u001b[?25hRequirement already satisfied: numexpr in /usr/local/lib/python3.7/dist-packages (from pyLDAvis->pycaret) (2.7.3)\n",
            "Requirement already satisfied: future in /usr/local/lib/python3.7/dist-packages (from pyLDAvis->pycaret) (0.16.0)\n",
            "Collecting funcy\n",
            "  Downloading funcy-1.16-py2.py3-none-any.whl (32 kB)\n",
            "Requirement already satisfied: numba>=0.35 in /usr/local/lib/python3.7/dist-packages (from pyod->pycaret) (0.51.2)\n",
            "Requirement already satisfied: statsmodels in /usr/local/lib/python3.7/dist-packages (from pyod->pycaret) (0.12.2)\n",
            "Requirement already satisfied: llvmlite<0.35,>=0.34.0.dev0 in /usr/local/lib/python3.7/dist-packages (from numba>=0.35->pyod->pycaret) (0.34.0)\n",
            "Requirement already satisfied: patsy>=0.5 in /usr/local/lib/python3.7/dist-packages (from statsmodels->pyod->pycaret) (0.5.1)\n",
            "Collecting pynndescent>=0.5\n",
            "  Downloading pynndescent-0.5.4.tar.gz (1.1 MB)\n",
            "\u001b[K     |████████████████████████████████| 1.1 MB 43.1 MB/s \n",
            "\u001b[?25hBuilding wheels for collected packages: htmlmin, imagehash, alembic, databricks-cli, prometheus-flask-exporter, pyLDAvis, pyod, umap-learn, pynndescent\n",
            "  Building wheel for htmlmin (setup.py) ... \u001b[?25l\u001b[?25hdone\n",
            "  Created wheel for htmlmin: filename=htmlmin-0.1.12-py3-none-any.whl size=27098 sha256=bff884ecb30a3a6a88e4a009c81dbfc8cbd20851f9e71ebec90fdab85d8abff2\n",
            "  Stored in directory: /root/.cache/pip/wheels/70/e1/52/5b14d250ba868768823940c3229e9950d201a26d0bd3ee8655\n",
            "  Building wheel for imagehash (setup.py) ... \u001b[?25l\u001b[?25hdone\n",
            "  Created wheel for imagehash: filename=ImageHash-4.2.1-py2.py3-none-any.whl size=295206 sha256=006c79c3eb2c49c97b864016114137b15adfccf7b47f1049e36c6e895849feac\n",
            "  Stored in directory: /root/.cache/pip/wheels/4c/d5/59/5e3e297533ddb09407769762985d134135064c6831e29a914e\n",
            "  Building wheel for alembic (setup.py) ... \u001b[?25l\u001b[?25hdone\n",
            "  Created wheel for alembic: filename=alembic-1.4.1-py2.py3-none-any.whl size=158170 sha256=e28465024178eaea82929d9398210dd8b470a25ea14f5ef8e223e35f913df35f\n",
            "  Stored in directory: /root/.cache/pip/wheels/be/5d/0a/9e13f53f4f5dfb67cd8d245bb7cdffe12f135846f491a283e3\n",
            "  Building wheel for databricks-cli (setup.py) ... \u001b[?25l\u001b[?25hdone\n",
            "  Created wheel for databricks-cli: filename=databricks_cli-0.15.0-py3-none-any.whl size=105259 sha256=6941eb266c579fb88c9a6e10732a40a90dc1fd1b027aea25e28f0cb904fad19c\n",
            "  Stored in directory: /root/.cache/pip/wheels/e7/ba/75/284f9a90ff7a010bb23b9798f2e9a19dd9fe619379c917bff4\n",
            "  Building wheel for prometheus-flask-exporter (setup.py) ... \u001b[?25l\u001b[?25hdone\n",
            "  Created wheel for prometheus-flask-exporter: filename=prometheus_flask_exporter-0.18.2-py3-none-any.whl size=17416 sha256=b43ebbf540c5737d933dd53dd0b0dc9eba22f6fa7006942c16f4f983790e271e\n",
            "  Stored in directory: /root/.cache/pip/wheels/6a/1e/1c/c765920cb92b2f0343d2dd8b481a407cee2823f9b4bbd2e52a\n",
            "  Building wheel for pyLDAvis (setup.py) ... \u001b[?25l\u001b[?25hdone\n",
            "  Created wheel for pyLDAvis: filename=pyLDAvis-3.2.2-py2.py3-none-any.whl size=135618 sha256=3008664512a3f4c0b21493c28a25f15253893805989d3baff0e47b9834ae0f8d\n",
            "  Stored in directory: /root/.cache/pip/wheels/f8/b1/9b/560ac1931796b7303f7b517b949d2d31a4fbc512aad3b9f284\n",
            "  Building wheel for pyod (setup.py) ... \u001b[?25l\u001b[?25hdone\n",
            "  Created wheel for pyod: filename=pyod-0.9.0-py3-none-any.whl size=122560 sha256=4619be1faa74211c194f7a6df6972565e959555904645bd5dbab87a4bb76523e\n",
            "  Stored in directory: /root/.cache/pip/wheels/42/5f/59/5984a6116a4d19aee28d8ebeffd431364ce1cf21eb73a6ad34\n",
            "  Building wheel for umap-learn (setup.py) ... \u001b[?25l\u001b[?25hdone\n",
            "  Created wheel for umap-learn: filename=umap_learn-0.5.1-py3-none-any.whl size=76566 sha256=14efe009556869973665a02fadf4840f940deeeda8195ee2684a625cf4b4e142\n",
            "  Stored in directory: /root/.cache/pip/wheels/01/e7/bb/347dc0e510803d7116a13d592b10cc68262da56a8eec4dd72f\n",
            "  Building wheel for pynndescent (setup.py) ... \u001b[?25l\u001b[?25hdone\n",
            "  Created wheel for pynndescent: filename=pynndescent-0.5.4-py3-none-any.whl size=52372 sha256=a7ab53e6de6cb860a32e076aa7f69760219bb8f146d26e69c3c871d0e6ab59c1\n",
            "  Stored in directory: /root/.cache/pip/wheels/d0/5b/62/3401692ddad12324249c774c4b15ccb046946021e2b581c043\n",
            "Successfully built htmlmin imagehash alembic databricks-cli prometheus-flask-exporter pyLDAvis pyod umap-learn pynndescent\n",
            "Installing collected packages: threadpoolctl, tangled-up-in-unicode, smmap, scipy, multimethod, websocket-client, visions, tqdm, scikit-learn, requests, python-editor, Mako, imagehash, gitdb, querystring-parser, PyYAML, pynndescent, pydantic, prometheus-flask-exporter, phik, htmlmin, gunicorn, gitpython, funcy, docker, databricks-cli, alembic, yellowbrick, umap-learn, scikit-plot, pyod, pyLDAvis, pandas-profiling, mlxtend, mlflow, lightgbm, kmodes, imbalanced-learn, Boruta, pycaret\n",
            "  Attempting uninstall: scipy\n",
            "    Found existing installation: scipy 1.4.1\n",
            "    Uninstalling scipy-1.4.1:\n",
            "      Successfully uninstalled scipy-1.4.1\n",
            "  Attempting uninstall: tqdm\n",
            "    Found existing installation: tqdm 4.41.1\n",
            "    Uninstalling tqdm-4.41.1:\n",
            "      Successfully uninstalled tqdm-4.41.1\n",
            "  Attempting uninstall: scikit-learn\n",
            "    Found existing installation: scikit-learn 0.22.2.post1\n",
            "    Uninstalling scikit-learn-0.22.2.post1:\n",
            "      Successfully uninstalled scikit-learn-0.22.2.post1\n",
            "  Attempting uninstall: requests\n",
            "    Found existing installation: requests 2.23.0\n",
            "    Uninstalling requests-2.23.0:\n",
            "      Successfully uninstalled requests-2.23.0\n",
            "  Attempting uninstall: PyYAML\n",
            "    Found existing installation: PyYAML 3.13\n",
            "    Uninstalling PyYAML-3.13:\n",
            "      Successfully uninstalled PyYAML-3.13\n",
            "  Attempting uninstall: yellowbrick\n",
            "    Found existing installation: yellowbrick 0.9.1\n",
            "    Uninstalling yellowbrick-0.9.1:\n",
            "      Successfully uninstalled yellowbrick-0.9.1\n",
            "  Attempting uninstall: pandas-profiling\n",
            "    Found existing installation: pandas-profiling 1.4.1\n",
            "    Uninstalling pandas-profiling-1.4.1:\n",
            "      Successfully uninstalled pandas-profiling-1.4.1\n",
            "  Attempting uninstall: mlxtend\n",
            "    Found existing installation: mlxtend 0.14.0\n",
            "    Uninstalling mlxtend-0.14.0:\n",
            "      Successfully uninstalled mlxtend-0.14.0\n",
            "  Attempting uninstall: lightgbm\n",
            "    Found existing installation: lightgbm 2.2.3\n",
            "    Uninstalling lightgbm-2.2.3:\n",
            "      Successfully uninstalled lightgbm-2.2.3\n",
            "  Attempting uninstall: imbalanced-learn\n",
            "    Found existing installation: imbalanced-learn 0.4.3\n",
            "    Uninstalling imbalanced-learn-0.4.3:\n",
            "      Successfully uninstalled imbalanced-learn-0.4.3\n",
            "\u001b[31mERROR: pip's dependency resolver does not currently take into account all the packages that are installed. This behaviour is the source of the following dependency conflicts.\n",
            "google-colab 1.0.0 requires requests~=2.23.0, but you have requests 2.26.0 which is incompatible.\n",
            "datascience 0.10.6 requires folium==0.2.1, but you have folium 0.8.3 which is incompatible.\n",
            "albumentations 0.1.12 requires imgaug<0.2.7,>=0.2.5, but you have imgaug 0.2.9 which is incompatible.\u001b[0m\n",
            "Successfully installed Boruta-0.3 Mako-1.1.4 PyYAML-5.4.1 alembic-1.4.1 databricks-cli-0.15.0 docker-5.0.0 funcy-1.16 gitdb-4.0.7 gitpython-3.1.18 gunicorn-20.1.0 htmlmin-0.1.12 imagehash-4.2.1 imbalanced-learn-0.7.0 kmodes-0.11.0 lightgbm-3.2.1 mlflow-1.19.0 mlxtend-0.18.0 multimethod-1.4 pandas-profiling-3.0.0 phik-0.12.0 prometheus-flask-exporter-0.18.2 pyLDAvis-3.2.2 pycaret-2.3.3 pydantic-1.8.2 pynndescent-0.5.4 pyod-0.9.0 python-editor-1.0.4 querystring-parser-1.2.4 requests-2.26.0 scikit-learn-0.23.2 scikit-plot-0.3.7 scipy-1.5.4 smmap-4.0.0 tangled-up-in-unicode-0.1.0 threadpoolctl-2.2.0 tqdm-4.62.0 umap-learn-0.5.1 visions-0.7.1 websocket-client-1.2.0 yellowbrick-1.3.post1\n"
          ],
          "name": "stdout"
        }
      ]
    },
    {
      "cell_type": "code",
      "metadata": {
        "id": "64ZSlpWYiJ5T"
      },
      "source": [
        "import numpy as np\n",
        "import pandas as pd\n",
        "import matplotlib.pyplot as plt\n",
        "import seaborn as sns\n",
        "\n",
        "from datetime import datetime\n",
        "\n",
        "from warnings import filterwarnings\n",
        "filterwarnings('ignore')"
      ],
      "execution_count": 3,
      "outputs": []
    },
    {
      "cell_type": "code",
      "metadata": {
        "id": "uQSTIWJViqtc"
      },
      "source": [
        "# IMPORT DADA FROM DRIVE\n",
        "\n",
        "train = pd.read_csv('/content/drive/MyDrive/Colab Notebooks/Data/fred_quarterly.csv')"
      ],
      "execution_count": 230,
      "outputs": []
    },
    {
      "cell_type": "markdown",
      "metadata": {
        "id": "lTuFCpn3t7cj"
      },
      "source": [
        "## Data Preprocessing"
      ]
    },
    {
      "cell_type": "code",
      "metadata": {
        "colab": {
          "base_uri": "https://localhost:8080/",
          "height": 206
        },
        "id": "NBox1647uDoS",
        "outputId": "088721c1-17b4-4646-824a-bf9868e1f404"
      },
      "source": [
        "train.head(5)"
      ],
      "execution_count": 231,
      "outputs": [
        {
          "output_type": "execute_result",
          "data": {
            "text/html": [
              "<div>\n",
              "<style scoped>\n",
              "    .dataframe tbody tr th:only-of-type {\n",
              "        vertical-align: middle;\n",
              "    }\n",
              "\n",
              "    .dataframe tbody tr th {\n",
              "        vertical-align: top;\n",
              "    }\n",
              "\n",
              "    .dataframe thead th {\n",
              "        text-align: right;\n",
              "    }\n",
              "</style>\n",
              "<table border=\"1\" class=\"dataframe\">\n",
              "  <thead>\n",
              "    <tr style=\"text-align: right;\">\n",
              "      <th></th>\n",
              "      <th>date</th>\n",
              "      <th>month</th>\n",
              "      <th>quarter</th>\n",
              "      <th>Target</th>\n",
              "      <th>gnp</th>\n",
              "      <th>gdpdef</th>\n",
              "      <th>gdp</th>\n",
              "    </tr>\n",
              "  </thead>\n",
              "  <tbody>\n",
              "    <tr>\n",
              "      <th>0</th>\n",
              "      <td>1/1/2000</td>\n",
              "      <td>2000-01</td>\n",
              "      <td>2000Q1</td>\n",
              "      <td>12935.252</td>\n",
              "      <td>10035.263</td>\n",
              "      <td>77.325</td>\n",
              "      <td>10002.179</td>\n",
              "    </tr>\n",
              "    <tr>\n",
              "      <th>1</th>\n",
              "      <td>4/1/2000</td>\n",
              "      <td>2000-04</td>\n",
              "      <td>2000Q2</td>\n",
              "      <td>13170.749</td>\n",
              "      <td>10283.391</td>\n",
              "      <td>77.807</td>\n",
              "      <td>10247.720</td>\n",
              "    </tr>\n",
              "    <tr>\n",
              "      <th>2</th>\n",
              "      <td>7/1/2000</td>\n",
              "      <td>2000-07</td>\n",
              "      <td>2000Q3</td>\n",
              "      <td>13183.890</td>\n",
              "      <td>10348.645</td>\n",
              "      <td>78.263</td>\n",
              "      <td>10318.165</td>\n",
              "    </tr>\n",
              "    <tr>\n",
              "      <th>3</th>\n",
              "      <td>10/1/2000</td>\n",
              "      <td>2000-10</td>\n",
              "      <td>2000Q4</td>\n",
              "      <td>13262.250</td>\n",
              "      <td>10490.430</td>\n",
              "      <td>78.688</td>\n",
              "      <td>10435.744</td>\n",
              "    </tr>\n",
              "    <tr>\n",
              "      <th>4</th>\n",
              "      <td>1/1/2001</td>\n",
              "      <td>2001-01</td>\n",
              "      <td>2001Q1</td>\n",
              "      <td>13219.251</td>\n",
              "      <td>10510.297</td>\n",
              "      <td>79.204</td>\n",
              "      <td>10470.231</td>\n",
              "    </tr>\n",
              "  </tbody>\n",
              "</table>\n",
              "</div>"
            ],
            "text/plain": [
              "        date    month quarter     Target        gnp  gdpdef        gdp\n",
              "0   1/1/2000  2000-01  2000Q1  12935.252  10035.263  77.325  10002.179\n",
              "1   4/1/2000  2000-04  2000Q2  13170.749  10283.391  77.807  10247.720\n",
              "2   7/1/2000  2000-07  2000Q3  13183.890  10348.645  78.263  10318.165\n",
              "3  10/1/2000  2000-10  2000Q4  13262.250  10490.430  78.688  10435.744\n",
              "4   1/1/2001  2001-01  2001Q1  13219.251  10510.297  79.204  10470.231"
            ]
          },
          "metadata": {
            "tags": []
          },
          "execution_count": 231
        }
      ]
    },
    {
      "cell_type": "code",
      "metadata": {
        "colab": {
          "base_uri": "https://localhost:8080/",
          "height": 300
        },
        "id": "wlKZILfxtNrG",
        "outputId": "35f34ceb-f50d-4669-f2e5-98d2cd6fa25d"
      },
      "source": [
        "train.describe()"
      ],
      "execution_count": 232,
      "outputs": [
        {
          "output_type": "execute_result",
          "data": {
            "text/html": [
              "<div>\n",
              "<style scoped>\n",
              "    .dataframe tbody tr th:only-of-type {\n",
              "        vertical-align: middle;\n",
              "    }\n",
              "\n",
              "    .dataframe tbody tr th {\n",
              "        vertical-align: top;\n",
              "    }\n",
              "\n",
              "    .dataframe thead th {\n",
              "        text-align: right;\n",
              "    }\n",
              "</style>\n",
              "<table border=\"1\" class=\"dataframe\">\n",
              "  <thead>\n",
              "    <tr style=\"text-align: right;\">\n",
              "      <th></th>\n",
              "      <th>Target</th>\n",
              "      <th>gnp</th>\n",
              "      <th>gdpdef</th>\n",
              "      <th>gdp</th>\n",
              "    </tr>\n",
              "  </thead>\n",
              "  <tbody>\n",
              "    <tr>\n",
              "      <th>count</th>\n",
              "      <td>86.000000</td>\n",
              "      <td>85.000000</td>\n",
              "      <td>86.000000</td>\n",
              "      <td>86.000000</td>\n",
              "    </tr>\n",
              "    <tr>\n",
              "      <th>mean</th>\n",
              "      <td>16043.371291</td>\n",
              "      <td>15788.494200</td>\n",
              "      <td>96.672000</td>\n",
              "      <td>15705.747209</td>\n",
              "    </tr>\n",
              "    <tr>\n",
              "      <th>std</th>\n",
              "      <td>1809.872040</td>\n",
              "      <td>3545.817776</td>\n",
              "      <td>11.154457</td>\n",
              "      <td>3528.301498</td>\n",
              "    </tr>\n",
              "    <tr>\n",
              "      <th>min</th>\n",
              "      <td>12935.252000</td>\n",
              "      <td>10035.263000</td>\n",
              "      <td>77.325000</td>\n",
              "      <td>10002.179000</td>\n",
              "    </tr>\n",
              "    <tr>\n",
              "      <th>25%</th>\n",
              "      <td>14868.853000</td>\n",
              "      <td>12996.998000</td>\n",
              "      <td>87.280000</td>\n",
              "      <td>12977.652500</td>\n",
              "    </tr>\n",
              "    <tr>\n",
              "      <th>50%</th>\n",
              "      <td>15781.342000</td>\n",
              "      <td>15339.711000</td>\n",
              "      <td>96.564000</td>\n",
              "      <td>15225.538000</td>\n",
              "    </tr>\n",
              "    <tr>\n",
              "      <th>75%</th>\n",
              "      <td>17456.204250</td>\n",
              "      <td>18565.145000</td>\n",
              "      <td>104.986500</td>\n",
              "      <td>18401.999250</td>\n",
              "    </tr>\n",
              "    <tr>\n",
              "      <th>max</th>\n",
              "      <td>19358.176000</td>\n",
              "      <td>22273.060000</td>\n",
              "      <td>117.380000</td>\n",
              "      <td>22722.581000</td>\n",
              "    </tr>\n",
              "  </tbody>\n",
              "</table>\n",
              "</div>"
            ],
            "text/plain": [
              "             Target           gnp      gdpdef           gdp\n",
              "count     86.000000     85.000000   86.000000     86.000000\n",
              "mean   16043.371291  15788.494200   96.672000  15705.747209\n",
              "std     1809.872040   3545.817776   11.154457   3528.301498\n",
              "min    12935.252000  10035.263000   77.325000  10002.179000\n",
              "25%    14868.853000  12996.998000   87.280000  12977.652500\n",
              "50%    15781.342000  15339.711000   96.564000  15225.538000\n",
              "75%    17456.204250  18565.145000  104.986500  18401.999250\n",
              "max    19358.176000  22273.060000  117.380000  22722.581000"
            ]
          },
          "metadata": {
            "tags": []
          },
          "execution_count": 232
        }
      ]
    },
    {
      "cell_type": "code",
      "metadata": {
        "colab": {
          "base_uri": "https://localhost:8080/",
          "height": 360
        },
        "id": "g7b2Q7QC10P_",
        "outputId": "d0d693a4-68fc-432b-df2a-267b6f5d5d4a"
      },
      "source": [
        "# Lets see how's the target variables\n",
        "plt.figure(figsize=(15,5))\n",
        "sns.lineplot(train['quarter'],train['Target'])\n",
        "sns.lineplot(train['quarter'],train['gnp']) \t\n",
        "sns.lineplot(train['quarter'],train['gdp'])\n",
        "plt.legend(['Target','gnp','gdp'])\n",
        "plt.xticks(rotation=90)\n",
        "plt.show()"
      ],
      "execution_count": 233,
      "outputs": [
        {
          "output_type": "display_data",
          "data": {
            "image/png": "[encoded data removed]",
            "text/plain": [
              "<Figure size 1080x360 with 1 Axes>"
            ]
          },
          "metadata": {
            "tags": []
          }
        }
      ]
    },
    {
      "cell_type": "code",
      "metadata": {
        "colab": {
          "base_uri": "https://localhost:8080/",
          "height": 237
        },
        "id": "19sG2p6VuBfl",
        "outputId": "e8b35e73-5e26-4e74-d412-9bcfa724aeb3"
      },
      "source": [
        "# checking for any quarter result missing \n",
        "plt.figure(figsize=(8,3))\n",
        "sns.countplot(train['quarter'].apply(lambda x:x.split('Q')[0]))\n",
        "plt.xticks(rotation=90)\n",
        "plt.show()"
      ],
      "execution_count": 234,
      "outputs": [
        {
          "output_type": "display_data",
          "data": {
            "image/png": "[encoded data removed]",
            "text/plain": [
              "<Figure size 576x216 with 1 Axes>"
            ]
          },
          "metadata": {
            "tags": []
          }
        }
      ]
    },
    {
      "cell_type": "markdown",
      "metadata": {
        "id": "Zes_S705wY-y"
      },
      "source": [
        "There is no missing values in the quarter results. We have to predict for the upcoming six quarter . ie, two of  2021 and four of 2022 "
      ]
    },
    {
      "cell_type": "code",
      "metadata": {
        "id": "gFKs-6Nb5lQ4"
      },
      "source": [
        "train = pd.read_csv('/content/drive/MyDrive/Colab Notebooks/Data/fred_quarterly.csv')"
      ],
      "execution_count": 235,
      "outputs": []
    },
    {
      "cell_type": "code",
      "metadata": {
        "id": "8gGqr8BBlTkL"
      },
      "source": [
        "# Lets create new features \n",
        "train['year'] = train['quarter'].apply(lambda x : x.split('Q')[0]).astype(int)\n",
        "train['quarter_'] = train['quarter'].apply(lambda x : x.split('Q')[1]).astype(int)\n",
        "train['Covid_flag'] = pd.Series(np.where(train['year'] >=2020, 1, 0))\n",
        "#train['rolling_mean_4'] = train['Target'].shift(4).rolling(window=4).mean()\n",
        "train['lag_1'] = train['Target'].shift(1)\n",
        "train['lag_2'] = train['Target'].shift(2)\n",
        "train['lag_4'] = train['Target'].shift(4)\n",
        "train = train.set_index('quarter')"
      ],
      "execution_count": 236,
      "outputs": []
    },
    {
      "cell_type": "code",
      "metadata": {
        "id": "LWmvOFQ12g6V"
      },
      "source": [
        "# Replace the NaN values for rolling_mean and lag_4 by corresponding values\n",
        "#train['rolling_mean_4'].iloc[:7] = train['Target'].iloc[:7]\n",
        "#train['lag_4'].iloc[:4] = train['Target'].iloc[:4]\n",
        "# drop nan raws\n",
        "train.drop(train.index[0:4],inplace=True)"
      ],
      "execution_count": 237,
      "outputs": []
    },
    {
      "cell_type": "code",
      "metadata": {
        "id": "26mpNefxmvIl"
      },
      "source": [
        "# Select the feature needed for the time series\n",
        "df  = train[['year','quarter_','Covid_flag','lag_1','lag_2','lag_4','Target']]"
      ],
      "execution_count": 238,
      "outputs": []
    },
    {
      "cell_type": "code",
      "metadata": {
        "colab": {
          "base_uri": "https://localhost:8080/"
        },
        "id": "38Uxr0Kwnmny",
        "outputId": "f18b9aba-bb99-464f-e7f8-3a60ef5cc2ef"
      },
      "source": [
        "#Check for the  Missing values\n",
        "df.isnull().sum()"
      ],
      "execution_count": 239,
      "outputs": [
        {
          "output_type": "execute_result",
          "data": {
            "text/plain": [
              "year          0\n",
              "quarter_      0\n",
              "Covid_flag    0\n",
              "lag_1         0\n",
              "lag_2         0\n",
              "lag_4         0\n",
              "Target        0\n",
              "dtype: int64"
            ]
          },
          "metadata": {
            "tags": []
          },
          "execution_count": 239
        }
      ]
    },
    {
      "cell_type": "markdown",
      "metadata": {
        "id": "Ny54BvZ9phuv"
      },
      "source": [
        "### Split the data for trainig and testing"
      ]
    },
    {
      "cell_type": "code",
      "metadata": {
        "id": "IqAyi_TVojkv"
      },
      "source": [
        "# We can decide any boundary for training and testing \n",
        "def train_test_split(data,split_year,split_quarter):\n",
        "  df_train = data[data['year']<split_year]\n",
        "  df_test = data[data['year']>=split_year]\n",
        "  return df_train,df_test"
      ],
      "execution_count": 240,
      "outputs": []
    },
    {
      "cell_type": "code",
      "metadata": {
        "id": "0w16HkVqsloS"
      },
      "source": [
        "# We are split as 2019 boundary\n",
        "df_train ,df_test = train_test_split(df,2020,1)"
      ],
      "execution_count": 241,
      "outputs": []
    },
    {
      "cell_type": "code",
      "metadata": {
        "colab": {
          "base_uri": "https://localhost:8080/",
          "height": 360
        },
        "id": "x2q-AEpexCsp",
        "outputId": "d5f639e1-9ac4-47fc-f84e-c04d90bb15a1"
      },
      "source": [
        "# Let's visulaize the target\n",
        "plt.figure(figsize=(14,5))\n",
        "sns.lineplot(df_train.index,df_train['Target'],label='Train')\n",
        "sns.lineplot(df_test.index,df_test['Target'],label='Test')\n",
        "plt.xticks(rotation=90)\n",
        "plt.show()"
      ],
      "execution_count": 242,
      "outputs": [
        {
          "output_type": "display_data",
          "data": {
            "image/png": "[encoded data removed]",
            "text/plain": [
              "<Figure size 1008x360 with 1 Axes>"
            ]
          },
          "metadata": {
            "tags": []
          }
        }
      ]
    },
    {
      "cell_type": "markdown",
      "metadata": {
        "id": "1YYj4Vieyn0o"
      },
      "source": [
        "## Create Model"
      ]
    },
    {
      "cell_type": "code",
      "metadata": {
        "id": "k4R31Ynhxvbj"
      },
      "source": [
        "# import regeression models pycaret\n",
        "from pycaret.regression import *"
      ],
      "execution_count": 243,
      "outputs": []
    },
    {
      "cell_type": "code",
      "metadata": {
        "id": "QM6HwSIsy561"
      },
      "source": [
        "# Setting up the model\n",
        "reg = setup(data = df_train, target = 'Target',\n",
        "              train_size = 0.9, \n",
        "              data_split_shuffle = False, fold_strategy = 'timeseries', fold = 3,\n",
        "              silent = True, verbose = False, session_id = 123)"
      ],
      "execution_count": 244,
      "outputs": []
    },
    {
      "cell_type": "code",
      "metadata": {
        "colab": {
          "base_uri": "https://localhost:8080/",
          "height": 582,
          "referenced_widgets": [
            "3b3c04c2c3be498e851d17489b805cd6",
            "e01aefde40c0425c9ee94830c12d830f",
            "0c282ba107c94ebb9cfc39d21f37a44c"
          ]
        },
        "id": "-d1_aJ-0mc4D",
        "outputId": "ddc7968f-ddd0-4cda-83d3-5261ba1c71c6"
      },
      "source": [
        "best = compare_models(sort='MAE')"
      ],
      "execution_count": 245,
      "outputs": [
        {
          "output_type": "display_data",
          "data": {
            "text/html": [
              "<div>\n",
              "<style scoped>\n",
              "    .dataframe tbody tr th:only-of-type {\n",
              "        vertical-align: middle;\n",
              "    }\n",
              "\n",
              "    .dataframe tbody tr th {\n",
              "        vertical-align: top;\n",
              "    }\n",
              "\n",
              "    .dataframe thead th {\n",
              "        text-align: right;\n",
              "    }\n",
              "</style>\n",
              "<table border=\"1\" class=\"dataframe\">\n",
              "  <thead>\n",
              "    <tr style=\"text-align: right;\">\n",
              "      <th></th>\n",
              "      <th>Model</th>\n",
              "      <th>MAE</th>\n",
              "      <th>MSE</th>\n",
              "      <th>RMSE</th>\n",
              "      <th>R2</th>\n",
              "      <th>RMSLE</th>\n",
              "      <th>MAPE</th>\n",
              "      <th>TT (Sec)</th>\n",
              "    </tr>\n",
              "  </thead>\n",
              "  <tbody>\n",
              "    <tr>\n",
              "      <th>huber</th>\n",
              "      <td>Huber Regressor</td>\n",
              "      <td>6.616230e+01</td>\n",
              "      <td>9.809092e+03</td>\n",
              "      <td>9.252730e+01</td>\n",
              "      <td>8.994000e-01</td>\n",
              "      <td>0.0058</td>\n",
              "      <td>0.0042</td>\n",
              "      <td>0.0267</td>\n",
              "    </tr>\n",
              "    <tr>\n",
              "      <th>omp</th>\n",
              "      <td>Orthogonal Matching Pursuit</td>\n",
              "      <td>1.021003e+02</td>\n",
              "      <td>2.331653e+04</td>\n",
              "      <td>1.253732e+02</td>\n",
              "      <td>7.304000e-01</td>\n",
              "      <td>0.0079</td>\n",
              "      <td>0.0065</td>\n",
              "      <td>0.0167</td>\n",
              "    </tr>\n",
              "    <tr>\n",
              "      <th>lasso</th>\n",
              "      <td>Lasso Regression</td>\n",
              "      <td>1.427425e+02</td>\n",
              "      <td>4.565678e+04</td>\n",
              "      <td>1.726669e+02</td>\n",
              "      <td>4.670000e-01</td>\n",
              "      <td>0.0109</td>\n",
              "      <td>0.0091</td>\n",
              "      <td>0.0200</td>\n",
              "    </tr>\n",
              "    <tr>\n",
              "      <th>par</th>\n",
              "      <td>Passive Aggressive Regressor</td>\n",
              "      <td>1.544076e+02</td>\n",
              "      <td>3.850117e+04</td>\n",
              "      <td>1.944504e+02</td>\n",
              "      <td>6.651000e-01</td>\n",
              "      <td>0.0121</td>\n",
              "      <td>0.0096</td>\n",
              "      <td>0.0167</td>\n",
              "    </tr>\n",
              "    <tr>\n",
              "      <th>ridge</th>\n",
              "      <td>Ridge Regression</td>\n",
              "      <td>1.603901e+02</td>\n",
              "      <td>5.239182e+04</td>\n",
              "      <td>1.897122e+02</td>\n",
              "      <td>3.966000e-01</td>\n",
              "      <td>0.0119</td>\n",
              "      <td>0.0102</td>\n",
              "      <td>0.0167</td>\n",
              "    </tr>\n",
              "    <tr>\n",
              "      <th>en</th>\n",
              "      <td>Elastic Net</td>\n",
              "      <td>1.609204e+02</td>\n",
              "      <td>5.535955e+04</td>\n",
              "      <td>1.906158e+02</td>\n",
              "      <td>3.548000e-01</td>\n",
              "      <td>0.0120</td>\n",
              "      <td>0.0102</td>\n",
              "      <td>0.0167</td>\n",
              "    </tr>\n",
              "    <tr>\n",
              "      <th>br</th>\n",
              "      <td>Bayesian Ridge</td>\n",
              "      <td>1.668328e+02</td>\n",
              "      <td>5.966533e+04</td>\n",
              "      <td>1.965544e+02</td>\n",
              "      <td>3.022000e-01</td>\n",
              "      <td>0.0124</td>\n",
              "      <td>0.0106</td>\n",
              "      <td>0.0200</td>\n",
              "    </tr>\n",
              "    <tr>\n",
              "      <th>llar</th>\n",
              "      <td>Lasso Least Angle Regression</td>\n",
              "      <td>1.806673e+02</td>\n",
              "      <td>5.150787e+04</td>\n",
              "      <td>2.068193e+02</td>\n",
              "      <td>4.574000e-01</td>\n",
              "      <td>0.0129</td>\n",
              "      <td>0.0113</td>\n",
              "      <td>0.0200</td>\n",
              "    </tr>\n",
              "    <tr>\n",
              "      <th>lr</th>\n",
              "      <td>Linear Regression</td>\n",
              "      <td>5.799157e+02</td>\n",
              "      <td>5.141648e+05</td>\n",
              "      <td>6.241235e+02</td>\n",
              "      <td>-2.203400e+00</td>\n",
              "      <td>0.0377</td>\n",
              "      <td>0.0347</td>\n",
              "      <td>0.9067</td>\n",
              "    </tr>\n",
              "    <tr>\n",
              "      <th>gbr</th>\n",
              "      <td>Gradient Boosting Regressor</td>\n",
              "      <td>7.130756e+02</td>\n",
              "      <td>7.061652e+05</td>\n",
              "      <td>8.230158e+02</td>\n",
              "      <td>-3.921700e+00</td>\n",
              "      <td>0.0509</td>\n",
              "      <td>0.0429</td>\n",
              "      <td>0.0433</td>\n",
              "    </tr>\n",
              "    <tr>\n",
              "      <th>rf</th>\n",
              "      <td>Random Forest Regressor</td>\n",
              "      <td>7.596995e+02</td>\n",
              "      <td>7.825747e+05</td>\n",
              "      <td>8.533536e+02</td>\n",
              "      <td>-4.658400e+00</td>\n",
              "      <td>0.0529</td>\n",
              "      <td>0.0458</td>\n",
              "      <td>0.5300</td>\n",
              "    </tr>\n",
              "    <tr>\n",
              "      <th>knn</th>\n",
              "      <td>K Neighbors Regressor</td>\n",
              "      <td>7.779462e+02</td>\n",
              "      <td>8.214956e+05</td>\n",
              "      <td>8.596959e+02</td>\n",
              "      <td>-5.261200e+00</td>\n",
              "      <td>0.0535</td>\n",
              "      <td>0.0471</td>\n",
              "      <td>0.0833</td>\n",
              "    </tr>\n",
              "    <tr>\n",
              "      <th>et</th>\n",
              "      <td>Extra Trees Regressor</td>\n",
              "      <td>7.813418e+02</td>\n",
              "      <td>8.642521e+05</td>\n",
              "      <td>8.740424e+02</td>\n",
              "      <td>-4.630300e+00</td>\n",
              "      <td>0.0540</td>\n",
              "      <td>0.0468</td>\n",
              "      <td>0.4633</td>\n",
              "    </tr>\n",
              "    <tr>\n",
              "      <th>ada</th>\n",
              "      <td>AdaBoost Regressor</td>\n",
              "      <td>7.825369e+02</td>\n",
              "      <td>8.383384e+05</td>\n",
              "      <td>8.894736e+02</td>\n",
              "      <td>-4.812500e+00</td>\n",
              "      <td>0.0552</td>\n",
              "      <td>0.0471</td>\n",
              "      <td>0.0867</td>\n",
              "    </tr>\n",
              "    <tr>\n",
              "      <th>dt</th>\n",
              "      <td>Decision Tree Regressor</td>\n",
              "      <td>8.218570e+02</td>\n",
              "      <td>9.386625e+05</td>\n",
              "      <td>9.357126e+02</td>\n",
              "      <td>-5.466800e+00</td>\n",
              "      <td>0.0581</td>\n",
              "      <td>0.0494</td>\n",
              "      <td>0.0167</td>\n",
              "    </tr>\n",
              "    <tr>\n",
              "      <th>lightgbm</th>\n",
              "      <td>Light Gradient Boosting Machine</td>\n",
              "      <td>1.472520e+03</td>\n",
              "      <td>2.327418e+06</td>\n",
              "      <td>1.523586e+03</td>\n",
              "      <td>-1.749530e+01</td>\n",
              "      <td>0.0979</td>\n",
              "      <td>0.0903</td>\n",
              "      <td>0.1933</td>\n",
              "    </tr>\n",
              "    <tr>\n",
              "      <th>lar</th>\n",
              "      <td>Least Angle Regression</td>\n",
              "      <td>6.644555e+06</td>\n",
              "      <td>1.041535e+14</td>\n",
              "      <td>7.031689e+06</td>\n",
              "      <td>-6.593637e+08</td>\n",
              "      <td>3.9669</td>\n",
              "      <td>407.7864</td>\n",
              "      <td>0.0200</td>\n",
              "    </tr>\n",
              "  </tbody>\n",
              "</table>\n",
              "</div>"
            ],
            "text/plain": [
              "                                    Model           MAE           MSE  \\\n",
              "huber                     Huber Regressor  6.616230e+01  9.809092e+03   \n",
              "omp           Orthogonal Matching Pursuit  1.021003e+02  2.331653e+04   \n",
              "lasso                    Lasso Regression  1.427425e+02  4.565678e+04   \n",
              "par          Passive Aggressive Regressor  1.544076e+02  3.850117e+04   \n",
              "ridge                    Ridge Regression  1.603901e+02  5.239182e+04   \n",
              "en                            Elastic Net  1.609204e+02  5.535955e+04   \n",
              "br                         Bayesian Ridge  1.668328e+02  5.966533e+04   \n",
              "llar         Lasso Least Angle Regression  1.806673e+02  5.150787e+04   \n",
              "lr                      Linear Regression  5.799157e+02  5.141648e+05   \n",
              "gbr           Gradient Boosting Regressor  7.130756e+02  7.061652e+05   \n",
              "rf                Random Forest Regressor  7.596995e+02  7.825747e+05   \n",
              "knn                 K Neighbors Regressor  7.779462e+02  8.214956e+05   \n",
              "et                  Extra Trees Regressor  7.813418e+02  8.642521e+05   \n",
              "ada                    AdaBoost Regressor  7.825369e+02  8.383384e+05   \n",
              "dt                Decision Tree Regressor  8.218570e+02  9.386625e+05   \n",
              "lightgbm  Light Gradient Boosting Machine  1.472520e+03  2.327418e+06   \n",
              "lar                Least Angle Regression  6.644555e+06  1.041535e+14   \n",
              "\n",
              "                  RMSE            R2   RMSLE      MAPE  TT (Sec)  \n",
              "huber     9.252730e+01  8.994000e-01  0.0058    0.0042    0.0267  \n",
              "omp       1.253732e+02  7.304000e-01  0.0079    0.0065    0.0167  \n",
              "lasso     1.726669e+02  4.670000e-01  0.0109    0.0091    0.0200  \n",
              "par       1.944504e+02  6.651000e-01  0.0121    0.0096    0.0167  \n",
              "ridge     1.897122e+02  3.966000e-01  0.0119    0.0102    0.0167  \n",
              "en        1.906158e+02  3.548000e-01  0.0120    0.0102    0.0167  \n",
              "br        1.965544e+02  3.022000e-01  0.0124    0.0106    0.0200  \n",
              "llar      2.068193e+02  4.574000e-01  0.0129    0.0113    0.0200  \n",
              "lr        6.241235e+02 -2.203400e+00  0.0377    0.0347    0.9067  \n",
              "gbr       8.230158e+02 -3.921700e+00  0.0509    0.0429    0.0433  \n",
              "rf        8.533536e+02 -4.658400e+00  0.0529    0.0458    0.5300  \n",
              "knn       8.596959e+02 -5.261200e+00  0.0535    0.0471    0.0833  \n",
              "et        8.740424e+02 -4.630300e+00  0.0540    0.0468    0.4633  \n",
              "ada       8.894736e+02 -4.812500e+00  0.0552    0.0471    0.0867  \n",
              "dt        9.357126e+02 -5.466800e+00  0.0581    0.0494    0.0167  \n",
              "lightgbm  1.523586e+03 -1.749530e+01  0.0979    0.0903    0.1933  \n",
              "lar       7.031689e+06 -6.593637e+08  3.9669  407.7864    0.0200  "
            ]
          },
          "metadata": {
            "tags": []
          }
        }
      ]
    },
    {
      "cell_type": "markdown",
      "metadata": {
        "id": "3V9WA-l2115v"
      },
      "source": [
        "#### Create Baseline model"
      ]
    },
    {
      "cell_type": "code",
      "metadata": {
        "colab": {
          "base_uri": "https://localhost:8080/",
          "height": 206
        },
        "id": "EjGGZFN11qPF",
        "outputId": "28076b06-c527-4097-ee69-96b2dcabf87b"
      },
      "source": [
        "#we create a model\n",
        "model = create_model('huber')"
      ],
      "execution_count": 246,
      "outputs": [
        {
          "output_type": "display_data",
          "data": {
            "text/html": [
              "<div>\n",
              "<style scoped>\n",
              "    .dataframe tbody tr th:only-of-type {\n",
              "        vertical-align: middle;\n",
              "    }\n",
              "\n",
              "    .dataframe tbody tr th {\n",
              "        vertical-align: top;\n",
              "    }\n",
              "\n",
              "    .dataframe thead th {\n",
              "        text-align: right;\n",
              "    }\n",
              "</style>\n",
              "<table border=\"1\" class=\"dataframe\">\n",
              "  <thead>\n",
              "    <tr style=\"text-align: right;\">\n",
              "      <th></th>\n",
              "      <th>MAE</th>\n",
              "      <th>MSE</th>\n",
              "      <th>RMSE</th>\n",
              "      <th>R2</th>\n",
              "      <th>RMSLE</th>\n",
              "      <th>MAPE</th>\n",
              "    </tr>\n",
              "  </thead>\n",
              "  <tbody>\n",
              "    <tr>\n",
              "      <th>0</th>\n",
              "      <td>91.3476</td>\n",
              "      <td>20204.1206</td>\n",
              "      <td>142.1412</td>\n",
              "      <td>0.7502</td>\n",
              "      <td>0.0091</td>\n",
              "      <td>0.0059</td>\n",
              "    </tr>\n",
              "    <tr>\n",
              "      <th>1</th>\n",
              "      <td>61.7064</td>\n",
              "      <td>5296.0502</td>\n",
              "      <td>72.7740</td>\n",
              "      <td>0.9660</td>\n",
              "      <td>0.0046</td>\n",
              "      <td>0.0039</td>\n",
              "    </tr>\n",
              "    <tr>\n",
              "      <th>2</th>\n",
              "      <td>45.4330</td>\n",
              "      <td>3927.1065</td>\n",
              "      <td>62.6666</td>\n",
              "      <td>0.9820</td>\n",
              "      <td>0.0037</td>\n",
              "      <td>0.0026</td>\n",
              "    </tr>\n",
              "    <tr>\n",
              "      <th>Mean</th>\n",
              "      <td>66.1623</td>\n",
              "      <td>9809.0924</td>\n",
              "      <td>92.5273</td>\n",
              "      <td>0.8994</td>\n",
              "      <td>0.0058</td>\n",
              "      <td>0.0042</td>\n",
              "    </tr>\n",
              "    <tr>\n",
              "      <th>SD</th>\n",
              "      <td>19.0075</td>\n",
              "      <td>7371.6104</td>\n",
              "      <td>35.3242</td>\n",
              "      <td>0.1057</td>\n",
              "      <td>0.0024</td>\n",
              "      <td>0.0014</td>\n",
              "    </tr>\n",
              "  </tbody>\n",
              "</table>\n",
              "</div>"
            ],
            "text/plain": [
              "          MAE         MSE      RMSE      R2   RMSLE    MAPE\n",
              "0     91.3476  20204.1206  142.1412  0.7502  0.0091  0.0059\n",
              "1     61.7064   5296.0502   72.7740  0.9660  0.0046  0.0039\n",
              "2     45.4330   3927.1065   62.6666  0.9820  0.0037  0.0026\n",
              "Mean  66.1623   9809.0924   92.5273  0.8994  0.0058  0.0042\n",
              "SD    19.0075   7371.6104   35.3242  0.1057  0.0024  0.0014"
            ]
          },
          "metadata": {
            "tags": []
          }
        }
      ]
    },
    {
      "cell_type": "code",
      "metadata": {
        "colab": {
          "base_uri": "https://localhost:8080/",
          "height": 206
        },
        "id": "0UXOLA8uPdvN",
        "outputId": "d08da20c-cc85-4d63-dcf2-a9e7114021cc"
      },
      "source": [
        "tuned_model = tune_model(model)"
      ],
      "execution_count": 247,
      "outputs": [
        {
          "output_type": "display_data",
          "data": {
            "text/html": [
              "<div>\n",
              "<style scoped>\n",
              "    .dataframe tbody tr th:only-of-type {\n",
              "        vertical-align: middle;\n",
              "    }\n",
              "\n",
              "    .dataframe tbody tr th {\n",
              "        vertical-align: top;\n",
              "    }\n",
              "\n",
              "    .dataframe thead th {\n",
              "        text-align: right;\n",
              "    }\n",
              "</style>\n",
              "<table border=\"1\" class=\"dataframe\">\n",
              "  <thead>\n",
              "    <tr style=\"text-align: right;\">\n",
              "      <th></th>\n",
              "      <th>MAE</th>\n",
              "      <th>MSE</th>\n",
              "      <th>RMSE</th>\n",
              "      <th>R2</th>\n",
              "      <th>RMSLE</th>\n",
              "      <th>MAPE</th>\n",
              "    </tr>\n",
              "  </thead>\n",
              "  <tbody>\n",
              "    <tr>\n",
              "      <th>0</th>\n",
              "      <td>85.0303</td>\n",
              "      <td>18111.5283</td>\n",
              "      <td>134.5791</td>\n",
              "      <td>0.7760</td>\n",
              "      <td>0.0087</td>\n",
              "      <td>0.0055</td>\n",
              "    </tr>\n",
              "    <tr>\n",
              "      <th>1</th>\n",
              "      <td>61.7028</td>\n",
              "      <td>5294.2711</td>\n",
              "      <td>72.7617</td>\n",
              "      <td>0.9660</td>\n",
              "      <td>0.0046</td>\n",
              "      <td>0.0039</td>\n",
              "    </tr>\n",
              "    <tr>\n",
              "      <th>2</th>\n",
              "      <td>45.4268</td>\n",
              "      <td>3927.3532</td>\n",
              "      <td>62.6686</td>\n",
              "      <td>0.9820</td>\n",
              "      <td>0.0037</td>\n",
              "      <td>0.0026</td>\n",
              "    </tr>\n",
              "    <tr>\n",
              "      <th>Mean</th>\n",
              "      <td>64.0533</td>\n",
              "      <td>9111.0509</td>\n",
              "      <td>90.0031</td>\n",
              "      <td>0.9080</td>\n",
              "      <td>0.0056</td>\n",
              "      <td>0.0040</td>\n",
              "    </tr>\n",
              "    <tr>\n",
              "      <th>SD</th>\n",
              "      <td>16.2533</td>\n",
              "      <td>6388.7173</td>\n",
              "      <td>31.7881</td>\n",
              "      <td>0.0936</td>\n",
              "      <td>0.0022</td>\n",
              "      <td>0.0012</td>\n",
              "    </tr>\n",
              "  </tbody>\n",
              "</table>\n",
              "</div>"
            ],
            "text/plain": [
              "          MAE         MSE      RMSE      R2   RMSLE    MAPE\n",
              "0     85.0303  18111.5283  134.5791  0.7760  0.0087  0.0055\n",
              "1     61.7028   5294.2711   72.7617  0.9660  0.0046  0.0039\n",
              "2     45.4268   3927.3532   62.6686  0.9820  0.0037  0.0026\n",
              "Mean  64.0533   9111.0509   90.0031  0.9080  0.0056  0.0040\n",
              "SD    16.2533   6388.7173   31.7881  0.0936  0.0022  0.0012"
            ]
          },
          "metadata": {
            "tags": []
          }
        }
      ]
    },
    {
      "cell_type": "code",
      "metadata": {
        "colab": {
          "base_uri": "https://localhost:8080/",
          "height": 376
        },
        "id": "riKqjD1cSPyt",
        "outputId": "fff8c965-ed07-4a2a-9ffd-ab33eff9fc7b"
      },
      "source": [
        "plot_model(tuned_model)"
      ],
      "execution_count": 248,
      "outputs": [
        {
          "output_type": "display_data",
          "data": {
            "image/png": "[encoded data removed]",
            "text/plain": [
              "<Figure size 576x396 with 2 Axes>"
            ]
          },
          "metadata": {
            "tags": []
          }
        }
      ]
    },
    {
      "cell_type": "code",
      "metadata": {
        "colab": {
          "base_uri": "https://localhost:8080/",
          "height": 378
        },
        "id": "6RZGMjw1Sawb",
        "outputId": "928341da-2b45-40c2-c81f-7f774b2a5c8f"
      },
      "source": [
        "plot_model(tuned_model, plot = 'error')"
      ],
      "execution_count": 249,
      "outputs": [
        {
          "output_type": "display_data",
          "data": {
            "image/png": "[encoded data removed]",
            "text/plain": [
              "<Figure size 576x396 with 1 Axes>"
            ]
          },
          "metadata": {
            "tags": []
          }
        }
      ]
    },
    {
      "cell_type": "code",
      "metadata": {
        "colab": {
          "base_uri": "https://localhost:8080/",
          "height": 478
        },
        "id": "sXtqS2PXO5MN",
        "outputId": "b2496b43-faf3-4e41-d74c-4c65b700c344"
      },
      "source": [
        "from statsmodels.graphics.tsaplots import plot_acf\n",
        "plot_model(tuned_model, plot='feature') "
      ],
      "execution_count": 250,
      "outputs": [
        {
          "output_type": "display_data",
          "data": {
            "image/png": "[encoded data removed]",
            "text/plain": [
              "<Figure size 800x500 with 1 Axes>"
            ]
          },
          "metadata": {
            "tags": []
          }
        }
      ]
    },
    {
      "cell_type": "code",
      "metadata": {
        "id": "8vcsWl1z6U5y"
      },
      "source": [
        "# generate predictions on the original dataset\n",
        "predictions = predict_model(tuned_model, data=df)# add a date column in the dataset"
      ],
      "execution_count": 251,
      "outputs": []
    },
    {
      "cell_type": "code",
      "metadata": {
        "colab": {
          "base_uri": "https://localhost:8080/",
          "height": 320
        },
        "id": "moqRBSnvnraa",
        "outputId": "65d16551-61c2-47a3-f3ea-f755a439e056"
      },
      "source": [
        "plt.figure(figsize=(15,4))\n",
        "sns.scatterplot(predictions.index,predictions['Target'])\n",
        "sns.lineplot(predictions.index,predictions['Target'],label='Target')\n",
        "sns.scatterplot(predictions.index,predictions['Label'])\n",
        "sns.lineplot(predictions.index,predictions['Label'],label='Prediction')\n",
        "plt.title('Test Prediction')\n",
        "plt.xticks(rotation=90)\n",
        "plt.show()"
      ],
      "execution_count": 252,
      "outputs": [
        {
          "output_type": "display_data",
          "data": {
            "image/png": "[encoded data removed]",
            "text/plain": [
              "<Figure size 1080x288 with 1 Axes>"
            ]
          },
          "metadata": {
            "tags": []
          }
        }
      ]
    },
    {
      "cell_type": "markdown",
      "metadata": {
        "id": "dsYd8G-cUVaQ"
      },
      "source": [
        "### Blending or Stacking of Model\n",
        "We will now create a blend model using four algorithms :huber,omp,lasso,par\n",
        "\n",
        "\n",
        "\n",
        "\n",
        "\n"
      ]
    },
    {
      "cell_type": "code",
      "metadata": {
        "id": "o1Z6PtERUu4-"
      },
      "source": [
        "huber = create_model('huber', verbose = False)\n",
        "omp = create_model('omp', verbose = False)\n",
        "lasso = create_model('lasso',verbose=False)\n",
        "par = create_model('par',verbose=False)"
      ],
      "execution_count": 253,
      "outputs": []
    },
    {
      "cell_type": "code",
      "metadata": {
        "id": "dhISRs0VXG5J"
      },
      "source": [
        "# Tune models\n",
        "tuned_huber = tune_model(huber,verbose=False)\n",
        "tuned_omp = tune_model(omp,verbose=False)\n",
        "tuned_lasso = tune_model(lasso,verbose=False)\n",
        "tuned_par = tune_model(par,verbose=False)"
      ],
      "execution_count": 254,
      "outputs": []
    },
    {
      "cell_type": "code",
      "metadata": {
        "id": "TJyWiGzIXqpK"
      },
      "source": [
        "blend_specific = blend_models(estimator_list = [tuned_huber,tuned_omp,tuned_lasso,tuned_par],verbose=False)"
      ],
      "execution_count": 255,
      "outputs": []
    },
    {
      "cell_type": "code",
      "metadata": {
        "id": "tpfemeefYp_P"
      },
      "source": [
        "# predictions \n",
        "predictions_blend = predict_model(blend_specific, data=df)"
      ],
      "execution_count": 256,
      "outputs": []
    },
    {
      "cell_type": "code",
      "metadata": {
        "colab": {
          "base_uri": "https://localhost:8080/",
          "height": 320
        },
        "id": "rdnJ8aZVY0aP",
        "outputId": "259d4532-b503-4392-be74-374af053e38a"
      },
      "source": [
        "plt.figure(figsize=(15,4))\n",
        "sns.scatterplot(predictions_blend.index,predictions_blend['Target'])\n",
        "sns.lineplot(predictions_blend.index,predictions_blend['Target'],label='Target')\n",
        "sns.scatterplot(predictions_blend.index,predictions_blend['Label'])\n",
        "sns.lineplot(predictions_blend.index,predictions_blend['Label'],label='Prediction')\n",
        "plt.title('Test Prediction Blend Model')\n",
        "plt.xticks(rotation=90)\n",
        "plt.show()"
      ],
      "execution_count": 257,
      "outputs": [
        {
          "output_type": "display_data",
          "data": {
            "image/png": "[encoded data removed]",
            "text/plain": [
              "<Figure size 1080x288 with 1 Axes>"
            ]
          },
          "metadata": {
            "tags": []
          }
        }
      ]
    },
    {
      "cell_type": "markdown",
      "metadata": {
        "id": "vVv-5BIaS_be"
      },
      "source": [
        "## Predict future values\n",
        "Let's predict future 6 quarters Target valuels "
      ]
    },
    {
      "cell_type": "code",
      "metadata": {
        "id": "J72z643CbfKB"
      },
      "source": [
        "# drop covid flag,since it doest have much influence on predictoins\n",
        "df.drop('Covid_flag',axis=1,inplace=True)"
      ],
      "execution_count": 258,
      "outputs": []
    },
    {
      "cell_type": "code",
      "metadata": {
        "id": "pEItGY4GQKWW"
      },
      "source": [
        "# Lets run the model using whole dataset since we dont need any trainig data\n",
        "# Setting up the model\n",
        "reg = setup(data = df, target = 'Target',\n",
        "              train_size = 0.9, \n",
        "              data_split_shuffle = False, fold_strategy = 'timeseries', fold = 3,\n",
        "              silent = True, verbose = False, session_id = 123)"
      ],
      "execution_count": 259,
      "outputs": []
    },
    {
      "cell_type": "code",
      "metadata": {
        "colab": {
          "base_uri": "https://localhost:8080/",
          "height": 582,
          "referenced_widgets": [
            "31049a1f2d3643498c42816a9867e7fc",
            "ae68fd66ecbf422099ec5b38914d5f20",
            "d3cbf6d820f64d428a3de91571feeefe"
          ]
        },
        "id": "sNvNX-71Q80w",
        "outputId": "7d1a074d-d356-4f47-efc2-ac792e78c74f"
      },
      "source": [
        "best = compare_models(sort='MAE')"
      ],
      "execution_count": 260,
      "outputs": [
        {
          "output_type": "display_data",
          "data": {
            "text/html": [
              "<div>\n",
              "<style scoped>\n",
              "    .dataframe tbody tr th:only-of-type {\n",
              "        vertical-align: middle;\n",
              "    }\n",
              "\n",
              "    .dataframe tbody tr th {\n",
              "        vertical-align: top;\n",
              "    }\n",
              "\n",
              "    .dataframe thead th {\n",
              "        text-align: right;\n",
              "    }\n",
              "</style>\n",
              "<table border=\"1\" class=\"dataframe\">\n",
              "  <thead>\n",
              "    <tr style=\"text-align: right;\">\n",
              "      <th></th>\n",
              "      <th>Model</th>\n",
              "      <th>MAE</th>\n",
              "      <th>MSE</th>\n",
              "      <th>RMSE</th>\n",
              "      <th>R2</th>\n",
              "      <th>RMSLE</th>\n",
              "      <th>MAPE</th>\n",
              "      <th>TT (Sec)</th>\n",
              "    </tr>\n",
              "  </thead>\n",
              "  <tbody>\n",
              "    <tr>\n",
              "      <th>huber</th>\n",
              "      <td>Huber Regressor</td>\n",
              "      <td>6.823940e+01</td>\n",
              "      <td>9.647678e+03</td>\n",
              "      <td>9.147060e+01</td>\n",
              "      <td>8.519000e-01</td>\n",
              "      <td>0.0056</td>\n",
              "      <td>0.0042</td>\n",
              "      <td>0.0300</td>\n",
              "    </tr>\n",
              "    <tr>\n",
              "      <th>omp</th>\n",
              "      <td>Orthogonal Matching Pursuit</td>\n",
              "      <td>8.467740e+01</td>\n",
              "      <td>1.616820e+04</td>\n",
              "      <td>1.060470e+02</td>\n",
              "      <td>7.091000e-01</td>\n",
              "      <td>0.0066</td>\n",
              "      <td>0.0053</td>\n",
              "      <td>0.0200</td>\n",
              "    </tr>\n",
              "    <tr>\n",
              "      <th>lasso</th>\n",
              "      <td>Lasso Regression</td>\n",
              "      <td>1.136931e+02</td>\n",
              "      <td>2.964786e+04</td>\n",
              "      <td>1.355886e+02</td>\n",
              "      <td>4.395000e-01</td>\n",
              "      <td>0.0085</td>\n",
              "      <td>0.0072</td>\n",
              "      <td>0.0200</td>\n",
              "    </tr>\n",
              "    <tr>\n",
              "      <th>ridge</th>\n",
              "      <td>Ridge Regression</td>\n",
              "      <td>1.172870e+02</td>\n",
              "      <td>2.989244e+04</td>\n",
              "      <td>1.451288e+02</td>\n",
              "      <td>4.606000e-01</td>\n",
              "      <td>0.0090</td>\n",
              "      <td>0.0073</td>\n",
              "      <td>0.0200</td>\n",
              "    </tr>\n",
              "    <tr>\n",
              "      <th>en</th>\n",
              "      <td>Elastic Net</td>\n",
              "      <td>1.202969e+02</td>\n",
              "      <td>3.195999e+04</td>\n",
              "      <td>1.441496e+02</td>\n",
              "      <td>4.082000e-01</td>\n",
              "      <td>0.0090</td>\n",
              "      <td>0.0076</td>\n",
              "      <td>0.0267</td>\n",
              "    </tr>\n",
              "    <tr>\n",
              "      <th>br</th>\n",
              "      <td>Bayesian Ridge</td>\n",
              "      <td>1.229135e+02</td>\n",
              "      <td>3.339098e+04</td>\n",
              "      <td>1.469816e+02</td>\n",
              "      <td>3.814000e-01</td>\n",
              "      <td>0.0092</td>\n",
              "      <td>0.0078</td>\n",
              "      <td>0.0167</td>\n",
              "    </tr>\n",
              "    <tr>\n",
              "      <th>llar</th>\n",
              "      <td>Lasso Least Angle Regression</td>\n",
              "      <td>1.433713e+02</td>\n",
              "      <td>3.452951e+04</td>\n",
              "      <td>1.735066e+02</td>\n",
              "      <td>4.891000e-01</td>\n",
              "      <td>0.0107</td>\n",
              "      <td>0.0089</td>\n",
              "      <td>0.0200</td>\n",
              "    </tr>\n",
              "    <tr>\n",
              "      <th>par</th>\n",
              "      <td>Passive Aggressive Regressor</td>\n",
              "      <td>3.184267e+02</td>\n",
              "      <td>1.533556e+05</td>\n",
              "      <td>3.507357e+02</td>\n",
              "      <td>-5.971000e-01</td>\n",
              "      <td>0.0219</td>\n",
              "      <td>0.0197</td>\n",
              "      <td>0.0233</td>\n",
              "    </tr>\n",
              "    <tr>\n",
              "      <th>lr</th>\n",
              "      <td>Linear Regression</td>\n",
              "      <td>7.068149e+02</td>\n",
              "      <td>7.221827e+05</td>\n",
              "      <td>7.633707e+02</td>\n",
              "      <td>-2.856100e+00</td>\n",
              "      <td>0.0455</td>\n",
              "      <td>0.0412</td>\n",
              "      <td>0.0200</td>\n",
              "    </tr>\n",
              "    <tr>\n",
              "      <th>gbr</th>\n",
              "      <td>Gradient Boosting Regressor</td>\n",
              "      <td>7.500376e+02</td>\n",
              "      <td>7.804452e+05</td>\n",
              "      <td>8.637460e+02</td>\n",
              "      <td>-4.541800e+00</td>\n",
              "      <td>0.0525</td>\n",
              "      <td>0.0444</td>\n",
              "      <td>0.0500</td>\n",
              "    </tr>\n",
              "    <tr>\n",
              "      <th>dt</th>\n",
              "      <td>Decision Tree Regressor</td>\n",
              "      <td>7.787109e+02</td>\n",
              "      <td>8.152308e+05</td>\n",
              "      <td>8.916223e+02</td>\n",
              "      <td>-5.313200e+00</td>\n",
              "      <td>0.0545</td>\n",
              "      <td>0.0463</td>\n",
              "      <td>0.0200</td>\n",
              "    </tr>\n",
              "    <tr>\n",
              "      <th>ada</th>\n",
              "      <td>AdaBoost Regressor</td>\n",
              "      <td>8.151509e+02</td>\n",
              "      <td>8.955676e+05</td>\n",
              "      <td>9.192617e+02</td>\n",
              "      <td>-5.129400e+00</td>\n",
              "      <td>0.0559</td>\n",
              "      <td>0.0482</td>\n",
              "      <td>0.0767</td>\n",
              "    </tr>\n",
              "    <tr>\n",
              "      <th>rf</th>\n",
              "      <td>Random Forest Regressor</td>\n",
              "      <td>8.172764e+02</td>\n",
              "      <td>8.803026e+05</td>\n",
              "      <td>9.158436e+02</td>\n",
              "      <td>-5.559300e+00</td>\n",
              "      <td>0.0557</td>\n",
              "      <td>0.0484</td>\n",
              "      <td>0.5333</td>\n",
              "    </tr>\n",
              "    <tr>\n",
              "      <th>knn</th>\n",
              "      <td>K Neighbors Regressor</td>\n",
              "      <td>8.208021e+02</td>\n",
              "      <td>8.978968e+05</td>\n",
              "      <td>9.112624e+02</td>\n",
              "      <td>-5.680700e+00</td>\n",
              "      <td>0.0553</td>\n",
              "      <td>0.0485</td>\n",
              "      <td>0.0867</td>\n",
              "    </tr>\n",
              "    <tr>\n",
              "      <th>et</th>\n",
              "      <td>Extra Trees Regressor</td>\n",
              "      <td>8.604861e+02</td>\n",
              "      <td>9.615017e+05</td>\n",
              "      <td>9.585783e+02</td>\n",
              "      <td>-6.558400e+00</td>\n",
              "      <td>0.0585</td>\n",
              "      <td>0.0510</td>\n",
              "      <td>0.4600</td>\n",
              "    </tr>\n",
              "    <tr>\n",
              "      <th>lightgbm</th>\n",
              "      <td>Light Gradient Boosting Machine</td>\n",
              "      <td>1.622243e+03</td>\n",
              "      <td>2.809290e+06</td>\n",
              "      <td>1.670657e+03</td>\n",
              "      <td>-2.402970e+01</td>\n",
              "      <td>0.1056</td>\n",
              "      <td>0.0975</td>\n",
              "      <td>0.0233</td>\n",
              "    </tr>\n",
              "    <tr>\n",
              "      <th>lar</th>\n",
              "      <td>Least Angle Regression</td>\n",
              "      <td>7.709901e+06</td>\n",
              "      <td>1.115292e+14</td>\n",
              "      <td>8.259103e+06</td>\n",
              "      <td>-5.975200e+08</td>\n",
              "      <td>4.1467</td>\n",
              "      <td>455.9872</td>\n",
              "      <td>0.0200</td>\n",
              "    </tr>\n",
              "  </tbody>\n",
              "</table>\n",
              "</div>"
            ],
            "text/plain": [
              "                                    Model           MAE           MSE  \\\n",
              "huber                     Huber Regressor  6.823940e+01  9.647678e+03   \n",
              "omp           Orthogonal Matching Pursuit  8.467740e+01  1.616820e+04   \n",
              "lasso                    Lasso Regression  1.136931e+02  2.964786e+04   \n",
              "ridge                    Ridge Regression  1.172870e+02  2.989244e+04   \n",
              "en                            Elastic Net  1.202969e+02  3.195999e+04   \n",
              "br                         Bayesian Ridge  1.229135e+02  3.339098e+04   \n",
              "llar         Lasso Least Angle Regression  1.433713e+02  3.452951e+04   \n",
              "par          Passive Aggressive Regressor  3.184267e+02  1.533556e+05   \n",
              "lr                      Linear Regression  7.068149e+02  7.221827e+05   \n",
              "gbr           Gradient Boosting Regressor  7.500376e+02  7.804452e+05   \n",
              "dt                Decision Tree Regressor  7.787109e+02  8.152308e+05   \n",
              "ada                    AdaBoost Regressor  8.151509e+02  8.955676e+05   \n",
              "rf                Random Forest Regressor  8.172764e+02  8.803026e+05   \n",
              "knn                 K Neighbors Regressor  8.208021e+02  8.978968e+05   \n",
              "et                  Extra Trees Regressor  8.604861e+02  9.615017e+05   \n",
              "lightgbm  Light Gradient Boosting Machine  1.622243e+03  2.809290e+06   \n",
              "lar                Least Angle Regression  7.709901e+06  1.115292e+14   \n",
              "\n",
              "                  RMSE            R2   RMSLE      MAPE  TT (Sec)  \n",
              "huber     9.147060e+01  8.519000e-01  0.0056    0.0042    0.0300  \n",
              "omp       1.060470e+02  7.091000e-01  0.0066    0.0053    0.0200  \n",
              "lasso     1.355886e+02  4.395000e-01  0.0085    0.0072    0.0200  \n",
              "ridge     1.451288e+02  4.606000e-01  0.0090    0.0073    0.0200  \n",
              "en        1.441496e+02  4.082000e-01  0.0090    0.0076    0.0267  \n",
              "br        1.469816e+02  3.814000e-01  0.0092    0.0078    0.0167  \n",
              "llar      1.735066e+02  4.891000e-01  0.0107    0.0089    0.0200  \n",
              "par       3.507357e+02 -5.971000e-01  0.0219    0.0197    0.0233  \n",
              "lr        7.633707e+02 -2.856100e+00  0.0455    0.0412    0.0200  \n",
              "gbr       8.637460e+02 -4.541800e+00  0.0525    0.0444    0.0500  \n",
              "dt        8.916223e+02 -5.313200e+00  0.0545    0.0463    0.0200  \n",
              "ada       9.192617e+02 -5.129400e+00  0.0559    0.0482    0.0767  \n",
              "rf        9.158436e+02 -5.559300e+00  0.0557    0.0484    0.5333  \n",
              "knn       9.112624e+02 -5.680700e+00  0.0553    0.0485    0.0867  \n",
              "et        9.585783e+02 -6.558400e+00  0.0585    0.0510    0.4600  \n",
              "lightgbm  1.670657e+03 -2.402970e+01  0.1056    0.0975    0.0233  \n",
              "lar       8.259103e+06 -5.975200e+08  4.1467  455.9872    0.0200  "
            ]
          },
          "metadata": {
            "tags": []
          }
        }
      ]
    },
    {
      "cell_type": "code",
      "metadata": {
        "colab": {
          "base_uri": "https://localhost:8080/",
          "height": 206
        },
        "id": "M51U7o4VRH6G",
        "outputId": "7e3d80d0-8e19-4273-ff90-caf41079d3ad"
      },
      "source": [
        "#we create a model\n",
        "model_final = create_model('huber')"
      ],
      "execution_count": 261,
      "outputs": [
        {
          "output_type": "display_data",
          "data": {
            "text/html": [
              "<div>\n",
              "<style scoped>\n",
              "    .dataframe tbody tr th:only-of-type {\n",
              "        vertical-align: middle;\n",
              "    }\n",
              "\n",
              "    .dataframe tbody tr th {\n",
              "        vertical-align: top;\n",
              "    }\n",
              "\n",
              "    .dataframe thead th {\n",
              "        text-align: right;\n",
              "    }\n",
              "</style>\n",
              "<table border=\"1\" class=\"dataframe\">\n",
              "  <thead>\n",
              "    <tr style=\"text-align: right;\">\n",
              "      <th></th>\n",
              "      <th>MAE</th>\n",
              "      <th>MSE</th>\n",
              "      <th>RMSE</th>\n",
              "      <th>R2</th>\n",
              "      <th>RMSLE</th>\n",
              "      <th>MAPE</th>\n",
              "    </tr>\n",
              "  </thead>\n",
              "  <tbody>\n",
              "    <tr>\n",
              "      <th>0</th>\n",
              "      <td>89.8946</td>\n",
              "      <td>19491.0902</td>\n",
              "      <td>139.6105</td>\n",
              "      <td>0.6047</td>\n",
              "      <td>0.0090</td>\n",
              "      <td>0.0058</td>\n",
              "    </tr>\n",
              "    <tr>\n",
              "      <th>1</th>\n",
              "      <td>68.8743</td>\n",
              "      <td>6550.1437</td>\n",
              "      <td>80.9330</td>\n",
              "      <td>0.9616</td>\n",
              "      <td>0.0049</td>\n",
              "      <td>0.0042</td>\n",
              "    </tr>\n",
              "    <tr>\n",
              "      <th>2</th>\n",
              "      <td>45.9492</td>\n",
              "      <td>2901.8011</td>\n",
              "      <td>53.8684</td>\n",
              "      <td>0.9895</td>\n",
              "      <td>0.0030</td>\n",
              "      <td>0.0026</td>\n",
              "    </tr>\n",
              "    <tr>\n",
              "      <th>Mean</th>\n",
              "      <td>68.2394</td>\n",
              "      <td>9647.6783</td>\n",
              "      <td>91.4706</td>\n",
              "      <td>0.8519</td>\n",
              "      <td>0.0056</td>\n",
              "      <td>0.0042</td>\n",
              "    </tr>\n",
              "    <tr>\n",
              "      <th>SD</th>\n",
              "      <td>17.9463</td>\n",
              "      <td>7117.9196</td>\n",
              "      <td>35.7884</td>\n",
              "      <td>0.1752</td>\n",
              "      <td>0.0025</td>\n",
              "      <td>0.0013</td>\n",
              "    </tr>\n",
              "  </tbody>\n",
              "</table>\n",
              "</div>"
            ],
            "text/plain": [
              "          MAE         MSE      RMSE      R2   RMSLE    MAPE\n",
              "0     89.8946  19491.0902  139.6105  0.6047  0.0090  0.0058\n",
              "1     68.8743   6550.1437   80.9330  0.9616  0.0049  0.0042\n",
              "2     45.9492   2901.8011   53.8684  0.9895  0.0030  0.0026\n",
              "Mean  68.2394   9647.6783   91.4706  0.8519  0.0056  0.0042\n",
              "SD    17.9463   7117.9196   35.7884  0.1752  0.0025  0.0013"
            ]
          },
          "metadata": {
            "tags": []
          }
        }
      ]
    },
    {
      "cell_type": "code",
      "metadata": {
        "colab": {
          "base_uri": "https://localhost:8080/",
          "height": 206,
          "referenced_widgets": [
            "aadb4428db4c47dfaed40f774d61e0f0",
            "debf481beee04696b1f4c0de45f4772b",
            "075dcacb2ab14ca6913dba3bf2d689f6"
          ]
        },
        "id": "qQzUNK1KRXKJ",
        "outputId": "02bd8d13-5161-424f-ad4e-062db86c122e"
      },
      "source": [
        "tuned_model_final = tune_model(model_final)"
      ],
      "execution_count": 262,
      "outputs": [
        {
          "output_type": "display_data",
          "data": {
            "text/html": [
              "<div>\n",
              "<style scoped>\n",
              "    .dataframe tbody tr th:only-of-type {\n",
              "        vertical-align: middle;\n",
              "    }\n",
              "\n",
              "    .dataframe tbody tr th {\n",
              "        vertical-align: top;\n",
              "    }\n",
              "\n",
              "    .dataframe thead th {\n",
              "        text-align: right;\n",
              "    }\n",
              "</style>\n",
              "<table border=\"1\" class=\"dataframe\">\n",
              "  <thead>\n",
              "    <tr style=\"text-align: right;\">\n",
              "      <th></th>\n",
              "      <th>MAE</th>\n",
              "      <th>MSE</th>\n",
              "      <th>RMSE</th>\n",
              "      <th>R2</th>\n",
              "      <th>RMSLE</th>\n",
              "      <th>MAPE</th>\n",
              "    </tr>\n",
              "  </thead>\n",
              "  <tbody>\n",
              "    <tr>\n",
              "      <th>0</th>\n",
              "      <td>87.1612</td>\n",
              "      <td>18549.8107</td>\n",
              "      <td>136.1977</td>\n",
              "      <td>0.6238</td>\n",
              "      <td>0.0088</td>\n",
              "      <td>0.0057</td>\n",
              "    </tr>\n",
              "    <tr>\n",
              "      <th>1</th>\n",
              "      <td>68.9419</td>\n",
              "      <td>6559.5173</td>\n",
              "      <td>80.9908</td>\n",
              "      <td>0.9616</td>\n",
              "      <td>0.0049</td>\n",
              "      <td>0.0042</td>\n",
              "    </tr>\n",
              "    <tr>\n",
              "      <th>2</th>\n",
              "      <td>31.9316</td>\n",
              "      <td>1440.1801</td>\n",
              "      <td>37.9497</td>\n",
              "      <td>0.9948</td>\n",
              "      <td>0.0021</td>\n",
              "      <td>0.0018</td>\n",
              "    </tr>\n",
              "    <tr>\n",
              "      <th>Mean</th>\n",
              "      <td>62.6782</td>\n",
              "      <td>8849.8360</td>\n",
              "      <td>85.0461</td>\n",
              "      <td>0.8600</td>\n",
              "      <td>0.0053</td>\n",
              "      <td>0.0039</td>\n",
              "    </tr>\n",
              "    <tr>\n",
              "      <th>SD</th>\n",
              "      <td>22.9783</td>\n",
              "      <td>7170.2643</td>\n",
              "      <td>40.2119</td>\n",
              "      <td>0.1676</td>\n",
              "      <td>0.0027</td>\n",
              "      <td>0.0016</td>\n",
              "    </tr>\n",
              "  </tbody>\n",
              "</table>\n",
              "</div>"
            ],
            "text/plain": [
              "          MAE         MSE      RMSE      R2   RMSLE    MAPE\n",
              "0     87.1612  18549.8107  136.1977  0.6238  0.0088  0.0057\n",
              "1     68.9419   6559.5173   80.9908  0.9616  0.0049  0.0042\n",
              "2     31.9316   1440.1801   37.9497  0.9948  0.0021  0.0018\n",
              "Mean  62.6782   8849.8360   85.0461  0.8600  0.0053  0.0039\n",
              "SD    22.9783   7170.2643   40.2119  0.1676  0.0027  0.0016"
            ]
          },
          "metadata": {
            "tags": []
          }
        }
      ]
    },
    {
      "cell_type": "code",
      "metadata": {
        "id": "5e7oKN9uRkCa"
      },
      "source": [
        "# generate predictions on the original dataset\n",
        "predictions_final = predict_model(tuned_model_final, data=df)# add a date column in the dataset"
      ],
      "execution_count": 263,
      "outputs": []
    },
    {
      "cell_type": "code",
      "metadata": {
        "colab": {
          "base_uri": "https://localhost:8080/",
          "height": 320
        },
        "id": "-H0NRI06RoQf",
        "outputId": "0e7dcbd9-6317-4609-c20f-1a3d02140a44"
      },
      "source": [
        "plt.figure(figsize=(15,4))\n",
        "sns.scatterplot(predictions_final.index,predictions_final['Target'])\n",
        "sns.lineplot(predictions_final.index,predictions_final['Target'],label='Target')\n",
        "sns.scatterplot(predictions_final.index,predictions_final['Label'])\n",
        "sns.lineplot(predictions_final.index,predictions_final['Label'],label='Prediction')\n",
        "plt.title('Test Prediction')\n",
        "plt.xticks(rotation=90)\n",
        "plt.show()"
      ],
      "execution_count": 264,
      "outputs": [
        {
          "output_type": "display_data",
          "data": {
            "image/png": "[encoded data removed]",
            "text/plain": [
              "<Figure size 1080x288 with 1 Axes>"
            ]
          },
          "metadata": {
            "tags": []
          }
        }
      ]
    },
    {
      "cell_type": "code",
      "metadata": {
        "id": "QVG3ldqRn2tp"
      },
      "source": [
        "# Let's create the features for the next 6 quarters\n",
        "# prediction for old quarters\n",
        "# generate predictions on the original dataset"
      ],
      "execution_count": 265,
      "outputs": []
    },
    {
      "cell_type": "code",
      "metadata": {
        "id": "8tLtdIJ0eUNo"
      },
      "source": [
        "# Generate data for future quarters\n",
        "def data_gen(year,quarter):\n",
        "  data_ = pd.DataFrame([[year,quarter,predictions_final['Target'].iloc[-1],\n",
        "                        predictions_final['Target'].iloc[-2],predictions_final['Target'].iloc[-4],0]],\n",
        "                        columns=df.columns,index=[str(year)+'Q'+str(quarter)])\n",
        "  return data_"
      ],
      "execution_count": 266,
      "outputs": []
    },
    {
      "cell_type": "code",
      "metadata": {
        "id": "sKoKW_vnHNjp"
      },
      "source": [
        "# Lets predict for the quarter '2021Q3'\n",
        "data_ = data_gen(2021,3)\n",
        "data_ = predict_model(tuned_model_final,data_)\n",
        "data_['Target'] = data_['Label']\n",
        "predictions_final = pd.concat([predictions_final,data_])\n",
        "\n",
        "# Lets predict for the quarter '2021Q4'\n",
        "data_ = data_gen(2021,4)\n",
        "data_ = predict_model(tuned_model_final,data_)\n",
        "data_['Target'] = data_['Label']\n",
        "predictions_final = pd.concat([predictions_final,data_])"
      ],
      "execution_count": 267,
      "outputs": []
    },
    {
      "cell_type": "code",
      "metadata": {
        "id": "hL8-wyM8PDMo"
      },
      "source": [
        "# Lets predict for the quarter '2022Q1'\n",
        "data_ = data_gen(2022,1)\n",
        "data_ = predict_model(tuned_model_final,data_)\n",
        "data_['Target'] = data_['Label']\n",
        "predictions_final = pd.concat([predictions_final,data_])\n",
        "\n",
        "# Lets predict for the quarter '2022Q2'\n",
        "data_ = data_gen(2022,2)\n",
        "data_ = predict_model(tuned_model_final,data_)\n",
        "data_['Target'] = data_['Label']\n",
        "predictions_final = pd.concat([predictions_final,data_])\n",
        "\n",
        "# Lets predict for the quarter '2022Q3'\n",
        "data_ = data_gen(2022,3)\n",
        "data_ = predict_model(tuned_model_final,data_)\n",
        "data_['Target'] = data_['Label']\n",
        "predictions_final = pd.concat([predictions_final,data_])\n",
        "\n",
        "# Lets predict for the quarter '2022Q4'\n",
        "data_ = data_gen(2022,4)\n",
        "data_ = predict_model(tuned_model_final,data_)\n",
        "data_['Target'] = data_['Label']\n",
        "predictions_final = pd.concat([predictions_final,data_])"
      ],
      "execution_count": 268,
      "outputs": []
    },
    {
      "cell_type": "code",
      "metadata": {
        "colab": {
          "base_uri": "https://localhost:8080/",
          "height": 363
        },
        "id": "-lQ4IP0CPGA3",
        "outputId": "7a580629-ef78-46ca-91c7-cd7f51d3a47e"
      },
      "source": [
        "predictions_final.tail(10)"
      ],
      "execution_count": 269,
      "outputs": [
        {
          "output_type": "execute_result",
          "data": {
            "text/html": [
              "<div>\n",
              "<style scoped>\n",
              "    .dataframe tbody tr th:only-of-type {\n",
              "        vertical-align: middle;\n",
              "    }\n",
              "\n",
              "    .dataframe tbody tr th {\n",
              "        vertical-align: top;\n",
              "    }\n",
              "\n",
              "    .dataframe thead th {\n",
              "        text-align: right;\n",
              "    }\n",
              "</style>\n",
              "<table border=\"1\" class=\"dataframe\">\n",
              "  <thead>\n",
              "    <tr style=\"text-align: right;\">\n",
              "      <th></th>\n",
              "      <th>year</th>\n",
              "      <th>quarter_</th>\n",
              "      <th>lag_1</th>\n",
              "      <th>lag_2</th>\n",
              "      <th>lag_4</th>\n",
              "      <th>Target</th>\n",
              "      <th>Label</th>\n",
              "    </tr>\n",
              "  </thead>\n",
              "  <tbody>\n",
              "    <tr>\n",
              "      <th>2020Q3</th>\n",
              "      <td>2020</td>\n",
              "      <td>3</td>\n",
              "      <td>17258.205000</td>\n",
              "      <td>18951.992000</td>\n",
              "      <td>19112.653000</td>\n",
              "      <td>18560.774000</td>\n",
              "      <td>17144.225254</td>\n",
              "    </tr>\n",
              "    <tr>\n",
              "      <th>2020Q4</th>\n",
              "      <td>2020</td>\n",
              "      <td>4</td>\n",
              "      <td>18560.774000</td>\n",
              "      <td>17258.205000</td>\n",
              "      <td>19202.310000</td>\n",
              "      <td>18767.778000</td>\n",
              "      <td>18566.354789</td>\n",
              "    </tr>\n",
              "    <tr>\n",
              "      <th>2021Q1</th>\n",
              "      <td>2021</td>\n",
              "      <td>1</td>\n",
              "      <td>18767.778000</td>\n",
              "      <td>18560.774000</td>\n",
              "      <td>18951.992000</td>\n",
              "      <td>19055.655000</td>\n",
              "      <td>18820.206813</td>\n",
              "    </tr>\n",
              "    <tr>\n",
              "      <th>2021Q2</th>\n",
              "      <td>2021</td>\n",
              "      <td>2</td>\n",
              "      <td>19055.655000</td>\n",
              "      <td>18767.778000</td>\n",
              "      <td>17258.205000</td>\n",
              "      <td>19358.176000</td>\n",
              "      <td>19307.139877</td>\n",
              "    </tr>\n",
              "    <tr>\n",
              "      <th>2021Q3</th>\n",
              "      <td>2021</td>\n",
              "      <td>3</td>\n",
              "      <td>19358.176000</td>\n",
              "      <td>19055.655000</td>\n",
              "      <td>18560.774000</td>\n",
              "      <td>19511.816836</td>\n",
              "      <td>19511.816836</td>\n",
              "    </tr>\n",
              "    <tr>\n",
              "      <th>2021Q4</th>\n",
              "      <td>2021</td>\n",
              "      <td>4</td>\n",
              "      <td>19511.816836</td>\n",
              "      <td>19358.176000</td>\n",
              "      <td>18767.778000</td>\n",
              "      <td>19656.681284</td>\n",
              "      <td>19656.681284</td>\n",
              "    </tr>\n",
              "    <tr>\n",
              "      <th>2022Q1</th>\n",
              "      <td>2022</td>\n",
              "      <td>1</td>\n",
              "      <td>19656.681284</td>\n",
              "      <td>19511.816836</td>\n",
              "      <td>19055.655000</td>\n",
              "      <td>19789.355750</td>\n",
              "      <td>19789.355750</td>\n",
              "    </tr>\n",
              "    <tr>\n",
              "      <th>2022Q2</th>\n",
              "      <td>2022</td>\n",
              "      <td>2</td>\n",
              "      <td>19789.355750</td>\n",
              "      <td>19656.681284</td>\n",
              "      <td>19358.176000</td>\n",
              "      <td>19909.751194</td>\n",
              "      <td>19909.751194</td>\n",
              "    </tr>\n",
              "    <tr>\n",
              "      <th>2022Q3</th>\n",
              "      <td>2022</td>\n",
              "      <td>3</td>\n",
              "      <td>19909.751194</td>\n",
              "      <td>19789.355750</td>\n",
              "      <td>19511.816836</td>\n",
              "      <td>20026.326155</td>\n",
              "      <td>20026.326155</td>\n",
              "    </tr>\n",
              "    <tr>\n",
              "      <th>2022Q4</th>\n",
              "      <td>2022</td>\n",
              "      <td>4</td>\n",
              "      <td>20026.326155</td>\n",
              "      <td>19909.751194</td>\n",
              "      <td>19656.681284</td>\n",
              "      <td>20136.441519</td>\n",
              "      <td>20136.441519</td>\n",
              "    </tr>\n",
              "  </tbody>\n",
              "</table>\n",
              "</div>"
            ],
            "text/plain": [
              "        year  quarter_         lag_1  ...         lag_4        Target         Label\n",
              "2020Q3  2020         3  17258.205000  ...  19112.653000  18560.774000  17144.225254\n",
              "2020Q4  2020         4  18560.774000  ...  19202.310000  18767.778000  18566.354789\n",
              "2021Q1  2021         1  18767.778000  ...  18951.992000  19055.655000  18820.206813\n",
              "2021Q2  2021         2  19055.655000  ...  17258.205000  19358.176000  19307.139877\n",
              "2021Q3  2021         3  19358.176000  ...  18560.774000  19511.816836  19511.816836\n",
              "2021Q4  2021         4  19511.816836  ...  18767.778000  19656.681284  19656.681284\n",
              "2022Q1  2022         1  19656.681284  ...  19055.655000  19789.355750  19789.355750\n",
              "2022Q2  2022         2  19789.355750  ...  19358.176000  19909.751194  19909.751194\n",
              "2022Q3  2022         3  19909.751194  ...  19511.816836  20026.326155  20026.326155\n",
              "2022Q4  2022         4  20026.326155  ...  19656.681284  20136.441519  20136.441519\n",
              "\n",
              "[10 rows x 7 columns]"
            ]
          },
          "metadata": {
            "tags": []
          },
          "execution_count": 269
        }
      ]
    },
    {
      "cell_type": "code",
      "metadata": {
        "id": "hVdybCN3pDBz"
      },
      "source": [
        "# separate the data back to df and predict values\n",
        "df_prediction = predictions_final.loc[:'2021Q2',:]\n",
        "future_prediction = predictions_final.loc['2021Q3':,:]"
      ],
      "execution_count": 270,
      "outputs": []
    },
    {
      "cell_type": "code",
      "metadata": {
        "colab": {
          "base_uri": "https://localhost:8080/",
          "height": 306
        },
        "id": "6ZJRNfyIPjOl",
        "outputId": "19e92bb3-e678-4928-8877-a2b5a0718412"
      },
      "source": [
        "plt.figure(figsize=(15,4))\n",
        "sns.lineplot(predictions_final.index,predictions_final['Label'])\n",
        "sns.scatterplot(df_prediction.index,df_prediction['Label'],color='orange',label='Train')\n",
        "sns.scatterplot(future_prediction.index,future_prediction['Label'],color='Green',label='Future')\n",
        "\n",
        "plt.title('Test Prediction')\n",
        "plt.xticks(rotation=90)\n",
        "plt.show()"
      ],
      "execution_count": 271,
      "outputs": [
        {
          "output_type": "display_data",
          "data": {
            "image/png": "[encoded data removed]",
            "text/plain": [
              "<Figure size 1080x288 with 1 Axes>"
            ]
          },
          "metadata": {
            "tags": []
          }
        }
      ]
    },
    {
      "cell_type": "code",
      "metadata": {
        "id": "_Y0zZXjXQA1z"
      },
      "source": [
        ""
      ],
      "execution_count": 271,
      "outputs": []
    }
  ]
}