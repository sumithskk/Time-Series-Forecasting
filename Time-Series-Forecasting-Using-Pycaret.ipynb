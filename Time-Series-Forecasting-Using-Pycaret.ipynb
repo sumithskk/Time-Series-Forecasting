{
  "nbformat": 4,
  "nbformat_minor": 0,
  "metadata": {
    "colab": {
      "name": "TINO_IQ_Internship.ipynb",
      "provenance": [],
      "collapsed_sections": [
        "fIW_ubnzx77u",
        "lP3knKG1x1cY",
        "lTuFCpn3t7cj",
        "1YYj4Vieyn0o",
        "vVv-5BIaS_be"
      ]
    },
    "kernelspec": {
      "name": "python3",
      "display_name": "Python 3"
    },
    "language_info": {
      "name": "python"
    },
    "widgets": {
      "application/vnd.jupyter.widget-state+json": {
        "2c212efb4db047da9075e362815e9cd8": {
          "model_module": "@jupyter-widgets/controls",
          "model_name": "IntProgressModel",
          "model_module_version": "1.5.0",
          "state": {
            "_view_name": "ProgressView",
            "style": "IPY_MODEL_d6143b91e1a045ce9b7c82a3d113e676",
            "_dom_classes": [],
            "description": "Processing: ",
            "_model_name": "IntProgressModel",
            "bar_style": "",
            "max": 89,
            "_view_module": "@jupyter-widgets/controls",
            "_model_module_version": "1.5.0",
            "value": 89,
            "_view_count": null,
            "_view_module_version": "1.5.0",
            "orientation": "horizontal",
            "min": 0,
            "description_tooltip": null,
            "_model_module": "@jupyter-widgets/controls",
            "layout": "IPY_MODEL_6937cf5461a54b8c9e1b7e1a665272e0"
          }
        },
        "d6143b91e1a045ce9b7c82a3d113e676": {
          "model_module": "@jupyter-widgets/controls",
          "model_name": "ProgressStyleModel",
          "model_module_version": "1.5.0",
          "state": {
            "_view_name": "StyleView",
            "_model_name": "ProgressStyleModel",
            "description_width": "",
            "_view_module": "@jupyter-widgets/base",
            "_model_module_version": "1.5.0",
            "_view_count": null,
            "_view_module_version": "1.2.0",
            "bar_color": null,
            "_model_module": "@jupyter-widgets/controls"
          }
        },
        "6937cf5461a54b8c9e1b7e1a665272e0": {
          "model_module": "@jupyter-widgets/base",
          "model_name": "LayoutModel",
          "model_module_version": "1.2.0",
          "state": {
            "_view_name": "LayoutView",
            "grid_template_rows": null,
            "right": null,
            "justify_content": null,
            "_view_module": "@jupyter-widgets/base",
            "overflow": null,
            "_model_module_version": "1.2.0",
            "_view_count": null,
            "flex_flow": null,
            "width": null,
            "min_width": null,
            "border": null,
            "align_items": null,
            "bottom": null,
            "_model_module": "@jupyter-widgets/base",
            "top": null,
            "grid_column": null,
            "overflow_y": null,
            "overflow_x": null,
            "grid_auto_flow": null,
            "grid_area": null,
            "grid_template_columns": null,
            "flex": null,
            "_model_name": "LayoutModel",
            "justify_items": null,
            "grid_row": null,
            "max_height": null,
            "align_content": null,
            "visibility": null,
            "align_self": null,
            "height": null,
            "min_height": null,
            "padding": null,
            "grid_auto_rows": null,
            "grid_gap": null,
            "max_width": null,
            "order": null,
            "_view_module_version": "1.2.0",
            "grid_template_areas": null,
            "object_position": null,
            "object_fit": null,
            "grid_auto_columns": null,
            "margin": null,
            "display": null,
            "left": null
          }
        }
      }
    }
  },
  "cells": [
    {
      "cell_type": "markdown",
      "metadata": {
        "id": "fIW_ubnzx77u"
      },
      "source": [
        "## Install Pycaret\n",
        "PyCaret is an open-source, low-code machine learning library built-in Python for automating machine learning workflows. "
      ]
    },
    {
      "cell_type": "code",
      "metadata": {
        "colab": {
          "base_uri": "https://localhost:8080/"
        },
        "id": "ycarItvbyDCs",
        "outputId": "af7601bf-000d-4794-b1d5-9c3d96d18573"
      },
      "source": [
        "#Install pycaret\n",
        "!pip install pycaret"
      ],
      "execution_count": 1,
      "outputs": [
        {
          "output_type": "stream",
          "text": [
            "Requirement already satisfied: pycaret in /usr/local/lib/python3.7/dist-packages (2.3.3)\n",
            "Requirement already satisfied: ipywidgets in /usr/local/lib/python3.7/dist-packages (from pycaret) (7.6.3)\n",
            "Requirement already satisfied: pandas in /usr/local/lib/python3.7/dist-packages (from pycaret) (1.1.5)\n",
            "Requirement already satisfied: numpy==1.19.5 in /usr/local/lib/python3.7/dist-packages (from pycaret) (1.19.5)\n",
            "Requirement already satisfied: Boruta in /usr/local/lib/python3.7/dist-packages (from pycaret) (0.3)\n",
            "Requirement already satisfied: joblib in /usr/local/lib/python3.7/dist-packages (from pycaret) (1.0.1)\n",
            "Requirement already satisfied: mlxtend>=0.17.0 in /usr/local/lib/python3.7/dist-packages (from pycaret) (0.18.0)\n",
            "Requirement already satisfied: plotly>=4.4.1 in /usr/local/lib/python3.7/dist-packages (from pycaret) (4.4.1)\n",
            "Requirement already satisfied: gensim<4.0.0 in /usr/local/lib/python3.7/dist-packages (from pycaret) (3.6.0)\n",
            "Requirement already satisfied: mlflow in /usr/local/lib/python3.7/dist-packages (from pycaret) (1.19.0)\n",
            "Requirement already satisfied: pyLDAvis in /usr/local/lib/python3.7/dist-packages (from pycaret) (3.2.2)\n",
            "Requirement already satisfied: kmodes>=0.10.1 in /usr/local/lib/python3.7/dist-packages (from pycaret) (0.11.0)\n",
            "Requirement already satisfied: wordcloud in /usr/local/lib/python3.7/dist-packages (from pycaret) (1.5.0)\n",
            "Requirement already satisfied: textblob in /usr/local/lib/python3.7/dist-packages (from pycaret) (0.15.3)\n",
            "Requirement already satisfied: pandas-profiling>=2.8.0 in /usr/local/lib/python3.7/dist-packages (from pycaret) (3.0.0)\n",
            "Requirement already satisfied: imbalanced-learn==0.7.0 in /usr/local/lib/python3.7/dist-packages (from pycaret) (0.7.0)\n",
            "Requirement already satisfied: cufflinks>=0.17.0 in /usr/local/lib/python3.7/dist-packages (from pycaret) (0.17.3)\n",
            "Requirement already satisfied: umap-learn in /usr/local/lib/python3.7/dist-packages (from pycaret) (0.5.1)\n",
            "Requirement already satisfied: scikit-plot in /usr/local/lib/python3.7/dist-packages (from pycaret) (0.3.7)\n",
            "Requirement already satisfied: matplotlib in /usr/local/lib/python3.7/dist-packages (from pycaret) (3.2.2)\n",
            "Requirement already satisfied: lightgbm>=2.3.1 in /usr/local/lib/python3.7/dist-packages (from pycaret) (3.2.1)\n",
            "Requirement already satisfied: yellowbrick>=1.0.1 in /usr/local/lib/python3.7/dist-packages (from pycaret) (1.3.post1)\n",
            "Requirement already satisfied: IPython in /usr/local/lib/python3.7/dist-packages (from pycaret) (5.5.0)\n",
            "Requirement already satisfied: scikit-learn==0.23.2 in /usr/local/lib/python3.7/dist-packages (from pycaret) (0.23.2)\n",
            "Requirement already satisfied: pyod in /usr/local/lib/python3.7/dist-packages (from pycaret) (0.9.2)\n",
            "Requirement already satisfied: nltk in /usr/local/lib/python3.7/dist-packages (from pycaret) (3.2.5)\n",
            "Requirement already satisfied: spacy<2.4.0 in /usr/local/lib/python3.7/dist-packages (from pycaret) (2.2.4)\n",
            "Requirement already satisfied: scipy<=1.5.4 in /usr/local/lib/python3.7/dist-packages (from pycaret) (1.5.4)\n",
            "Requirement already satisfied: seaborn in /usr/local/lib/python3.7/dist-packages (from pycaret) (0.11.1)\n",
            "Requirement already satisfied: threadpoolctl>=2.0.0 in /usr/local/lib/python3.7/dist-packages (from scikit-learn==0.23.2->pycaret) (2.2.0)\n",
            "Requirement already satisfied: six>=1.9.0 in /usr/local/lib/python3.7/dist-packages (from cufflinks>=0.17.0->pycaret) (1.15.0)\n",
            "Requirement already satisfied: colorlover>=0.2.1 in /usr/local/lib/python3.7/dist-packages (from cufflinks>=0.17.0->pycaret) (0.3.0)\n",
            "Requirement already satisfied: setuptools>=34.4.1 in /usr/local/lib/python3.7/dist-packages (from cufflinks>=0.17.0->pycaret) (57.4.0)\n",
            "Requirement already satisfied: smart-open>=1.2.1 in /usr/local/lib/python3.7/dist-packages (from gensim<4.0.0->pycaret) (5.1.0)\n",
            "Requirement already satisfied: pickleshare in /usr/local/lib/python3.7/dist-packages (from IPython->pycaret) (0.7.5)\n",
            "Requirement already satisfied: simplegeneric>0.8 in /usr/local/lib/python3.7/dist-packages (from IPython->pycaret) (0.8.1)\n",
            "Requirement already satisfied: pexpect in /usr/local/lib/python3.7/dist-packages (from IPython->pycaret) (4.8.0)\n",
            "Requirement already satisfied: pygments in /usr/local/lib/python3.7/dist-packages (from IPython->pycaret) (2.6.1)\n",
            "Requirement already satisfied: decorator in /usr/local/lib/python3.7/dist-packages (from IPython->pycaret) (4.4.2)\n",
            "Requirement already satisfied: prompt-toolkit<2.0.0,>=1.0.4 in /usr/local/lib/python3.7/dist-packages (from IPython->pycaret) (1.0.18)\n",
            "Requirement already satisfied: traitlets>=4.2 in /usr/local/lib/python3.7/dist-packages (from IPython->pycaret) (5.0.5)\n",
            "Requirement already satisfied: jupyterlab-widgets>=1.0.0 in /usr/local/lib/python3.7/dist-packages (from ipywidgets->pycaret) (1.0.0)\n",
            "Requirement already satisfied: nbformat>=4.2.0 in /usr/local/lib/python3.7/dist-packages (from ipywidgets->pycaret) (5.1.3)\n",
            "Requirement already satisfied: widgetsnbextension~=3.5.0 in /usr/local/lib/python3.7/dist-packages (from ipywidgets->pycaret) (3.5.1)\n",
            "Requirement already satisfied: ipykernel>=4.5.1 in /usr/local/lib/python3.7/dist-packages (from ipywidgets->pycaret) (4.10.1)\n",
            "Requirement already satisfied: tornado>=4.0 in /usr/local/lib/python3.7/dist-packages (from ipykernel>=4.5.1->ipywidgets->pycaret) (5.1.1)\n",
            "Requirement already satisfied: jupyter-client in /usr/local/lib/python3.7/dist-packages (from ipykernel>=4.5.1->ipywidgets->pycaret) (5.3.5)\n",
            "Requirement already satisfied: wheel in /usr/local/lib/python3.7/dist-packages (from lightgbm>=2.3.1->pycaret) (0.37.0)\n",
            "Requirement already satisfied: kiwisolver>=1.0.1 in /usr/local/lib/python3.7/dist-packages (from matplotlib->pycaret) (1.3.1)\n",
            "Requirement already satisfied: python-dateutil>=2.1 in /usr/local/lib/python3.7/dist-packages (from matplotlib->pycaret) (2.8.2)\n",
            "Requirement already satisfied: pyparsing!=2.0.4,!=2.1.2,!=2.1.6,>=2.0.1 in /usr/local/lib/python3.7/dist-packages (from matplotlib->pycaret) (2.4.7)\n",
            "Requirement already satisfied: cycler>=0.10 in /usr/local/lib/python3.7/dist-packages (from matplotlib->pycaret) (0.10.0)\n",
            "Requirement already satisfied: jupyter-core in /usr/local/lib/python3.7/dist-packages (from nbformat>=4.2.0->ipywidgets->pycaret) (4.7.1)\n",
            "Requirement already satisfied: ipython-genutils in /usr/local/lib/python3.7/dist-packages (from nbformat>=4.2.0->ipywidgets->pycaret) (0.2.0)\n",
            "Requirement already satisfied: jsonschema!=2.5.0,>=2.4 in /usr/local/lib/python3.7/dist-packages (from nbformat>=4.2.0->ipywidgets->pycaret) (2.6.0)\n",
            "Requirement already satisfied: pytz>=2017.2 in /usr/local/lib/python3.7/dist-packages (from pandas->pycaret) (2018.9)\n",
            "Requirement already satisfied: tqdm>=4.48.2 in /usr/local/lib/python3.7/dist-packages (from pandas-profiling>=2.8.0->pycaret) (4.62.0)\n",
            "Requirement already satisfied: phik>=0.11.1 in /usr/local/lib/python3.7/dist-packages (from pandas-profiling>=2.8.0->pycaret) (0.12.0)\n",
            "Requirement already satisfied: tangled-up-in-unicode==0.1.0 in /usr/local/lib/python3.7/dist-packages (from pandas-profiling>=2.8.0->pycaret) (0.1.0)\n",
            "Requirement already satisfied: pydantic>=1.8.1 in /usr/local/lib/python3.7/dist-packages (from pandas-profiling>=2.8.0->pycaret) (1.8.2)\n",
            "Requirement already satisfied: missingno>=0.4.2 in /usr/local/lib/python3.7/dist-packages (from pandas-profiling>=2.8.0->pycaret) (0.5.0)\n",
            "Requirement already satisfied: htmlmin>=0.1.12 in /usr/local/lib/python3.7/dist-packages (from pandas-profiling>=2.8.0->pycaret) (0.1.12)\n",
            "Requirement already satisfied: jinja2>=2.11.1 in /usr/local/lib/python3.7/dist-packages (from pandas-profiling>=2.8.0->pycaret) (2.11.3)\n",
            "Requirement already satisfied: PyYAML>=5.0.0 in /usr/local/lib/python3.7/dist-packages (from pandas-profiling>=2.8.0->pycaret) (5.4.1)\n",
            "Requirement already satisfied: visions[type_image_path]==0.7.1 in /usr/local/lib/python3.7/dist-packages (from pandas-profiling>=2.8.0->pycaret) (0.7.1)\n",
            "Requirement already satisfied: requests>=2.24.0 in /usr/local/lib/python3.7/dist-packages (from pandas-profiling>=2.8.0->pycaret) (2.26.0)\n",
            "Requirement already satisfied: networkx>=2.4 in /usr/local/lib/python3.7/dist-packages (from visions[type_image_path]==0.7.1->pandas-profiling>=2.8.0->pycaret) (2.6.2)\n",
            "Requirement already satisfied: attrs>=19.3.0 in /usr/local/lib/python3.7/dist-packages (from visions[type_image_path]==0.7.1->pandas-profiling>=2.8.0->pycaret) (21.2.0)\n",
            "Requirement already satisfied: bottleneck in /usr/local/lib/python3.7/dist-packages (from visions[type_image_path]==0.7.1->pandas-profiling>=2.8.0->pycaret) (1.3.2)\n",
            "Requirement already satisfied: multimethod==1.4 in /usr/local/lib/python3.7/dist-packages (from visions[type_image_path]==0.7.1->pandas-profiling>=2.8.0->pycaret) (1.4)\n",
            "Requirement already satisfied: Pillow in /usr/local/lib/python3.7/dist-packages (from visions[type_image_path]==0.7.1->pandas-profiling>=2.8.0->pycaret) (7.1.2)\n",
            "Requirement already satisfied: imagehash in /usr/local/lib/python3.7/dist-packages (from visions[type_image_path]==0.7.1->pandas-profiling>=2.8.0->pycaret) (4.2.1)\n",
            "Requirement already satisfied: MarkupSafe>=0.23 in /usr/local/lib/python3.7/dist-packages (from jinja2>=2.11.1->pandas-profiling>=2.8.0->pycaret) (2.0.1)\n",
            "Requirement already satisfied: retrying>=1.3.3 in /usr/local/lib/python3.7/dist-packages (from plotly>=4.4.1->pycaret) (1.3.3)\n",
            "Requirement already satisfied: wcwidth in /usr/local/lib/python3.7/dist-packages (from prompt-toolkit<2.0.0,>=1.0.4->IPython->pycaret) (0.2.5)\n",
            "Requirement already satisfied: typing-extensions>=3.7.4.3 in /usr/local/lib/python3.7/dist-packages (from pydantic>=1.8.1->pandas-profiling>=2.8.0->pycaret) (3.7.4.3)\n",
            "Requirement already satisfied: charset-normalizer~=2.0.0 in /usr/local/lib/python3.7/dist-packages (from requests>=2.24.0->pandas-profiling>=2.8.0->pycaret) (2.0.4)\n",
            "Requirement already satisfied: certifi>=2017.4.17 in /usr/local/lib/python3.7/dist-packages (from requests>=2.24.0->pandas-profiling>=2.8.0->pycaret) (2021.5.30)\n",
            "Requirement already satisfied: urllib3<1.27,>=1.21.1 in /usr/local/lib/python3.7/dist-packages (from requests>=2.24.0->pandas-profiling>=2.8.0->pycaret) (1.24.3)\n",
            "Requirement already satisfied: idna<4,>=2.5 in /usr/local/lib/python3.7/dist-packages (from requests>=2.24.0->pandas-profiling>=2.8.0->pycaret) (2.10)\n",
            "Requirement already satisfied: wasabi<1.1.0,>=0.4.0 in /usr/local/lib/python3.7/dist-packages (from spacy<2.4.0->pycaret) (0.8.2)\n",
            "Requirement already satisfied: blis<0.5.0,>=0.4.0 in /usr/local/lib/python3.7/dist-packages (from spacy<2.4.0->pycaret) (0.4.1)\n",
            "Requirement already satisfied: preshed<3.1.0,>=3.0.2 in /usr/local/lib/python3.7/dist-packages (from spacy<2.4.0->pycaret) (3.0.5)\n",
            "Requirement already satisfied: plac<1.2.0,>=0.9.6 in /usr/local/lib/python3.7/dist-packages (from spacy<2.4.0->pycaret) (1.1.3)\n",
            "Requirement already satisfied: thinc==7.4.0 in /usr/local/lib/python3.7/dist-packages (from spacy<2.4.0->pycaret) (7.4.0)\n",
            "Requirement already satisfied: murmurhash<1.1.0,>=0.28.0 in /usr/local/lib/python3.7/dist-packages (from spacy<2.4.0->pycaret) (1.0.5)\n",
            "Requirement already satisfied: cymem<2.1.0,>=2.0.2 in /usr/local/lib/python3.7/dist-packages (from spacy<2.4.0->pycaret) (2.0.5)\n",
            "Requirement already satisfied: catalogue<1.1.0,>=0.0.7 in /usr/local/lib/python3.7/dist-packages (from spacy<2.4.0->pycaret) (1.0.0)\n",
            "Requirement already satisfied: srsly<1.1.0,>=1.0.2 in /usr/local/lib/python3.7/dist-packages (from spacy<2.4.0->pycaret) (1.0.5)\n",
            "Requirement already satisfied: importlib-metadata>=0.20 in /usr/local/lib/python3.7/dist-packages (from catalogue<1.1.0,>=0.0.7->spacy<2.4.0->pycaret) (4.6.4)\n",
            "Requirement already satisfied: zipp>=0.5 in /usr/local/lib/python3.7/dist-packages (from importlib-metadata>=0.20->catalogue<1.1.0,>=0.0.7->spacy<2.4.0->pycaret) (3.5.0)\n",
            "Requirement already satisfied: notebook>=4.4.1 in /usr/local/lib/python3.7/dist-packages (from widgetsnbextension~=3.5.0->ipywidgets->pycaret) (5.3.1)\n",
            "Requirement already satisfied: Send2Trash in /usr/local/lib/python3.7/dist-packages (from notebook>=4.4.1->widgetsnbextension~=3.5.0->ipywidgets->pycaret) (1.8.0)\n",
            "Requirement already satisfied: nbconvert in /usr/local/lib/python3.7/dist-packages (from notebook>=4.4.1->widgetsnbextension~=3.5.0->ipywidgets->pycaret) (5.6.1)\n",
            "Requirement already satisfied: terminado>=0.8.1 in /usr/local/lib/python3.7/dist-packages (from notebook>=4.4.1->widgetsnbextension~=3.5.0->ipywidgets->pycaret) (0.11.0)\n",
            "Requirement already satisfied: pyzmq>=13 in /usr/local/lib/python3.7/dist-packages (from jupyter-client->ipykernel>=4.5.1->ipywidgets->pycaret) (22.2.1)\n",
            "Requirement already satisfied: ptyprocess in /usr/local/lib/python3.7/dist-packages (from terminado>=0.8.1->notebook>=4.4.1->widgetsnbextension~=3.5.0->ipywidgets->pycaret) (0.7.0)\n",
            "Requirement already satisfied: PyWavelets in /usr/local/lib/python3.7/dist-packages (from imagehash->visions[type_image_path]==0.7.1->pandas-profiling>=2.8.0->pycaret) (1.1.1)\n",
            "Requirement already satisfied: databricks-cli>=0.8.7 in /usr/local/lib/python3.7/dist-packages (from mlflow->pycaret) (0.15.0)\n",
            "Requirement already satisfied: alembic<=1.4.1 in /usr/local/lib/python3.7/dist-packages (from mlflow->pycaret) (1.4.1)\n",
            "Requirement already satisfied: Flask in /usr/local/lib/python3.7/dist-packages (from mlflow->pycaret) (1.1.4)\n",
            "Requirement already satisfied: querystring-parser in /usr/local/lib/python3.7/dist-packages (from mlflow->pycaret) (1.2.4)\n",
            "Requirement already satisfied: prometheus-flask-exporter in /usr/local/lib/python3.7/dist-packages (from mlflow->pycaret) (0.18.2)\n",
            "Requirement already satisfied: click>=7.0 in /usr/local/lib/python3.7/dist-packages (from mlflow->pycaret) (7.1.2)\n",
            "Requirement already satisfied: sqlparse>=0.3.1 in /usr/local/lib/python3.7/dist-packages (from mlflow->pycaret) (0.4.1)\n",
            "Requirement already satisfied: entrypoints in /usr/local/lib/python3.7/dist-packages (from mlflow->pycaret) (0.3)\n",
            "Requirement already satisfied: gunicorn in /usr/local/lib/python3.7/dist-packages (from mlflow->pycaret) (20.1.0)\n",
            "Requirement already satisfied: cloudpickle in /usr/local/lib/python3.7/dist-packages (from mlflow->pycaret) (1.3.0)\n",
            "Requirement already satisfied: gitpython>=2.1.0 in /usr/local/lib/python3.7/dist-packages (from mlflow->pycaret) (3.1.18)\n",
            "Requirement already satisfied: docker>=4.0.0 in /usr/local/lib/python3.7/dist-packages (from mlflow->pycaret) (5.0.0)\n",
            "Requirement already satisfied: packaging in /usr/local/lib/python3.7/dist-packages (from mlflow->pycaret) (21.0)\n",
            "Requirement already satisfied: protobuf>=3.7.0 in /usr/local/lib/python3.7/dist-packages (from mlflow->pycaret) (3.17.3)\n",
            "Requirement already satisfied: sqlalchemy in /usr/local/lib/python3.7/dist-packages (from mlflow->pycaret) (1.4.22)\n",
            "Requirement already satisfied: python-editor>=0.3 in /usr/local/lib/python3.7/dist-packages (from alembic<=1.4.1->mlflow->pycaret) (1.0.4)\n",
            "Requirement already satisfied: Mako in /usr/local/lib/python3.7/dist-packages (from alembic<=1.4.1->mlflow->pycaret) (1.1.4)\n",
            "Requirement already satisfied: tabulate>=0.7.7 in /usr/local/lib/python3.7/dist-packages (from databricks-cli>=0.8.7->mlflow->pycaret) (0.8.9)\n",
            "Requirement already satisfied: websocket-client>=0.32.0 in /usr/local/lib/python3.7/dist-packages (from docker>=4.0.0->mlflow->pycaret) (1.2.1)\n",
            "Requirement already satisfied: gitdb<5,>=4.0.1 in /usr/local/lib/python3.7/dist-packages (from gitpython>=2.1.0->mlflow->pycaret) (4.0.7)\n",
            "Requirement already satisfied: smmap<5,>=3.0.1 in /usr/local/lib/python3.7/dist-packages (from gitdb<5,>=4.0.1->gitpython>=2.1.0->mlflow->pycaret) (4.0.0)\n",
            "Requirement already satisfied: greenlet!=0.4.17 in /usr/local/lib/python3.7/dist-packages (from sqlalchemy->mlflow->pycaret) (1.1.1)\n",
            "Requirement already satisfied: itsdangerous<2.0,>=0.24 in /usr/local/lib/python3.7/dist-packages (from Flask->mlflow->pycaret) (1.1.0)\n",
            "Requirement already satisfied: Werkzeug<2.0,>=0.15 in /usr/local/lib/python3.7/dist-packages (from Flask->mlflow->pycaret) (1.0.1)\n",
            "Requirement already satisfied: bleach in /usr/local/lib/python3.7/dist-packages (from nbconvert->notebook>=4.4.1->widgetsnbextension~=3.5.0->ipywidgets->pycaret) (4.0.0)\n",
            "Requirement already satisfied: pandocfilters>=1.4.1 in /usr/local/lib/python3.7/dist-packages (from nbconvert->notebook>=4.4.1->widgetsnbextension~=3.5.0->ipywidgets->pycaret) (1.4.3)\n",
            "Requirement already satisfied: testpath in /usr/local/lib/python3.7/dist-packages (from nbconvert->notebook>=4.4.1->widgetsnbextension~=3.5.0->ipywidgets->pycaret) (0.5.0)\n",
            "Requirement already satisfied: defusedxml in /usr/local/lib/python3.7/dist-packages (from nbconvert->notebook>=4.4.1->widgetsnbextension~=3.5.0->ipywidgets->pycaret) (0.7.1)\n",
            "Requirement already satisfied: mistune<2,>=0.8.1 in /usr/local/lib/python3.7/dist-packages (from nbconvert->notebook>=4.4.1->widgetsnbextension~=3.5.0->ipywidgets->pycaret) (0.8.4)\n",
            "Requirement already satisfied: webencodings in /usr/local/lib/python3.7/dist-packages (from bleach->nbconvert->notebook>=4.4.1->widgetsnbextension~=3.5.0->ipywidgets->pycaret) (0.5.1)\n",
            "Requirement already satisfied: prometheus-client in /usr/local/lib/python3.7/dist-packages (from prometheus-flask-exporter->mlflow->pycaret) (0.11.0)\n",
            "Requirement already satisfied: numexpr in /usr/local/lib/python3.7/dist-packages (from pyLDAvis->pycaret) (2.7.3)\n",
            "Requirement already satisfied: funcy in /usr/local/lib/python3.7/dist-packages (from pyLDAvis->pycaret) (1.16)\n",
            "Requirement already satisfied: future in /usr/local/lib/python3.7/dist-packages (from pyLDAvis->pycaret) (0.16.0)\n",
            "Requirement already satisfied: statsmodels in /usr/local/lib/python3.7/dist-packages (from pyod->pycaret) (0.12.2)\n",
            "Requirement already satisfied: numba>=0.35 in /usr/local/lib/python3.7/dist-packages (from pyod->pycaret) (0.51.2)\n",
            "Requirement already satisfied: llvmlite<0.35,>=0.34.0.dev0 in /usr/local/lib/python3.7/dist-packages (from numba>=0.35->pyod->pycaret) (0.34.0)\n",
            "Requirement already satisfied: patsy>=0.5 in /usr/local/lib/python3.7/dist-packages (from statsmodels->pyod->pycaret) (0.5.1)\n",
            "Requirement already satisfied: pynndescent>=0.5 in /usr/local/lib/python3.7/dist-packages (from umap-learn->pycaret) (0.5.4)\n"
          ],
          "name": "stdout"
        }
      ]
    },
    {
      "cell_type": "code",
      "metadata": {
        "colab": {
          "base_uri": "https://localhost:8080/"
        },
        "id": "dblvRYKdQgnO",
        "outputId": "1fe7ef12-edd6-417d-a76c-82b2881c3011"
      },
      "source": [
        "# upgrade statmodels\n",
        "!pip install statsmodels --upgrade"
      ],
      "execution_count": 2,
      "outputs": [
        {
          "output_type": "stream",
          "text": [
            "Requirement already satisfied: statsmodels in /usr/local/lib/python3.7/dist-packages (0.12.2)\n",
            "Requirement already satisfied: scipy>=1.1 in /usr/local/lib/python3.7/dist-packages (from statsmodels) (1.5.4)\n",
            "Requirement already satisfied: pandas>=0.21 in /usr/local/lib/python3.7/dist-packages (from statsmodels) (1.1.5)\n",
            "Requirement already satisfied: patsy>=0.5 in /usr/local/lib/python3.7/dist-packages (from statsmodels) (0.5.1)\n",
            "Requirement already satisfied: numpy>=1.15 in /usr/local/lib/python3.7/dist-packages (from statsmodels) (1.19.5)\n",
            "Requirement already satisfied: python-dateutil>=2.7.3 in /usr/local/lib/python3.7/dist-packages (from pandas>=0.21->statsmodels) (2.8.2)\n",
            "Requirement already satisfied: pytz>=2017.2 in /usr/local/lib/python3.7/dist-packages (from pandas>=0.21->statsmodels) (2018.9)\n",
            "Requirement already satisfied: six in /usr/local/lib/python3.7/dist-packages (from patsy>=0.5->statsmodels) (1.15.0)\n"
          ],
          "name": "stdout"
        }
      ]
    },
    {
      "cell_type": "markdown",
      "metadata": {
        "id": "lP3knKG1x1cY"
      },
      "source": [
        "## Import Dataset and Dependencies"
      ]
    },
    {
      "cell_type": "code",
      "metadata": {
        "id": "64ZSlpWYiJ5T"
      },
      "source": [
        "# Import dependencies\n",
        "import numpy as np\n",
        "import pandas as pd\n",
        "import matplotlib.pyplot as plt\n",
        "import seaborn as sns\n",
        "from statsmodels.graphics.tsaplots import plot_acf\n",
        "\n",
        "from datetime import datetime\n",
        "from sklearn.metrics import mean_absolute_error\n",
        "from warnings import filterwarnings\n",
        "filterwarnings('ignore')"
      ],
      "execution_count": 3,
      "outputs": []
    },
    {
      "cell_type": "code",
      "metadata": {
        "colab": {
          "base_uri": "https://localhost:8080/"
        },
        "id": "W6f9OkKBwPG3",
        "outputId": "e75009b5-00df-42fb-86ad-9c5ecdf7421d"
      },
      "source": [
        "from google.colab import drive\n",
        "drive.mount('/content/gdrive')"
      ],
      "execution_count": 4,
      "outputs": [
        {
          "output_type": "stream",
          "text": [
            "Drive already mounted at /content/gdrive; to attempt to forcibly remount, call drive.mount(\"/content/gdrive\", force_remount=True).\n"
          ],
          "name": "stdout"
        }
      ]
    },
    {
      "cell_type": "code",
      "metadata": {
        "id": "uQSTIWJViqtc"
      },
      "source": [
        "# IMPORT DATA FROM Google drive \n",
        "\n",
        "# You can just umcomment the below code to read the data from your drive\n",
        "train = pd.read_csv('/content/gdrive/My Drive/Colab Notebooks/Data/fred_quarterly.csv')\n"
      ],
      "execution_count": 5,
      "outputs": []
    },
    {
      "cell_type": "code",
      "metadata": {
        "colab": {
          "base_uri": "https://localhost:8080/",
          "height": 0
        },
        "id": "AW9hzuAvwgoi",
        "outputId": "d6f2246c-9f1b-4714-bb2a-292da5ba9abf"
      },
      "source": [
        "train"
      ],
      "execution_count": 6,
      "outputs": [
        {
          "output_type": "execute_result",
          "data": {
            "text/html": [
              "<div>\n",
              "<style scoped>\n",
              "    .dataframe tbody tr th:only-of-type {\n",
              "        vertical-align: middle;\n",
              "    }\n",
              "\n",
              "    .dataframe tbody tr th {\n",
              "        vertical-align: top;\n",
              "    }\n",
              "\n",
              "    .dataframe thead th {\n",
              "        text-align: right;\n",
              "    }\n",
              "</style>\n",
              "<table border=\"1\" class=\"dataframe\">\n",
              "  <thead>\n",
              "    <tr style=\"text-align: right;\">\n",
              "      <th></th>\n",
              "      <th>date</th>\n",
              "      <th>month</th>\n",
              "      <th>quarter</th>\n",
              "      <th>Target</th>\n",
              "      <th>gnp</th>\n",
              "      <th>gdpdef</th>\n",
              "      <th>gdp</th>\n",
              "    </tr>\n",
              "  </thead>\n",
              "  <tbody>\n",
              "    <tr>\n",
              "      <th>0</th>\n",
              "      <td>1/1/2000</td>\n",
              "      <td>2000-01</td>\n",
              "      <td>2000Q1</td>\n",
              "      <td>12935.252</td>\n",
              "      <td>10035.263</td>\n",
              "      <td>77.325</td>\n",
              "      <td>10002.179</td>\n",
              "    </tr>\n",
              "    <tr>\n",
              "      <th>1</th>\n",
              "      <td>4/1/2000</td>\n",
              "      <td>2000-04</td>\n",
              "      <td>2000Q2</td>\n",
              "      <td>13170.749</td>\n",
              "      <td>10283.391</td>\n",
              "      <td>77.807</td>\n",
              "      <td>10247.720</td>\n",
              "    </tr>\n",
              "    <tr>\n",
              "      <th>2</th>\n",
              "      <td>7/1/2000</td>\n",
              "      <td>2000-07</td>\n",
              "      <td>2000Q3</td>\n",
              "      <td>13183.890</td>\n",
              "      <td>10348.645</td>\n",
              "      <td>78.263</td>\n",
              "      <td>10318.165</td>\n",
              "    </tr>\n",
              "    <tr>\n",
              "      <th>3</th>\n",
              "      <td>10/1/2000</td>\n",
              "      <td>2000-10</td>\n",
              "      <td>2000Q4</td>\n",
              "      <td>13262.250</td>\n",
              "      <td>10490.430</td>\n",
              "      <td>78.688</td>\n",
              "      <td>10435.744</td>\n",
              "    </tr>\n",
              "    <tr>\n",
              "      <th>4</th>\n",
              "      <td>1/1/2001</td>\n",
              "      <td>2001-01</td>\n",
              "      <td>2001Q1</td>\n",
              "      <td>13219.251</td>\n",
              "      <td>10510.297</td>\n",
              "      <td>79.204</td>\n",
              "      <td>10470.231</td>\n",
              "    </tr>\n",
              "    <tr>\n",
              "      <th>...</th>\n",
              "      <td>...</td>\n",
              "      <td>...</td>\n",
              "      <td>...</td>\n",
              "      <td>...</td>\n",
              "      <td>...</td>\n",
              "      <td>...</td>\n",
              "      <td>...</td>\n",
              "    </tr>\n",
              "    <tr>\n",
              "      <th>81</th>\n",
              "      <td>4/1/2020</td>\n",
              "      <td>2020-04</td>\n",
              "      <td>2020Q2</td>\n",
              "      <td>17258.205</td>\n",
              "      <td>19649.442</td>\n",
              "      <td>112.859</td>\n",
              "      <td>19477.444</td>\n",
              "    </tr>\n",
              "    <tr>\n",
              "      <th>82</th>\n",
              "      <td>7/1/2020</td>\n",
              "      <td>2020-07</td>\n",
              "      <td>2020Q3</td>\n",
              "      <td>18560.774</td>\n",
              "      <td>21365.412</td>\n",
              "      <td>113.888</td>\n",
              "      <td>21138.574</td>\n",
              "    </tr>\n",
              "    <tr>\n",
              "      <th>83</th>\n",
              "      <td>10/1/2020</td>\n",
              "      <td>2020-10</td>\n",
              "      <td>2020Q4</td>\n",
              "      <td>18767.778</td>\n",
              "      <td>21728.223</td>\n",
              "      <td>114.439</td>\n",
              "      <td>21477.597</td>\n",
              "    </tr>\n",
              "    <tr>\n",
              "      <th>84</th>\n",
              "      <td>1/1/2021</td>\n",
              "      <td>2021-01</td>\n",
              "      <td>2021Q1</td>\n",
              "      <td>19055.655</td>\n",
              "      <td>22273.060</td>\n",
              "      <td>115.652</td>\n",
              "      <td>22038.226</td>\n",
              "    </tr>\n",
              "    <tr>\n",
              "      <th>85</th>\n",
              "      <td>4/1/2021</td>\n",
              "      <td>2021-04</td>\n",
              "      <td>2021Q2</td>\n",
              "      <td>19358.176</td>\n",
              "      <td>NaN</td>\n",
              "      <td>117.380</td>\n",
              "      <td>22722.581</td>\n",
              "    </tr>\n",
              "  </tbody>\n",
              "</table>\n",
              "<p>86 rows × 7 columns</p>\n",
              "</div>"
            ],
            "text/plain": [
              "         date    month quarter     Target        gnp   gdpdef        gdp\n",
              "0    1/1/2000  2000-01  2000Q1  12935.252  10035.263   77.325  10002.179\n",
              "1    4/1/2000  2000-04  2000Q2  13170.749  10283.391   77.807  10247.720\n",
              "2    7/1/2000  2000-07  2000Q3  13183.890  10348.645   78.263  10318.165\n",
              "3   10/1/2000  2000-10  2000Q4  13262.250  10490.430   78.688  10435.744\n",
              "4    1/1/2001  2001-01  2001Q1  13219.251  10510.297   79.204  10470.231\n",
              "..        ...      ...     ...        ...        ...      ...        ...\n",
              "81   4/1/2020  2020-04  2020Q2  17258.205  19649.442  112.859  19477.444\n",
              "82   7/1/2020  2020-07  2020Q3  18560.774  21365.412  113.888  21138.574\n",
              "83  10/1/2020  2020-10  2020Q4  18767.778  21728.223  114.439  21477.597\n",
              "84   1/1/2021  2021-01  2021Q1  19055.655  22273.060  115.652  22038.226\n",
              "85   4/1/2021  2021-04  2021Q2  19358.176        NaN  117.380  22722.581\n",
              "\n",
              "[86 rows x 7 columns]"
            ]
          },
          "metadata": {},
          "execution_count": 6
        }
      ]
    },
    {
      "cell_type": "markdown",
      "metadata": {
        "id": "lTuFCpn3t7cj"
      },
      "source": [
        "## Data Preprocessing\n",
        "This step includes \n",
        "  * Feature Engineering and Feature Selection\n",
        "  * Splitting the data for train and test"
      ]
    },
    {
      "cell_type": "code",
      "metadata": {
        "colab": {
          "base_uri": "https://localhost:8080/",
          "height": 0
        },
        "id": "g7b2Q7QC10P_",
        "outputId": "5ef9f7a8-8710-437e-d35b-5662b75da953"
      },
      "source": [
        "# Lets visualise some of the featurs vs time\n",
        "# The features are : Target, gnp,gdp\n",
        "plt.figure(figsize=(12,3))\n",
        "sns.lineplot(train['quarter'],train['Target'])\n",
        "sns.lineplot(train['quarter'],train['gnp']) \t\n",
        "sns.lineplot(train['quarter'],train['gdp'])\n",
        "plt.legend(['Target','gnp','gdp'])\n",
        "plt.xticks(rotation=90)\n",
        "plt.grid(False)\n",
        "plt.show()"
      ],
      "execution_count": 7,
      "outputs": [
        {
          "output_type": "display_data",
          "data": {
            "image/png": "[encoded data removed]",
            "text/plain": [
              "<Figure size 864x216 with 1 Axes>"
            ]
          },
          "metadata": {
            "needs_background": "light"
          }
        }
      ]
    },
    {
      "cell_type": "markdown",
      "metadata": {
        "id": "JnJcFSMu0nky"
      },
      "source": [
        "*  We are considering this problem as a univariate time series forecasting, ie, we don't need any time dependable variables other than target variable.So we just drop all other time dependable variables like gdp , gnp"
      ]
    },
    {
      "cell_type": "code",
      "metadata": {
        "colab": {
          "base_uri": "https://localhost:8080/",
          "height": 0
        },
        "id": "19sG2p6VuBfl",
        "outputId": "f3a20c91-c3ad-4bc5-881f-e67eb2b438e9"
      },
      "source": [
        "# checking whether any quarter result missing \n",
        "plt.figure(figsize=(10,2))\n",
        "sns.countplot(train['quarter'].apply(lambda x:x.split('Q')[0]))\n",
        "plt.xticks(rotation=90)\n",
        "plt.show()"
      ],
      "execution_count": 8,
      "outputs": [
        {
          "output_type": "display_data",
          "data": {
            "image/png": "[encoded data removed]",
            "text/plain": [
              "<Figure size 720x144 with 1 Axes>"
            ]
          },
          "metadata": {
            "needs_background": "light"
          }
        }
      ]
    },
    {
      "cell_type": "markdown",
      "metadata": {
        "id": "Zes_S705wY-y"
      },
      "source": [
        "* There is no missing values in the quarter results. "
      ]
    },
    {
      "cell_type": "markdown",
      "metadata": {
        "id": "jx-9-ETr2cWQ"
      },
      "source": [
        "### Feature Engineering"
      ]
    },
    {
      "cell_type": "code",
      "metadata": {
        "id": "8gGqr8BBlTkL"
      },
      "source": [
        "# Split the date feature into Year and Quarter\n",
        "train['year'] = train['quarter'].apply(lambda x : x.split('Q')[0]).astype(int)\n",
        "train['quarter_'] = train['quarter'].apply(lambda x : x.split('Q')[1]).astype(int)\n",
        "\n",
        "# Create a new feature with bias for covid affected quarters\n",
        "train['Covid_flag'] = pd.Series(np.where(train['year'] >=2020, 5, 1))\n",
        "\n",
        "# Set index of the quarter\n",
        "train = train.set_index('quarter')"
      ],
      "execution_count": 9,
      "outputs": []
    },
    {
      "cell_type": "markdown",
      "metadata": {
        "id": "rdT24wZO3q77"
      },
      "source": [
        "* Shift the target variables  to get multiple lag features and the new dependent feature"
      ]
    },
    {
      "cell_type": "code",
      "metadata": {
        "id": "7H0Lzxpq4Gtx"
      },
      "source": [
        "# Lag features for the target variable\n",
        "train['lag_1'] = train['Target'].shift(1)  # Lag 1\n",
        "train['lag_2'] = train['Target'].shift(2)  # Lag 2\n",
        "train['lag_4'] = train['Target'].shift(4)  # Lag 3\n",
        "# Drop firt four observations\n",
        "train.drop(train.index[0:4],inplace=True)"
      ],
      "execution_count": 10,
      "outputs": []
    },
    {
      "cell_type": "markdown",
      "metadata": {
        "id": "xvH_w6Av5CFP"
      },
      "source": [
        "* While shifting Target variables for new dependent feature,few of the top obervations turned to be NaN. So we could drop that observations"
      ]
    },
    {
      "cell_type": "markdown",
      "metadata": {
        "id": "EM-nGtkl5oci"
      },
      "source": [
        "* We have added some new dependant features for forecasting - lag_1,lag_2,lag_4,covid_flag\n",
        "* Drop the time depandanat variables from dataset since it is univariate time forecasting"
      ]
    },
    {
      "cell_type": "code",
      "metadata": {
        "id": "26mpNefxmvIl"
      },
      "source": [
        "# Select the feature needed for the time series\n",
        "df  = train[['year','quarter_','lag_1','lag_2','lag_4','Covid_flag','Target']]"
      ],
      "execution_count": 11,
      "outputs": []
    },
    {
      "cell_type": "code",
      "metadata": {
        "id": "UMH1CNRaaBTr"
      },
      "source": [
        "df.drop(df.index[0:4],inplace=True)"
      ],
      "execution_count": 12,
      "outputs": []
    },
    {
      "cell_type": "code",
      "metadata": {
        "colab": {
          "base_uri": "https://localhost:8080/"
        },
        "id": "38Uxr0Kwnmny",
        "outputId": "c1ae0bc3-5c77-4967-8abf-9a27051cc41f"
      },
      "source": [
        "#Check for the  Missing values\n",
        "df.isnull().sum().any()"
      ],
      "execution_count": 13,
      "outputs": [
        {
          "output_type": "execute_result",
          "data": {
            "text/plain": [
              "False"
            ]
          },
          "metadata": {},
          "execution_count": 13
        }
      ]
    },
    {
      "cell_type": "markdown",
      "metadata": {
        "id": "jqybwUNF6SVV"
      },
      "source": [
        "* There is no missing values in the dataset"
      ]
    },
    {
      "cell_type": "markdown",
      "metadata": {
        "id": "Ny54BvZ9phuv"
      },
      "source": [
        "### Split the data for trainig and testing"
      ]
    },
    {
      "cell_type": "markdown",
      "metadata": {
        "id": "z4PpK6eZ6ZUv"
      },
      "source": [
        "* Time series data has to follow the order of the observations, so splitting the dataset for trainig and testing is very simple. We have to fit the model for the data till a particular time,it is called training dataset. The dataset used to check the model's perfomance called testing dataset which will be the continuation of the training dataset.\n",
        "* Here we are taking the last few quarters as testing data and all the data before it is for fitting the model"
      ]
    },
    {
      "cell_type": "code",
      "metadata": {
        "id": "IqAyi_TVojkv"
      },
      "source": [
        "# We can decide any boundary for training and testing \n",
        "def train_test_split(data,split_year,split_quarter):\n",
        "  ''' This function return the traing and testing dataset for model \n",
        "      Input : data - the whole dataset\n",
        "              split_year - boundary for the train-test split\n",
        "      ie, the dataset before split_year is train data and after split_year is test data  \n",
        "  '''\n",
        "  df_train = data[data['year']<split_year]\n",
        "  df_test = data[data['year']>=split_year]\n",
        "  return df_train,df_test"
      ],
      "execution_count": 14,
      "outputs": []
    },
    {
      "cell_type": "code",
      "metadata": {
        "id": "0w16HkVqsloS"
      },
      "source": [
        "# Split the data with decision boundary 2021 \n",
        "df_train ,df_test = train_test_split(df,2017,1)"
      ],
      "execution_count": 15,
      "outputs": []
    },
    {
      "cell_type": "markdown",
      "metadata": {
        "id": "1YYj4Vieyn0o"
      },
      "source": [
        "## Create Model"
      ]
    },
    {
      "cell_type": "code",
      "metadata": {
        "id": "k4R31Ynhxvbj"
      },
      "source": [
        "# import regeression models pycaret\n",
        "from pycaret.regression import *"
      ],
      "execution_count": 16,
      "outputs": []
    },
    {
      "cell_type": "code",
      "metadata": {
        "id": "QM6HwSIsy561"
      },
      "source": [
        "# Setting up the model\n",
        "reg = setup(data = df_train, target = 'Target',\n",
        "              train_size = 0.9, \n",
        "              data_split_shuffle = False, fold_strategy = 'timeseries', fold = 3,\n",
        "              silent = True,verbose = False, session_id = 123)"
      ],
      "execution_count": 17,
      "outputs": []
    },
    {
      "cell_type": "markdown",
      "metadata": {
        "id": "PJupuQ1dBAvl"
      },
      "source": [
        "Setup function parameters:\n",
        "* data - Dataset for fitting the model\n",
        "* target - Name of the target column (dependant variable)\n",
        "* train_size - Split ratio for train and test for model fitting\n",
        "* data_split_shuffle - Given 'False' to avoid the shuffle before splitting\n",
        "* fold_strategy - Using 'time_series'  as cross fold strategy\n",
        "* fold - Number of folds to be used for cross validation\n",
        "* verbose - Information grid will not print if it is False"
      ]
    },
    {
      "cell_type": "code",
      "metadata": {
        "colab": {
          "base_uri": "https://localhost:8080/",
          "height": 0,
          "referenced_widgets": [
            "2c212efb4db047da9075e362815e9cd8",
            "d6143b91e1a045ce9b7c82a3d113e676",
            "6937cf5461a54b8c9e1b7e1a665272e0"
          ]
        },
        "id": "-d1_aJ-0mc4D",
        "outputId": "75d95870-f721-4669-c092-a1e3a240a960"
      },
      "source": [
        "# Select best model based on lowest Mean absolute error\n",
        "best = compare_models(sort='MAPE')"
      ],
      "execution_count": 18,
      "outputs": [
        {
          "output_type": "display_data",
          "data": {
            "text/html": [
              "<div>\n",
              "<style scoped>\n",
              "    .dataframe tbody tr th:only-of-type {\n",
              "        vertical-align: middle;\n",
              "    }\n",
              "\n",
              "    .dataframe tbody tr th {\n",
              "        vertical-align: top;\n",
              "    }\n",
              "\n",
              "    .dataframe thead th {\n",
              "        text-align: right;\n",
              "    }\n",
              "</style>\n",
              "<table border=\"1\" class=\"dataframe\">\n",
              "  <thead>\n",
              "    <tr style=\"text-align: right;\">\n",
              "      <th></th>\n",
              "      <th>Model</th>\n",
              "      <th>MAE</th>\n",
              "      <th>MSE</th>\n",
              "      <th>RMSE</th>\n",
              "      <th>R2</th>\n",
              "      <th>RMSLE</th>\n",
              "      <th>MAPE</th>\n",
              "      <th>TT (Sec)</th>\n",
              "    </tr>\n",
              "  </thead>\n",
              "  <tbody>\n",
              "    <tr>\n",
              "      <th>huber</th>\n",
              "      <td>Huber Regressor</td>\n",
              "      <td>7.906220e+01</td>\n",
              "      <td>1.341925e+04</td>\n",
              "      <td>1.095233e+02</td>\n",
              "      <td>7.872000e-01</td>\n",
              "      <td>0.0069</td>\n",
              "      <td>0.0050</td>\n",
              "      <td>0.0267</td>\n",
              "    </tr>\n",
              "    <tr>\n",
              "      <th>omp</th>\n",
              "      <td>Orthogonal Matching Pursuit</td>\n",
              "      <td>9.395710e+01</td>\n",
              "      <td>1.741816e+04</td>\n",
              "      <td>1.237831e+02</td>\n",
              "      <td>7.200000e-01</td>\n",
              "      <td>0.0078</td>\n",
              "      <td>0.0059</td>\n",
              "      <td>0.0167</td>\n",
              "    </tr>\n",
              "    <tr>\n",
              "      <th>llar</th>\n",
              "      <td>Lasso Least Angle Regression</td>\n",
              "      <td>1.000734e+02</td>\n",
              "      <td>1.832148e+04</td>\n",
              "      <td>1.314766e+02</td>\n",
              "      <td>7.290000e-01</td>\n",
              "      <td>0.0083</td>\n",
              "      <td>0.0063</td>\n",
              "      <td>0.0167</td>\n",
              "    </tr>\n",
              "    <tr>\n",
              "      <th>lasso</th>\n",
              "      <td>Lasso Regression</td>\n",
              "      <td>1.118658e+02</td>\n",
              "      <td>2.426261e+04</td>\n",
              "      <td>1.404452e+02</td>\n",
              "      <td>5.868000e-01</td>\n",
              "      <td>0.0089</td>\n",
              "      <td>0.0071</td>\n",
              "      <td>0.0233</td>\n",
              "    </tr>\n",
              "    <tr>\n",
              "      <th>en</th>\n",
              "      <td>Elastic Net</td>\n",
              "      <td>1.220103e+02</td>\n",
              "      <td>2.637119e+04</td>\n",
              "      <td>1.544839e+02</td>\n",
              "      <td>5.931000e-01</td>\n",
              "      <td>0.0098</td>\n",
              "      <td>0.0077</td>\n",
              "      <td>0.0200</td>\n",
              "    </tr>\n",
              "    <tr>\n",
              "      <th>ridge</th>\n",
              "      <td>Ridge Regression</td>\n",
              "      <td>1.256889e+02</td>\n",
              "      <td>2.687529e+04</td>\n",
              "      <td>1.538290e+02</td>\n",
              "      <td>5.680000e-01</td>\n",
              "      <td>0.0097</td>\n",
              "      <td>0.0079</td>\n",
              "      <td>0.0167</td>\n",
              "    </tr>\n",
              "    <tr>\n",
              "      <th>br</th>\n",
              "      <td>Bayesian Ridge</td>\n",
              "      <td>1.245878e+02</td>\n",
              "      <td>2.726556e+04</td>\n",
              "      <td>1.566320e+02</td>\n",
              "      <td>5.744000e-01</td>\n",
              "      <td>0.0099</td>\n",
              "      <td>0.0079</td>\n",
              "      <td>0.0167</td>\n",
              "    </tr>\n",
              "    <tr>\n",
              "      <th>par</th>\n",
              "      <td>Passive Aggressive Regressor</td>\n",
              "      <td>1.390273e+02</td>\n",
              "      <td>4.048007e+04</td>\n",
              "      <td>1.894707e+02</td>\n",
              "      <td>4.113000e-01</td>\n",
              "      <td>0.0120</td>\n",
              "      <td>0.0089</td>\n",
              "      <td>0.0167</td>\n",
              "    </tr>\n",
              "    <tr>\n",
              "      <th>dt</th>\n",
              "      <td>Decision Tree Regressor</td>\n",
              "      <td>4.529930e+02</td>\n",
              "      <td>3.040324e+05</td>\n",
              "      <td>5.377100e+02</td>\n",
              "      <td>-2.694800e+00</td>\n",
              "      <td>0.0338</td>\n",
              "      <td>0.0281</td>\n",
              "      <td>0.0167</td>\n",
              "    </tr>\n",
              "    <tr>\n",
              "      <th>ada</th>\n",
              "      <td>AdaBoost Regressor</td>\n",
              "      <td>5.050931e+02</td>\n",
              "      <td>3.738665e+05</td>\n",
              "      <td>5.869488e+02</td>\n",
              "      <td>-3.700000e+00</td>\n",
              "      <td>0.0370</td>\n",
              "      <td>0.0313</td>\n",
              "      <td>0.0767</td>\n",
              "    </tr>\n",
              "    <tr>\n",
              "      <th>gbr</th>\n",
              "      <td>Gradient Boosting Regressor</td>\n",
              "      <td>5.108934e+02</td>\n",
              "      <td>3.795111e+05</td>\n",
              "      <td>5.945799e+02</td>\n",
              "      <td>-3.907500e+00</td>\n",
              "      <td>0.0375</td>\n",
              "      <td>0.0317</td>\n",
              "      <td>0.0433</td>\n",
              "    </tr>\n",
              "    <tr>\n",
              "      <th>lr</th>\n",
              "      <td>Linear Regression</td>\n",
              "      <td>5.124937e+02</td>\n",
              "      <td>3.193860e+05</td>\n",
              "      <td>5.611026e+02</td>\n",
              "      <td>-2.788700e+00</td>\n",
              "      <td>0.0347</td>\n",
              "      <td>0.0319</td>\n",
              "      <td>0.9100</td>\n",
              "    </tr>\n",
              "    <tr>\n",
              "      <th>rf</th>\n",
              "      <td>Random Forest Regressor</td>\n",
              "      <td>5.832033e+02</td>\n",
              "      <td>4.808448e+05</td>\n",
              "      <td>6.474390e+02</td>\n",
              "      <td>-5.065400e+00</td>\n",
              "      <td>0.0409</td>\n",
              "      <td>0.0361</td>\n",
              "      <td>0.5233</td>\n",
              "    </tr>\n",
              "    <tr>\n",
              "      <th>et</th>\n",
              "      <td>Extra Trees Regressor</td>\n",
              "      <td>6.083978e+02</td>\n",
              "      <td>5.456139e+05</td>\n",
              "      <td>6.837409e+02</td>\n",
              "      <td>-5.868800e+00</td>\n",
              "      <td>0.0433</td>\n",
              "      <td>0.0377</td>\n",
              "      <td>0.4600</td>\n",
              "    </tr>\n",
              "    <tr>\n",
              "      <th>knn</th>\n",
              "      <td>K Neighbors Regressor</td>\n",
              "      <td>6.280574e+02</td>\n",
              "      <td>5.487215e+05</td>\n",
              "      <td>6.828617e+02</td>\n",
              "      <td>-5.648500e+00</td>\n",
              "      <td>0.0432</td>\n",
              "      <td>0.0389</td>\n",
              "      <td>0.0833</td>\n",
              "    </tr>\n",
              "    <tr>\n",
              "      <th>lightgbm</th>\n",
              "      <td>Light Gradient Boosting Machine</td>\n",
              "      <td>1.080532e+03</td>\n",
              "      <td>1.312711e+06</td>\n",
              "      <td>1.128531e+03</td>\n",
              "      <td>-1.737180e+01</td>\n",
              "      <td>0.0733</td>\n",
              "      <td>0.0677</td>\n",
              "      <td>0.1700</td>\n",
              "    </tr>\n",
              "    <tr>\n",
              "      <th>lar</th>\n",
              "      <td>Least Angle Regression</td>\n",
              "      <td>1.811991e+07</td>\n",
              "      <td>9.017281e+14</td>\n",
              "      <td>1.823304e+07</td>\n",
              "      <td>-8.766872e+09</td>\n",
              "      <td>4.2411</td>\n",
              "      <td>1155.4893</td>\n",
              "      <td>0.0200</td>\n",
              "    </tr>\n",
              "  </tbody>\n",
              "</table>\n",
              "</div>"
            ],
            "text/plain": [
              "                                    Model           MAE           MSE  \\\n",
              "huber                     Huber Regressor  7.906220e+01  1.341925e+04   \n",
              "omp           Orthogonal Matching Pursuit  9.395710e+01  1.741816e+04   \n",
              "llar         Lasso Least Angle Regression  1.000734e+02  1.832148e+04   \n",
              "lasso                    Lasso Regression  1.118658e+02  2.426261e+04   \n",
              "en                            Elastic Net  1.220103e+02  2.637119e+04   \n",
              "ridge                    Ridge Regression  1.256889e+02  2.687529e+04   \n",
              "br                         Bayesian Ridge  1.245878e+02  2.726556e+04   \n",
              "par          Passive Aggressive Regressor  1.390273e+02  4.048007e+04   \n",
              "dt                Decision Tree Regressor  4.529930e+02  3.040324e+05   \n",
              "ada                    AdaBoost Regressor  5.050931e+02  3.738665e+05   \n",
              "gbr           Gradient Boosting Regressor  5.108934e+02  3.795111e+05   \n",
              "lr                      Linear Regression  5.124937e+02  3.193860e+05   \n",
              "rf                Random Forest Regressor  5.832033e+02  4.808448e+05   \n",
              "et                  Extra Trees Regressor  6.083978e+02  5.456139e+05   \n",
              "knn                 K Neighbors Regressor  6.280574e+02  5.487215e+05   \n",
              "lightgbm  Light Gradient Boosting Machine  1.080532e+03  1.312711e+06   \n",
              "lar                Least Angle Regression  1.811991e+07  9.017281e+14   \n",
              "\n",
              "                  RMSE            R2   RMSLE       MAPE  TT (Sec)  \n",
              "huber     1.095233e+02  7.872000e-01  0.0069     0.0050    0.0267  \n",
              "omp       1.237831e+02  7.200000e-01  0.0078     0.0059    0.0167  \n",
              "llar      1.314766e+02  7.290000e-01  0.0083     0.0063    0.0167  \n",
              "lasso     1.404452e+02  5.868000e-01  0.0089     0.0071    0.0233  \n",
              "en        1.544839e+02  5.931000e-01  0.0098     0.0077    0.0200  \n",
              "ridge     1.538290e+02  5.680000e-01  0.0097     0.0079    0.0167  \n",
              "br        1.566320e+02  5.744000e-01  0.0099     0.0079    0.0167  \n",
              "par       1.894707e+02  4.113000e-01  0.0120     0.0089    0.0167  \n",
              "dt        5.377100e+02 -2.694800e+00  0.0338     0.0281    0.0167  \n",
              "ada       5.869488e+02 -3.700000e+00  0.0370     0.0313    0.0767  \n",
              "gbr       5.945799e+02 -3.907500e+00  0.0375     0.0317    0.0433  \n",
              "lr        5.611026e+02 -2.788700e+00  0.0347     0.0319    0.9100  \n",
              "rf        6.474390e+02 -5.065400e+00  0.0409     0.0361    0.5233  \n",
              "et        6.837409e+02 -5.868800e+00  0.0433     0.0377    0.4600  \n",
              "knn       6.828617e+02 -5.648500e+00  0.0432     0.0389    0.0833  \n",
              "lightgbm  1.128531e+03 -1.737180e+01  0.0733     0.0677    0.1700  \n",
              "lar       1.823304e+07 -8.766872e+09  4.2411  1155.4893    0.0200  "
            ]
          },
          "metadata": {}
        }
      ]
    },
    {
      "cell_type": "markdown",
      "metadata": {
        "id": "3V9WA-l2115v"
      },
      "source": [
        "#### Create Baseline model"
      ]
    },
    {
      "cell_type": "code",
      "metadata": {
        "colab": {
          "base_uri": "https://localhost:8080/",
          "height": 0
        },
        "id": "EjGGZFN11qPF",
        "outputId": "2e81f855-94a6-481e-82d7-5492eea0e18f"
      },
      "source": [
        "#Create_model\n",
        "model = create_model('huber')"
      ],
      "execution_count": 19,
      "outputs": [
        {
          "output_type": "display_data",
          "data": {
            "text/html": [
              "<div>\n",
              "<style scoped>\n",
              "    .dataframe tbody tr th:only-of-type {\n",
              "        vertical-align: middle;\n",
              "    }\n",
              "\n",
              "    .dataframe tbody tr th {\n",
              "        vertical-align: top;\n",
              "    }\n",
              "\n",
              "    .dataframe thead th {\n",
              "        text-align: right;\n",
              "    }\n",
              "</style>\n",
              "<table border=\"1\" class=\"dataframe\">\n",
              "  <thead>\n",
              "    <tr style=\"text-align: right;\">\n",
              "      <th></th>\n",
              "      <th>MAE</th>\n",
              "      <th>MSE</th>\n",
              "      <th>RMSE</th>\n",
              "      <th>R2</th>\n",
              "      <th>RMSLE</th>\n",
              "      <th>MAPE</th>\n",
              "    </tr>\n",
              "  </thead>\n",
              "  <tbody>\n",
              "    <tr>\n",
              "      <th>0</th>\n",
              "      <td>106.8930</td>\n",
              "      <td>26303.6681</td>\n",
              "      <td>162.1841</td>\n",
              "      <td>0.4826</td>\n",
              "      <td>0.0104</td>\n",
              "      <td>0.0069</td>\n",
              "    </tr>\n",
              "    <tr>\n",
              "      <th>1</th>\n",
              "      <td>68.0086</td>\n",
              "      <td>8221.8936</td>\n",
              "      <td>90.6747</td>\n",
              "      <td>0.9200</td>\n",
              "      <td>0.0058</td>\n",
              "      <td>0.0044</td>\n",
              "    </tr>\n",
              "    <tr>\n",
              "      <th>2</th>\n",
              "      <td>62.2850</td>\n",
              "      <td>5732.1914</td>\n",
              "      <td>75.7112</td>\n",
              "      <td>0.9590</td>\n",
              "      <td>0.0045</td>\n",
              "      <td>0.0037</td>\n",
              "    </tr>\n",
              "    <tr>\n",
              "      <th>Mean</th>\n",
              "      <td>79.0622</td>\n",
              "      <td>13419.2510</td>\n",
              "      <td>109.5233</td>\n",
              "      <td>0.7872</td>\n",
              "      <td>0.0069</td>\n",
              "      <td>0.0050</td>\n",
              "    </tr>\n",
              "    <tr>\n",
              "      <th>SD</th>\n",
              "      <td>19.8176</td>\n",
              "      <td>9167.1808</td>\n",
              "      <td>37.7345</td>\n",
              "      <td>0.2159</td>\n",
              "      <td>0.0025</td>\n",
              "      <td>0.0014</td>\n",
              "    </tr>\n",
              "  </tbody>\n",
              "</table>\n",
              "</div>"
            ],
            "text/plain": [
              "           MAE         MSE      RMSE      R2   RMSLE    MAPE\n",
              "0     106.8930  26303.6681  162.1841  0.4826  0.0104  0.0069\n",
              "1      68.0086   8221.8936   90.6747  0.9200  0.0058  0.0044\n",
              "2      62.2850   5732.1914   75.7112  0.9590  0.0045  0.0037\n",
              "Mean   79.0622  13419.2510  109.5233  0.7872  0.0069  0.0050\n",
              "SD     19.8176   9167.1808   37.7345  0.2159  0.0025  0.0014"
            ]
          },
          "metadata": {}
        }
      ]
    },
    {
      "cell_type": "code",
      "metadata": {
        "colab": {
          "base_uri": "https://localhost:8080/",
          "height": 0
        },
        "id": "0UXOLA8uPdvN",
        "outputId": "170596b1-883e-4fc5-d077-10dcf230f323"
      },
      "source": [
        "# tune model\n",
        "tuned_model = tune_model(model)"
      ],
      "execution_count": 20,
      "outputs": [
        {
          "output_type": "display_data",
          "data": {
            "text/html": [
              "<div>\n",
              "<style scoped>\n",
              "    .dataframe tbody tr th:only-of-type {\n",
              "        vertical-align: middle;\n",
              "    }\n",
              "\n",
              "    .dataframe tbody tr th {\n",
              "        vertical-align: top;\n",
              "    }\n",
              "\n",
              "    .dataframe thead th {\n",
              "        text-align: right;\n",
              "    }\n",
              "</style>\n",
              "<table border=\"1\" class=\"dataframe\">\n",
              "  <thead>\n",
              "    <tr style=\"text-align: right;\">\n",
              "      <th></th>\n",
              "      <th>MAE</th>\n",
              "      <th>MSE</th>\n",
              "      <th>RMSE</th>\n",
              "      <th>R2</th>\n",
              "      <th>RMSLE</th>\n",
              "      <th>MAPE</th>\n",
              "    </tr>\n",
              "  </thead>\n",
              "  <tbody>\n",
              "    <tr>\n",
              "      <th>0</th>\n",
              "      <td>103.7111</td>\n",
              "      <td>25230.2706</td>\n",
              "      <td>158.8404</td>\n",
              "      <td>0.5038</td>\n",
              "      <td>0.0102</td>\n",
              "      <td>0.0067</td>\n",
              "    </tr>\n",
              "    <tr>\n",
              "      <th>1</th>\n",
              "      <td>67.3475</td>\n",
              "      <td>7707.7585</td>\n",
              "      <td>87.7938</td>\n",
              "      <td>0.9250</td>\n",
              "      <td>0.0057</td>\n",
              "      <td>0.0043</td>\n",
              "    </tr>\n",
              "    <tr>\n",
              "      <th>2</th>\n",
              "      <td>64.9673</td>\n",
              "      <td>5712.3931</td>\n",
              "      <td>75.5804</td>\n",
              "      <td>0.9591</td>\n",
              "      <td>0.0045</td>\n",
              "      <td>0.0039</td>\n",
              "    </tr>\n",
              "    <tr>\n",
              "      <th>Mean</th>\n",
              "      <td>78.6753</td>\n",
              "      <td>12883.4741</td>\n",
              "      <td>107.4049</td>\n",
              "      <td>0.7960</td>\n",
              "      <td>0.0068</td>\n",
              "      <td>0.0050</td>\n",
              "    </tr>\n",
              "    <tr>\n",
              "      <th>SD</th>\n",
              "      <td>17.7296</td>\n",
              "      <td>8768.4247</td>\n",
              "      <td>36.7106</td>\n",
              "      <td>0.2071</td>\n",
              "      <td>0.0024</td>\n",
              "      <td>0.0012</td>\n",
              "    </tr>\n",
              "  </tbody>\n",
              "</table>\n",
              "</div>"
            ],
            "text/plain": [
              "           MAE         MSE      RMSE      R2   RMSLE    MAPE\n",
              "0     103.7111  25230.2706  158.8404  0.5038  0.0102  0.0067\n",
              "1      67.3475   7707.7585   87.7938  0.9250  0.0057  0.0043\n",
              "2      64.9673   5712.3931   75.5804  0.9591  0.0045  0.0039\n",
              "Mean   78.6753  12883.4741  107.4049  0.7960  0.0068  0.0050\n",
              "SD     17.7296   8768.4247   36.7106  0.2071  0.0024  0.0012"
            ]
          },
          "metadata": {}
        }
      ]
    },
    {
      "cell_type": "code",
      "metadata": {
        "id": "riKqjD1cSPyt",
        "colab": {
          "base_uri": "https://localhost:8080/",
          "height": 0
        },
        "outputId": "e2caaa40-71bf-4ab8-dc22-ae0fd604edbc"
      },
      "source": [
        "# residues for HuberRegressor \n",
        "plot_model(tuned_model)"
      ],
      "execution_count": 21,
      "outputs": [
        {
          "output_type": "display_data",
          "data": {
            "image/png": "[encoded data removed]",
            "text/plain": [
              "<Figure size 576x396 with 2 Axes>"
            ]
          },
          "metadata": {}
        }
      ]
    },
    {
      "cell_type": "code",
      "metadata": {
        "id": "4YG4EhBnASOi"
      },
      "source": [
        "# Let's create MAPE error function\n",
        "def mean_absolute_percentage_error(y_true, y_pred): \n",
        "    y_true, y_pred = np.array(y_true), np.array(y_pred)\n",
        "    return np.mean(np.abs((y_true - y_pred) / y_true)) * 100"
      ],
      "execution_count": 22,
      "outputs": []
    },
    {
      "cell_type": "code",
      "metadata": {
        "id": "8vcsWl1z6U5y",
        "colab": {
          "base_uri": "https://localhost:8080/"
        },
        "outputId": "81cef88f-b04e-46d5-b9fa-2d26f1630b98"
      },
      "source": [
        "# generate predictions on the original dataset\n",
        "predictions_train = predict_model(tuned_model, data=df_train)# add a date column in the dataset\n",
        "predictions_test = predict_model(tuned_model, data=df_test)# add a date column in the dataset\n",
        "# Mean absolute error of the model\n",
        "mae_train = mean_absolute_percentage_error(predictions_train['Target'],predictions_train['Label'])\n",
        "mae_test = mean_absolute_percentage_error(predictions_test['Target'],predictions_test['Label'])\n",
        "print('Mean absolute percentage error for train data is ', mae_train)\n",
        "print('Mean absolute percentage error for test data is ', mae_test)"
      ],
      "execution_count": 23,
      "outputs": [
        {
          "output_type": "stream",
          "text": [
            "Mean absolute percentage error for train data is  0.38998950050941045\n",
            "Mean absolute percentage error for test data is  1.3145360011968978\n"
          ],
          "name": "stdout"
        }
      ]
    },
    {
      "cell_type": "code",
      "metadata": {
        "id": "moqRBSnvnraa",
        "colab": {
          "base_uri": "https://localhost:8080/",
          "height": 0
        },
        "outputId": "fec6ee86-a0ee-444d-bf05-993da39f3838"
      },
      "source": [
        "# Plot the predicted output for train and test dataset\n",
        "plt.figure(figsize=(20,5))\n",
        "\n",
        "# Lineplot for Train Predictions\n",
        "sns.lineplot(df.index, df['Target'], \n",
        "             color='Orange',label='Actual',linewidth=2.5)\n",
        "\n",
        "# Lineplot for Train Predictions\n",
        "sns.lineplot(predictions_train.index, predictions_train['Label'], \n",
        "             color='blue',label='Train Predictions',linewidth=2.5)\n",
        "# Lineplot for Test Predictions\n",
        "sns.lineplot(predictions_test.index, predictions_test['Label'], \n",
        "             color='green',label='Test Predictions',linewidth=2.5)\n",
        "\n",
        "\n",
        "plt.xticks(rotation=90)\n",
        "plt.grid(False)\n",
        "plt.show()"
      ],
      "execution_count": 24,
      "outputs": [
        {
          "output_type": "display_data",
          "data": {
            "image/png": "[encoded data removed]",
            "text/plain": [
              "<Figure size 1440x360 with 1 Axes>"
            ]
          },
          "metadata": {}
        }
      ]
    },
    {
      "cell_type": "markdown",
      "metadata": {
        "id": "vVv-5BIaS_be"
      },
      "source": [
        "## Predict Upcoming Quarter Results\n"
      ]
    },
    {
      "cell_type": "code",
      "metadata": {
        "id": "pEItGY4GQKWW"
      },
      "source": [
        "# Lets run the model using whole dataset since we dont need any test data\n",
        "# Setting up the model \n",
        "reg = setup(data = df, target = 'Target',\n",
        "              train_size = 0.9, \n",
        "              data_split_shuffle = False, fold_strategy = 'timeseries', fold = 3,\n",
        "              silent = True, verbose = False, session_id = 123)\n",
        "#create a model\n",
        "model_final = create_model('huber',verbose=False)\n",
        "# Tune model\n",
        "tuned_model_final = tune_model(model_final,verbose=False)"
      ],
      "execution_count": 25,
      "outputs": []
    },
    {
      "cell_type": "code",
      "metadata": {
        "id": "5e7oKN9uRkCa"
      },
      "source": [
        "#Predict on the whole dataset\n",
        "predictions_final = predict_model(tuned_model_final, data=df)"
      ],
      "execution_count": 26,
      "outputs": []
    },
    {
      "cell_type": "code",
      "metadata": {
        "id": "QVG3ldqRn2tp"
      },
      "source": [
        "# Let's create the features for the next n quarters\n",
        "def data_gen(year,quarter,predictions_final):\n",
        "  ''' This function return the feature for upcoming quarters\n",
        "       Features :  year, quarter,lag_1 ,lag_2 ,lag_3 ,' ' , 'covid_flag  '''\n",
        "  data_ = pd.DataFrame([[year,quarter,predictions_final['Target'].iloc[-1],\n",
        "                        predictions_final['Target'].iloc[-2],predictions_final['Target'].iloc[-4],' ',5]],\n",
        "                        columns=df.columns,index=[str(year)+'Q'+str(quarter)])\n",
        "  return data_"
      ],
      "execution_count": 27,
      "outputs": []
    },
    {
      "cell_type": "code",
      "metadata": {
        "id": "Oh2cHSiYov-W"
      },
      "source": [
        "# Predict next n quarter results\n",
        "def quarter_results(n,predictions_final):\n",
        "  ''' This function returns the prediction of upcoming n quarters\n",
        "      Input : n - No of quarters to be predicted\n",
        "              prediction_final - Output of training dataset   '''\n",
        "              \n",
        "  current_year =  predictions_final['year'].iloc[-1]\n",
        "  current_quarter  = predictions_final['quarter_'].iloc[-1]\n",
        "  for i in range(1,n+1):\n",
        "    current_quarter = current_quarter + 1\n",
        "    if current_quarter%5 == 0:\n",
        "      current_quarter = 1\n",
        "      current_year = current_year + 1\n",
        "    data_ = data_gen(current_year,current_quarter,predictions_final)\n",
        "    data_ = predict_model(tuned_model_final,data_)\n",
        "    data_['Target'] = data_['Label']\n",
        "    predictions_final = pd.concat([predictions_final,data_])\n",
        "  return predictions_final.iloc[-n:]"
      ],
      "execution_count": 28,
      "outputs": []
    },
    {
      "cell_type": "code",
      "metadata": {
        "id": "g-dk5vLInmxv"
      },
      "source": [
        "# Let's predict for the next 6 quarters\n",
        "future_prediction = quarter_results(10,predictions_final)"
      ],
      "execution_count": 29,
      "outputs": []
    },
    {
      "cell_type": "code",
      "metadata": {
        "id": "_Y0zZXjXQA1z"
      },
      "source": [
        "# Save ouput as csv file\n",
        "future_prediction[['Label']].to_csv('Prediciton.csv')"
      ],
      "execution_count": 30,
      "outputs": []
    }
  ]
}